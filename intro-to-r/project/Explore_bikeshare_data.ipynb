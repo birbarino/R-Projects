{
 "cells": [
  {
   "cell_type": "markdown",
   "metadata": {},
   "source": [
    "### Explore Bike Share Data\n",
    "\n",
    "For this project, our goal is to ask and answer three questions about the available bikeshare data from Washington, Chicago, and New York. "
   ]
  },
  {
   "cell_type": "code",
   "execution_count": 125,
   "metadata": {
    "vscode": {
     "languageId": "r"
    }
   },
   "outputs": [],
   "source": [
    "ny = read.csv('new_york_city.csv')\n",
    "wash = read.csv('washington.csv')\n",
    "chi = read.csv('chicago.csv')"
   ]
  },
  {
   "cell_type": "code",
   "execution_count": 126,
   "metadata": {
    "vscode": {
     "languageId": "r"
    }
   },
   "outputs": [
    {
     "data": {
      "text/html": [
       "<table class=\"dataframe\">\n",
       "<caption>A data.frame: 6 × 9</caption>\n",
       "<thead>\n",
       "\t<tr><th></th><th scope=col>X</th><th scope=col>Start.Time</th><th scope=col>End.Time</th><th scope=col>Trip.Duration</th><th scope=col>Start.Station</th><th scope=col>End.Station</th><th scope=col>User.Type</th><th scope=col>Gender</th><th scope=col>Birth.Year</th></tr>\n",
       "\t<tr><th></th><th scope=col>&lt;int&gt;</th><th scope=col>&lt;chr&gt;</th><th scope=col>&lt;chr&gt;</th><th scope=col>&lt;int&gt;</th><th scope=col>&lt;chr&gt;</th><th scope=col>&lt;chr&gt;</th><th scope=col>&lt;chr&gt;</th><th scope=col>&lt;chr&gt;</th><th scope=col>&lt;dbl&gt;</th></tr>\n",
       "</thead>\n",
       "<tbody>\n",
       "\t<tr><th scope=row>1</th><td>5688089</td><td>2017-06-11 14:55:05</td><td>2017-06-11 15:08:21</td><td> 795</td><td>Suffolk St &amp; Stanton St</td><td>W Broadway &amp; Spring St</td><td>Subscriber</td><td><span style=white-space:pre-wrap>Male  </span></td><td>1998</td></tr>\n",
       "\t<tr><th scope=row>2</th><td>4096714</td><td>2017-05-11 15:30:11</td><td>2017-05-11 15:41:43</td><td> 692</td><td>Lexington Ave &amp; E 63 St</td><td><span style=white-space:pre-wrap>1 Ave &amp; E 78 St       </span></td><td>Subscriber</td><td><span style=white-space:pre-wrap>Male  </span></td><td>1981</td></tr>\n",
       "\t<tr><th scope=row>3</th><td>2173887</td><td>2017-03-29 13:26:26</td><td>2017-03-29 13:48:31</td><td>1325</td><td><span style=white-space:pre-wrap>1 Pl &amp; Clinton St      </span></td><td><span style=white-space:pre-wrap>Henry St &amp; Degraw St  </span></td><td>Subscriber</td><td><span style=white-space:pre-wrap>Male  </span></td><td>1987</td></tr>\n",
       "\t<tr><th scope=row>4</th><td>3945638</td><td>2017-05-08 19:47:18</td><td>2017-05-08 19:59:01</td><td> 703</td><td><span style=white-space:pre-wrap>Barrow St &amp; Hudson St  </span></td><td><span style=white-space:pre-wrap>W 20 St &amp; 8 Ave       </span></td><td>Subscriber</td><td>Female</td><td>1986</td></tr>\n",
       "\t<tr><th scope=row>5</th><td>6208972</td><td>2017-06-21 07:49:16</td><td>2017-06-21 07:54:46</td><td> 329</td><td><span style=white-space:pre-wrap>1 Ave &amp; E 44 St        </span></td><td><span style=white-space:pre-wrap>E 53 St &amp; 3 Ave       </span></td><td>Subscriber</td><td><span style=white-space:pre-wrap>Male  </span></td><td>1992</td></tr>\n",
       "\t<tr><th scope=row>6</th><td>1285652</td><td>2017-02-22 18:55:24</td><td>2017-02-22 19:12:03</td><td> 998</td><td><span style=white-space:pre-wrap>State St &amp; Smith St    </span></td><td><span style=white-space:pre-wrap>Bond St &amp; Fulton St   </span></td><td>Subscriber</td><td><span style=white-space:pre-wrap>Male  </span></td><td>1986</td></tr>\n",
       "</tbody>\n",
       "</table>\n"
      ],
      "text/latex": [
       "A data.frame: 6 × 9\n",
       "\\begin{tabular}{r|lllllllll}\n",
       "  & X & Start.Time & End.Time & Trip.Duration & Start.Station & End.Station & User.Type & Gender & Birth.Year\\\\\n",
       "  & <int> & <chr> & <chr> & <int> & <chr> & <chr> & <chr> & <chr> & <dbl>\\\\\n",
       "\\hline\n",
       "\t1 & 5688089 & 2017-06-11 14:55:05 & 2017-06-11 15:08:21 &  795 & Suffolk St \\& Stanton St & W Broadway \\& Spring St & Subscriber & Male   & 1998\\\\\n",
       "\t2 & 4096714 & 2017-05-11 15:30:11 & 2017-05-11 15:41:43 &  692 & Lexington Ave \\& E 63 St & 1 Ave \\& E 78 St        & Subscriber & Male   & 1981\\\\\n",
       "\t3 & 2173887 & 2017-03-29 13:26:26 & 2017-03-29 13:48:31 & 1325 & 1 Pl \\& Clinton St       & Henry St \\& Degraw St   & Subscriber & Male   & 1987\\\\\n",
       "\t4 & 3945638 & 2017-05-08 19:47:18 & 2017-05-08 19:59:01 &  703 & Barrow St \\& Hudson St   & W 20 St \\& 8 Ave        & Subscriber & Female & 1986\\\\\n",
       "\t5 & 6208972 & 2017-06-21 07:49:16 & 2017-06-21 07:54:46 &  329 & 1 Ave \\& E 44 St         & E 53 St \\& 3 Ave        & Subscriber & Male   & 1992\\\\\n",
       "\t6 & 1285652 & 2017-02-22 18:55:24 & 2017-02-22 19:12:03 &  998 & State St \\& Smith St     & Bond St \\& Fulton St    & Subscriber & Male   & 1986\\\\\n",
       "\\end{tabular}\n"
      ],
      "text/markdown": [
       "\n",
       "A data.frame: 6 × 9\n",
       "\n",
       "| <!--/--> | X &lt;int&gt; | Start.Time &lt;chr&gt; | End.Time &lt;chr&gt; | Trip.Duration &lt;int&gt; | Start.Station &lt;chr&gt; | End.Station &lt;chr&gt; | User.Type &lt;chr&gt; | Gender &lt;chr&gt; | Birth.Year &lt;dbl&gt; |\n",
       "|---|---|---|---|---|---|---|---|---|---|\n",
       "| 1 | 5688089 | 2017-06-11 14:55:05 | 2017-06-11 15:08:21 |  795 | Suffolk St &amp; Stanton St | W Broadway &amp; Spring St | Subscriber | Male   | 1998 |\n",
       "| 2 | 4096714 | 2017-05-11 15:30:11 | 2017-05-11 15:41:43 |  692 | Lexington Ave &amp; E 63 St | 1 Ave &amp; E 78 St        | Subscriber | Male   | 1981 |\n",
       "| 3 | 2173887 | 2017-03-29 13:26:26 | 2017-03-29 13:48:31 | 1325 | 1 Pl &amp; Clinton St       | Henry St &amp; Degraw St   | Subscriber | Male   | 1987 |\n",
       "| 4 | 3945638 | 2017-05-08 19:47:18 | 2017-05-08 19:59:01 |  703 | Barrow St &amp; Hudson St   | W 20 St &amp; 8 Ave        | Subscriber | Female | 1986 |\n",
       "| 5 | 6208972 | 2017-06-21 07:49:16 | 2017-06-21 07:54:46 |  329 | 1 Ave &amp; E 44 St         | E 53 St &amp; 3 Ave        | Subscriber | Male   | 1992 |\n",
       "| 6 | 1285652 | 2017-02-22 18:55:24 | 2017-02-22 19:12:03 |  998 | State St &amp; Smith St     | Bond St &amp; Fulton St    | Subscriber | Male   | 1986 |\n",
       "\n"
      ],
      "text/plain": [
       "  X       Start.Time          End.Time            Trip.Duration\n",
       "1 5688089 2017-06-11 14:55:05 2017-06-11 15:08:21  795         \n",
       "2 4096714 2017-05-11 15:30:11 2017-05-11 15:41:43  692         \n",
       "3 2173887 2017-03-29 13:26:26 2017-03-29 13:48:31 1325         \n",
       "4 3945638 2017-05-08 19:47:18 2017-05-08 19:59:01  703         \n",
       "5 6208972 2017-06-21 07:49:16 2017-06-21 07:54:46  329         \n",
       "6 1285652 2017-02-22 18:55:24 2017-02-22 19:12:03  998         \n",
       "  Start.Station           End.Station            User.Type  Gender Birth.Year\n",
       "1 Suffolk St & Stanton St W Broadway & Spring St Subscriber Male   1998      \n",
       "2 Lexington Ave & E 63 St 1 Ave & E 78 St        Subscriber Male   1981      \n",
       "3 1 Pl & Clinton St       Henry St & Degraw St   Subscriber Male   1987      \n",
       "4 Barrow St & Hudson St   W 20 St & 8 Ave        Subscriber Female 1986      \n",
       "5 1 Ave & E 44 St         E 53 St & 3 Ave        Subscriber Male   1992      \n",
       "6 State St & Smith St     Bond St & Fulton St    Subscriber Male   1986      "
      ]
     },
     "metadata": {},
     "output_type": "display_data"
    }
   ],
   "source": [
    "head(ny)"
   ]
  },
  {
   "cell_type": "code",
   "execution_count": 127,
   "metadata": {
    "vscode": {
     "languageId": "r"
    }
   },
   "outputs": [
    {
     "data": {
      "text/html": [
       "<table class=\"dataframe\">\n",
       "<caption>A data.frame: 6 × 7</caption>\n",
       "<thead>\n",
       "\t<tr><th></th><th scope=col>X</th><th scope=col>Start.Time</th><th scope=col>End.Time</th><th scope=col>Trip.Duration</th><th scope=col>Start.Station</th><th scope=col>End.Station</th><th scope=col>User.Type</th></tr>\n",
       "\t<tr><th></th><th scope=col>&lt;int&gt;</th><th scope=col>&lt;chr&gt;</th><th scope=col>&lt;chr&gt;</th><th scope=col>&lt;dbl&gt;</th><th scope=col>&lt;chr&gt;</th><th scope=col>&lt;chr&gt;</th><th scope=col>&lt;chr&gt;</th></tr>\n",
       "</thead>\n",
       "<tbody>\n",
       "\t<tr><th scope=row>1</th><td>1621326</td><td>2017-06-21 08:36:34</td><td>2017-06-21 08:44:43</td><td> 489.066</td><td><span style=white-space:pre-wrap>14th &amp; Belmont St NW                       </span></td><td><span style=white-space:pre-wrap>15th &amp; K St NW                                     </span></td><td>Subscriber</td></tr>\n",
       "\t<tr><th scope=row>2</th><td> 482740</td><td>2017-03-11 10:40:00</td><td>2017-03-11 10:46:00</td><td> 402.549</td><td><span style=white-space:pre-wrap>Yuma St &amp; Tenley Circle NW                 </span></td><td><span style=white-space:pre-wrap>Connecticut Ave &amp; Yuma St NW                       </span></td><td>Subscriber</td></tr>\n",
       "\t<tr><th scope=row>3</th><td>1330037</td><td>2017-05-30 01:02:59</td><td>2017-05-30 01:13:37</td><td> 637.251</td><td><span style=white-space:pre-wrap>17th St &amp; Massachusetts Ave NW             </span></td><td><span style=white-space:pre-wrap>5th &amp; K St NW                                      </span></td><td>Subscriber</td></tr>\n",
       "\t<tr><th scope=row>4</th><td> 665458</td><td>2017-04-02 07:48:35</td><td>2017-04-02 08:19:03</td><td>1827.341</td><td><span style=white-space:pre-wrap>Constitution Ave &amp; 2nd St NW/DOL           </span></td><td><span style=white-space:pre-wrap>M St &amp; Pennsylvania Ave NW                         </span></td><td><span style=white-space:pre-wrap>Customer  </span></td></tr>\n",
       "\t<tr><th scope=row>5</th><td>1481135</td><td>2017-06-10 08:36:28</td><td>2017-06-10 09:02:17</td><td>1549.427</td><td>Henry Bacon Dr &amp; Lincoln Memorial Circle NW</td><td><span style=white-space:pre-wrap>Maine Ave &amp; 7th St SW                              </span></td><td>Subscriber</td></tr>\n",
       "\t<tr><th scope=row>6</th><td>1148202</td><td>2017-05-14 07:18:18</td><td>2017-05-14 07:24:56</td><td> 398.000</td><td><span style=white-space:pre-wrap>1st &amp; K St SE                              </span></td><td>Eastern Market Metro / Pennsylvania Ave &amp; 7th St SE</td><td>Subscriber</td></tr>\n",
       "</tbody>\n",
       "</table>\n"
      ],
      "text/latex": [
       "A data.frame: 6 × 7\n",
       "\\begin{tabular}{r|lllllll}\n",
       "  & X & Start.Time & End.Time & Trip.Duration & Start.Station & End.Station & User.Type\\\\\n",
       "  & <int> & <chr> & <chr> & <dbl> & <chr> & <chr> & <chr>\\\\\n",
       "\\hline\n",
       "\t1 & 1621326 & 2017-06-21 08:36:34 & 2017-06-21 08:44:43 &  489.066 & 14th \\& Belmont St NW                        & 15th \\& K St NW                                      & Subscriber\\\\\n",
       "\t2 &  482740 & 2017-03-11 10:40:00 & 2017-03-11 10:46:00 &  402.549 & Yuma St \\& Tenley Circle NW                  & Connecticut Ave \\& Yuma St NW                        & Subscriber\\\\\n",
       "\t3 & 1330037 & 2017-05-30 01:02:59 & 2017-05-30 01:13:37 &  637.251 & 17th St \\& Massachusetts Ave NW              & 5th \\& K St NW                                       & Subscriber\\\\\n",
       "\t4 &  665458 & 2017-04-02 07:48:35 & 2017-04-02 08:19:03 & 1827.341 & Constitution Ave \\& 2nd St NW/DOL            & M St \\& Pennsylvania Ave NW                          & Customer  \\\\\n",
       "\t5 & 1481135 & 2017-06-10 08:36:28 & 2017-06-10 09:02:17 & 1549.427 & Henry Bacon Dr \\& Lincoln Memorial Circle NW & Maine Ave \\& 7th St SW                               & Subscriber\\\\\n",
       "\t6 & 1148202 & 2017-05-14 07:18:18 & 2017-05-14 07:24:56 &  398.000 & 1st \\& K St SE                               & Eastern Market Metro / Pennsylvania Ave \\& 7th St SE & Subscriber\\\\\n",
       "\\end{tabular}\n"
      ],
      "text/markdown": [
       "\n",
       "A data.frame: 6 × 7\n",
       "\n",
       "| <!--/--> | X &lt;int&gt; | Start.Time &lt;chr&gt; | End.Time &lt;chr&gt; | Trip.Duration &lt;dbl&gt; | Start.Station &lt;chr&gt; | End.Station &lt;chr&gt; | User.Type &lt;chr&gt; |\n",
       "|---|---|---|---|---|---|---|---|\n",
       "| 1 | 1621326 | 2017-06-21 08:36:34 | 2017-06-21 08:44:43 |  489.066 | 14th &amp; Belmont St NW                        | 15th &amp; K St NW                                      | Subscriber |\n",
       "| 2 |  482740 | 2017-03-11 10:40:00 | 2017-03-11 10:46:00 |  402.549 | Yuma St &amp; Tenley Circle NW                  | Connecticut Ave &amp; Yuma St NW                        | Subscriber |\n",
       "| 3 | 1330037 | 2017-05-30 01:02:59 | 2017-05-30 01:13:37 |  637.251 | 17th St &amp; Massachusetts Ave NW              | 5th &amp; K St NW                                       | Subscriber |\n",
       "| 4 |  665458 | 2017-04-02 07:48:35 | 2017-04-02 08:19:03 | 1827.341 | Constitution Ave &amp; 2nd St NW/DOL            | M St &amp; Pennsylvania Ave NW                          | Customer   |\n",
       "| 5 | 1481135 | 2017-06-10 08:36:28 | 2017-06-10 09:02:17 | 1549.427 | Henry Bacon Dr &amp; Lincoln Memorial Circle NW | Maine Ave &amp; 7th St SW                               | Subscriber |\n",
       "| 6 | 1148202 | 2017-05-14 07:18:18 | 2017-05-14 07:24:56 |  398.000 | 1st &amp; K St SE                               | Eastern Market Metro / Pennsylvania Ave &amp; 7th St SE | Subscriber |\n",
       "\n"
      ],
      "text/plain": [
       "  X       Start.Time          End.Time            Trip.Duration\n",
       "1 1621326 2017-06-21 08:36:34 2017-06-21 08:44:43  489.066     \n",
       "2  482740 2017-03-11 10:40:00 2017-03-11 10:46:00  402.549     \n",
       "3 1330037 2017-05-30 01:02:59 2017-05-30 01:13:37  637.251     \n",
       "4  665458 2017-04-02 07:48:35 2017-04-02 08:19:03 1827.341     \n",
       "5 1481135 2017-06-10 08:36:28 2017-06-10 09:02:17 1549.427     \n",
       "6 1148202 2017-05-14 07:18:18 2017-05-14 07:24:56  398.000     \n",
       "  Start.Station                              \n",
       "1 14th & Belmont St NW                       \n",
       "2 Yuma St & Tenley Circle NW                 \n",
       "3 17th St & Massachusetts Ave NW             \n",
       "4 Constitution Ave & 2nd St NW/DOL           \n",
       "5 Henry Bacon Dr & Lincoln Memorial Circle NW\n",
       "6 1st & K St SE                              \n",
       "  End.Station                                         User.Type \n",
       "1 15th & K St NW                                      Subscriber\n",
       "2 Connecticut Ave & Yuma St NW                        Subscriber\n",
       "3 5th & K St NW                                       Subscriber\n",
       "4 M St & Pennsylvania Ave NW                          Customer  \n",
       "5 Maine Ave & 7th St SW                               Subscriber\n",
       "6 Eastern Market Metro / Pennsylvania Ave & 7th St SE Subscriber"
      ]
     },
     "metadata": {},
     "output_type": "display_data"
    }
   ],
   "source": [
    "head(wash)"
   ]
  },
  {
   "cell_type": "code",
   "execution_count": 128,
   "metadata": {
    "vscode": {
     "languageId": "r"
    }
   },
   "outputs": [
    {
     "data": {
      "text/html": [
       "<table class=\"dataframe\">\n",
       "<caption>A data.frame: 6 × 9</caption>\n",
       "<thead>\n",
       "\t<tr><th></th><th scope=col>X</th><th scope=col>Start.Time</th><th scope=col>End.Time</th><th scope=col>Trip.Duration</th><th scope=col>Start.Station</th><th scope=col>End.Station</th><th scope=col>User.Type</th><th scope=col>Gender</th><th scope=col>Birth.Year</th></tr>\n",
       "\t<tr><th></th><th scope=col>&lt;int&gt;</th><th scope=col>&lt;chr&gt;</th><th scope=col>&lt;chr&gt;</th><th scope=col>&lt;int&gt;</th><th scope=col>&lt;chr&gt;</th><th scope=col>&lt;chr&gt;</th><th scope=col>&lt;chr&gt;</th><th scope=col>&lt;chr&gt;</th><th scope=col>&lt;dbl&gt;</th></tr>\n",
       "</thead>\n",
       "<tbody>\n",
       "\t<tr><th scope=row>1</th><td>1423854</td><td>2017-06-23 15:09:32</td><td>2017-06-23 15:14:53</td><td> 321</td><td><span style=white-space:pre-wrap>Wood St &amp; Hubbard St         </span></td><td><span style=white-space:pre-wrap>Damen Ave &amp; Chicago Ave     </span></td><td>Subscriber</td><td><span style=white-space:pre-wrap>Male  </span></td><td>1992</td></tr>\n",
       "\t<tr><th scope=row>2</th><td> 955915</td><td>2017-05-25 18:19:03</td><td>2017-05-25 18:45:53</td><td>1610</td><td><span style=white-space:pre-wrap>Theater on the Lake          </span></td><td>Sheffield Ave &amp; Waveland Ave</td><td>Subscriber</td><td>Female</td><td>1992</td></tr>\n",
       "\t<tr><th scope=row>3</th><td><span style=white-space:pre-wrap>   9031</span></td><td>2017-01-04 08:27:49</td><td>2017-01-04 08:34:45</td><td> 416</td><td><span style=white-space:pre-wrap>May St &amp; Taylor St           </span></td><td><span style=white-space:pre-wrap>Wood St &amp; Taylor St         </span></td><td>Subscriber</td><td><span style=white-space:pre-wrap>Male  </span></td><td>1981</td></tr>\n",
       "\t<tr><th scope=row>4</th><td> 304487</td><td>2017-03-06 13:49:38</td><td>2017-03-06 13:55:28</td><td> 350</td><td>Christiana Ave &amp; Lawrence Ave</td><td>St. Louis Ave &amp; Balmoral Ave</td><td>Subscriber</td><td><span style=white-space:pre-wrap>Male  </span></td><td>1986</td></tr>\n",
       "\t<tr><th scope=row>5</th><td><span style=white-space:pre-wrap>  45207</span></td><td>2017-01-17 14:53:07</td><td>2017-01-17 15:02:01</td><td> 534</td><td><span style=white-space:pre-wrap>Clark St &amp; Randolph St       </span></td><td>Desplaines St &amp; Jackson Blvd</td><td>Subscriber</td><td><span style=white-space:pre-wrap>Male  </span></td><td>1975</td></tr>\n",
       "\t<tr><th scope=row>6</th><td>1473887</td><td>2017-06-26 09:01:20</td><td>2017-06-26 09:11:06</td><td> 586</td><td>Clinton St &amp; Washington Blvd </td><td><span style=white-space:pre-wrap>Canal St &amp; Taylor St        </span></td><td>Subscriber</td><td><span style=white-space:pre-wrap>Male  </span></td><td>1990</td></tr>\n",
       "</tbody>\n",
       "</table>\n"
      ],
      "text/latex": [
       "A data.frame: 6 × 9\n",
       "\\begin{tabular}{r|lllllllll}\n",
       "  & X & Start.Time & End.Time & Trip.Duration & Start.Station & End.Station & User.Type & Gender & Birth.Year\\\\\n",
       "  & <int> & <chr> & <chr> & <int> & <chr> & <chr> & <chr> & <chr> & <dbl>\\\\\n",
       "\\hline\n",
       "\t1 & 1423854 & 2017-06-23 15:09:32 & 2017-06-23 15:14:53 &  321 & Wood St \\& Hubbard St          & Damen Ave \\& Chicago Ave      & Subscriber & Male   & 1992\\\\\n",
       "\t2 &  955915 & 2017-05-25 18:19:03 & 2017-05-25 18:45:53 & 1610 & Theater on the Lake           & Sheffield Ave \\& Waveland Ave & Subscriber & Female & 1992\\\\\n",
       "\t3 &    9031 & 2017-01-04 08:27:49 & 2017-01-04 08:34:45 &  416 & May St \\& Taylor St            & Wood St \\& Taylor St          & Subscriber & Male   & 1981\\\\\n",
       "\t4 &  304487 & 2017-03-06 13:49:38 & 2017-03-06 13:55:28 &  350 & Christiana Ave \\& Lawrence Ave & St. Louis Ave \\& Balmoral Ave & Subscriber & Male   & 1986\\\\\n",
       "\t5 &   45207 & 2017-01-17 14:53:07 & 2017-01-17 15:02:01 &  534 & Clark St \\& Randolph St        & Desplaines St \\& Jackson Blvd & Subscriber & Male   & 1975\\\\\n",
       "\t6 & 1473887 & 2017-06-26 09:01:20 & 2017-06-26 09:11:06 &  586 & Clinton St \\& Washington Blvd  & Canal St \\& Taylor St         & Subscriber & Male   & 1990\\\\\n",
       "\\end{tabular}\n"
      ],
      "text/markdown": [
       "\n",
       "A data.frame: 6 × 9\n",
       "\n",
       "| <!--/--> | X &lt;int&gt; | Start.Time &lt;chr&gt; | End.Time &lt;chr&gt; | Trip.Duration &lt;int&gt; | Start.Station &lt;chr&gt; | End.Station &lt;chr&gt; | User.Type &lt;chr&gt; | Gender &lt;chr&gt; | Birth.Year &lt;dbl&gt; |\n",
       "|---|---|---|---|---|---|---|---|---|---|\n",
       "| 1 | 1423854 | 2017-06-23 15:09:32 | 2017-06-23 15:14:53 |  321 | Wood St &amp; Hubbard St          | Damen Ave &amp; Chicago Ave      | Subscriber | Male   | 1992 |\n",
       "| 2 |  955915 | 2017-05-25 18:19:03 | 2017-05-25 18:45:53 | 1610 | Theater on the Lake           | Sheffield Ave &amp; Waveland Ave | Subscriber | Female | 1992 |\n",
       "| 3 |    9031 | 2017-01-04 08:27:49 | 2017-01-04 08:34:45 |  416 | May St &amp; Taylor St            | Wood St &amp; Taylor St          | Subscriber | Male   | 1981 |\n",
       "| 4 |  304487 | 2017-03-06 13:49:38 | 2017-03-06 13:55:28 |  350 | Christiana Ave &amp; Lawrence Ave | St. Louis Ave &amp; Balmoral Ave | Subscriber | Male   | 1986 |\n",
       "| 5 |   45207 | 2017-01-17 14:53:07 | 2017-01-17 15:02:01 |  534 | Clark St &amp; Randolph St        | Desplaines St &amp; Jackson Blvd | Subscriber | Male   | 1975 |\n",
       "| 6 | 1473887 | 2017-06-26 09:01:20 | 2017-06-26 09:11:06 |  586 | Clinton St &amp; Washington Blvd  | Canal St &amp; Taylor St         | Subscriber | Male   | 1990 |\n",
       "\n"
      ],
      "text/plain": [
       "  X       Start.Time          End.Time            Trip.Duration\n",
       "1 1423854 2017-06-23 15:09:32 2017-06-23 15:14:53  321         \n",
       "2  955915 2017-05-25 18:19:03 2017-05-25 18:45:53 1610         \n",
       "3    9031 2017-01-04 08:27:49 2017-01-04 08:34:45  416         \n",
       "4  304487 2017-03-06 13:49:38 2017-03-06 13:55:28  350         \n",
       "5   45207 2017-01-17 14:53:07 2017-01-17 15:02:01  534         \n",
       "6 1473887 2017-06-26 09:01:20 2017-06-26 09:11:06  586         \n",
       "  Start.Station                 End.Station                  User.Type  Gender\n",
       "1 Wood St & Hubbard St          Damen Ave & Chicago Ave      Subscriber Male  \n",
       "2 Theater on the Lake           Sheffield Ave & Waveland Ave Subscriber Female\n",
       "3 May St & Taylor St            Wood St & Taylor St          Subscriber Male  \n",
       "4 Christiana Ave & Lawrence Ave St. Louis Ave & Balmoral Ave Subscriber Male  \n",
       "5 Clark St & Randolph St        Desplaines St & Jackson Blvd Subscriber Male  \n",
       "6 Clinton St & Washington Blvd  Canal St & Taylor St         Subscriber Male  \n",
       "  Birth.Year\n",
       "1 1992      \n",
       "2 1992      \n",
       "3 1981      \n",
       "4 1986      \n",
       "5 1975      \n",
       "6 1990      "
      ]
     },
     "metadata": {},
     "output_type": "display_data"
    }
   ],
   "source": [
    "head(chi)"
   ]
  },
  {
   "cell_type": "markdown",
   "metadata": {},
   "source": [
    "### Question 1\n",
    "\n",
    "\n",
    "**What are the most common hours of use and dismount?**\n",
    "\n",
    "This question is seeking clarity on what the most common start and end times are for biking sessions. This can enlighten us on when the \"rush hours\" are. We'll do this by extracting the hour out of the `Start.Time` and `End.Time` fields, then simply see which number is the most prevalent. It is not specified if the timezone is local for the timestamps, so it is assumed that they are."
   ]
  },
  {
   "cell_type": "code",
   "execution_count": 129,
   "metadata": {
    "vscode": {
     "languageId": "r"
    }
   },
   "outputs": [],
   "source": [
    "# Setting text size and loading ggplot\n",
    "library(ggplot2)\n",
    "theme_set(theme_minimal(22))"
   ]
  },
  {
   "cell_type": "code",
   "execution_count": 130,
   "metadata": {
    "vscode": {
     "languageId": "r"
    }
   },
   "outputs": [],
   "source": [
    "Modes <- function(x) {\n",
    "  ux <- unique(x)\n",
    "  tab <- tabulate(match(x, ux))\n",
    "  ux[tab == max(tab)]\n",
    "}\n",
    "\n",
    "# thanks, StackOverflow (Ken Williams) - https://stackoverflow.com/questions/2547402/how-to-find-the-statistical-mode"
   ]
  },
  {
   "cell_type": "markdown",
   "metadata": {},
   "source": [
    "Now that we can calculate the mode, lets apply it to our start and end times for NYC. We'll also check our results out."
   ]
  },
  {
   "cell_type": "code",
   "execution_count": 131,
   "metadata": {
    "vscode": {
     "languageId": "r"
    }
   },
   "outputs": [
    {
     "data": {
      "text/html": [
       "17"
      ],
      "text/latex": [
       "17"
      ],
      "text/markdown": [
       "17"
      ],
      "text/plain": [
       "[1] 17"
      ]
     },
     "metadata": {},
     "output_type": "display_data"
    },
    {
     "data": {
      "text/html": [
       "18"
      ],
      "text/latex": [
       "18"
      ],
      "text/markdown": [
       "18"
      ],
      "text/plain": [
       "[1] 18"
      ]
     },
     "metadata": {},
     "output_type": "display_data"
    }
   ],
   "source": [
    "ny_start <- as.integer(substr(ny$Start.Time, 11, 13))  # index of hour portion of timestamp string\n",
    "ny_end <- as.integer(substr(ny$End.Time, 11, 13))\n",
    "\n",
    "# Calculate the statistical mode, getting the most frequent hour (24hr format)\n",
    "Modes(ny_start)\n",
    "Modes(ny_end)"
   ]
  },
  {
   "cell_type": "markdown",
   "metadata": {},
   "source": [
    "Now lets do that for the rest of the cities"
   ]
  },
  {
   "cell_type": "code",
   "execution_count": 132,
   "metadata": {
    "vscode": {
     "languageId": "r"
    }
   },
   "outputs": [
    {
     "data": {
      "text/html": [
       "8"
      ],
      "text/latex": [
       "8"
      ],
      "text/markdown": [
       "8"
      ],
      "text/plain": [
       "[1] 8"
      ]
     },
     "metadata": {},
     "output_type": "display_data"
    },
    {
     "data": {
      "text/html": [
       "8"
      ],
      "text/latex": [
       "8"
      ],
      "text/markdown": [
       "8"
      ],
      "text/plain": [
       "[1] 8"
      ]
     },
     "metadata": {},
     "output_type": "display_data"
    }
   ],
   "source": [
    "wash_start <- as.integer(substr(wash$Start.Time, 11, 13))  # index of hour portion of string\n",
    "wash_end <- as.integer(substr(wash$End.Time, 11, 13))\n",
    "Modes(wash_start)\n",
    "Modes(wash_end)"
   ]
  },
  {
   "cell_type": "code",
   "execution_count": 133,
   "metadata": {
    "vscode": {
     "languageId": "r"
    }
   },
   "outputs": [
    {
     "data": {
      "text/html": [
       "17"
      ],
      "text/latex": [
       "17"
      ],
      "text/markdown": [
       "17"
      ],
      "text/plain": [
       "[1] 17"
      ]
     },
     "metadata": {},
     "output_type": "display_data"
    },
    {
     "data": {
      "text/html": [
       "17"
      ],
      "text/latex": [
       "17"
      ],
      "text/markdown": [
       "17"
      ],
      "text/plain": [
       "[1] 17"
      ]
     },
     "metadata": {},
     "output_type": "display_data"
    }
   ],
   "source": [
    "chi_start <- as.integer(substr(chi$Start.Time, 11, 13))  # index of hour portion of string\n",
    "chi_end <- as.integer(substr(chi$End.Time, 11, 13))\n",
    "Modes(chi_start)\n",
    "Modes(chi_end)"
   ]
  },
  {
   "cell_type": "markdown",
   "metadata": {},
   "source": [
    "I think a helpful way to visualize these results might be a bar chart, since the data is categorical/discrete in both axes. We'll get our data into an easy-to-use format by instantiating some simple `data.frames`."
   ]
  },
  {
   "cell_type": "code",
   "execution_count": 134,
   "metadata": {
    "vscode": {
     "languageId": "r"
    }
   },
   "outputs": [],
   "source": [
    "start_df <- data.frame (\n",
    "    city = c(\"NewYorkCity\", \"WashingtonDC\", \"Chicago\"),\n",
    "    mode = c(Modes(ny_start), Modes(wash_start), Modes(chi_start))\n",
    ")\n",
    "\n",
    "end_df <- data.frame (\n",
    "    city = c(\"NewYorkCity\", \"WashingtonDC\", \"Chicago\"),\n",
    "    mode = c(Modes(ny_end), Modes(wash_end), Modes(chi_end))\n",
    ")"
   ]
  },
  {
   "cell_type": "code",
   "execution_count": 135,
   "metadata": {
    "vscode": {
     "languageId": "r"
    }
   },
   "outputs": [
    {
     "data": {
      "text/html": [
       "<table class=\"dataframe\">\n",
       "<caption>A data.frame: 3 × 2</caption>\n",
       "<thead>\n",
       "\t<tr><th scope=col>city</th><th scope=col>mode</th></tr>\n",
       "\t<tr><th scope=col>&lt;chr&gt;</th><th scope=col>&lt;int&gt;</th></tr>\n",
       "</thead>\n",
       "<tbody>\n",
       "\t<tr><td>NewYorkCity </td><td>17</td></tr>\n",
       "\t<tr><td>WashingtonDC</td><td> 8</td></tr>\n",
       "\t<tr><td>Chicago     </td><td>17</td></tr>\n",
       "</tbody>\n",
       "</table>\n"
      ],
      "text/latex": [
       "A data.frame: 3 × 2\n",
       "\\begin{tabular}{ll}\n",
       " city & mode\\\\\n",
       " <chr> & <int>\\\\\n",
       "\\hline\n",
       "\t NewYorkCity  & 17\\\\\n",
       "\t WashingtonDC &  8\\\\\n",
       "\t Chicago      & 17\\\\\n",
       "\\end{tabular}\n"
      ],
      "text/markdown": [
       "\n",
       "A data.frame: 3 × 2\n",
       "\n",
       "| city &lt;chr&gt; | mode &lt;int&gt; |\n",
       "|---|---|\n",
       "| NewYorkCity  | 17 |\n",
       "| WashingtonDC |  8 |\n",
       "| Chicago      | 17 |\n",
       "\n"
      ],
      "text/plain": [
       "  city         mode\n",
       "1 NewYorkCity  17  \n",
       "2 WashingtonDC  8  \n",
       "3 Chicago      17  "
      ]
     },
     "metadata": {},
     "output_type": "display_data"
    },
    {
     "data": {
      "text/html": [
       "<table class=\"dataframe\">\n",
       "<caption>A data.frame: 3 × 2</caption>\n",
       "<thead>\n",
       "\t<tr><th scope=col>city</th><th scope=col>mode</th></tr>\n",
       "\t<tr><th scope=col>&lt;chr&gt;</th><th scope=col>&lt;int&gt;</th></tr>\n",
       "</thead>\n",
       "<tbody>\n",
       "\t<tr><td>NewYorkCity </td><td>18</td></tr>\n",
       "\t<tr><td>WashingtonDC</td><td> 8</td></tr>\n",
       "\t<tr><td>Chicago     </td><td>17</td></tr>\n",
       "</tbody>\n",
       "</table>\n"
      ],
      "text/latex": [
       "A data.frame: 3 × 2\n",
       "\\begin{tabular}{ll}\n",
       " city & mode\\\\\n",
       " <chr> & <int>\\\\\n",
       "\\hline\n",
       "\t NewYorkCity  & 18\\\\\n",
       "\t WashingtonDC &  8\\\\\n",
       "\t Chicago      & 17\\\\\n",
       "\\end{tabular}\n"
      ],
      "text/markdown": [
       "\n",
       "A data.frame: 3 × 2\n",
       "\n",
       "| city &lt;chr&gt; | mode &lt;int&gt; |\n",
       "|---|---|\n",
       "| NewYorkCity  | 18 |\n",
       "| WashingtonDC |  8 |\n",
       "| Chicago      | 17 |\n",
       "\n"
      ],
      "text/plain": [
       "  city         mode\n",
       "1 NewYorkCity  18  \n",
       "2 WashingtonDC  8  \n",
       "3 Chicago      17  "
      ]
     },
     "metadata": {},
     "output_type": "display_data"
    }
   ],
   "source": [
    "# Here is what those simple data frames look like\n",
    "start_df\n",
    "end_df"
   ]
  },
  {
   "cell_type": "markdown",
   "metadata": {},
   "source": [
    "Now we can make our bar graphs"
   ]
  },
  {
   "cell_type": "code",
   "execution_count": 136,
   "metadata": {
    "vscode": {
     "languageId": "r"
    }
   },
   "outputs": [
    {
     "data": {
      "image/png": "[encoded data removed]",
      "text/plain": [
       "plot without title"
      ]
     },
     "metadata": {
      "image/png": {
       "height": 420,
       "width": 420
      }
     },
     "output_type": "display_data"
    }
   ],
   "source": [
    "ggplot(aes(x=city, y=mode, fill=city), data=start_df) +\n",
    "    ggtitle(\"Mode of Ride Start Time\") +\n",
    "    geom_bar(stat='identity', show.legend=FALSE) +\n",
    "    scale_fill_brewer(palette='Paired') + # set color palette\n",
    "    geom_text(aes(label=mode), vjust=1.6, color='white', size=8) # place number on bar\n",
    "    \n",
    "    "
   ]
  },
  {
   "cell_type": "code",
   "execution_count": 137,
   "metadata": {
    "vscode": {
     "languageId": "r"
    }
   },
   "outputs": [
    {
     "data": {
      "image/png": "[encoded data removed]",
      "text/plain": [
       "plot without title"
      ]
     },
     "metadata": {
      "image/png": {
       "height": 420,
       "width": 420
      }
     },
     "output_type": "display_data"
    }
   ],
   "source": [
    "ggplot(aes(x=city, y=mode, fill=city), data=end_df) +\n",
    "    geom_bar(stat='identity', show.legend=FALSE) +\n",
    "    ggtitle(\"Mode of Ride End Time\") +\n",
    "    scale_fill_brewer(palette='Dark2') + \n",
    "    geom_text(aes(label=mode), vjust=1.6, color='white', size=8) \n",
    "    "
   ]
  },
  {
   "cell_type": "markdown",
   "metadata": {},
   "source": [
    "**Summary for #1**\n",
    "\n",
    "For question 1, we can observe that Chicago's modes for the start and end time were 17, NYC had 17 for start and 18 for end, and DC had 8 for both times.\n",
    "\n",
    "This indicates that most sessions start by 5 PM local in Chicago and NYC and end around that same time, so in the evening rush hour. Meanwhile, DC seems to have more usage in the mornings, as indicated by the mode of 8 AM local."
   ]
  },
  {
   "cell_type": "markdown",
   "metadata": {},
   "source": [
    "### Question 2\n",
    "\n",
    "**What are the mean and median for Trip.Duration?**\n",
    "\n",
    "Thankfully, this can be easily calculated via the `summary()` function. Based on the output, as well as considering a "
   ]
  },
  {
   "cell_type": "code",
   "execution_count": 138,
   "metadata": {
    "vscode": {
     "languageId": "r"
    }
   },
   "outputs": [
    {
     "data": {
      "text/plain": [
       "     Min.   1st Qu.    Median      Mean   3rd Qu.      Max.      NA's \n",
       "     61.0     368.0     610.0     903.6    1051.0 1088634.0         1 "
      ]
     },
     "metadata": {},
     "output_type": "display_data"
    }
   ],
   "source": [
    "summary(ny$Trip.Duration)"
   ]
  },
  {
   "cell_type": "code",
   "execution_count": 139,
   "metadata": {
    "vscode": {
     "languageId": "r"
    }
   },
   "outputs": [
    {
     "data": {
      "text/plain": [
       "     Min.   1st Qu.    Median      Mean   3rd Qu.      Max.      NA's \n",
       "    60.27    410.89    706.99   1233.95   1233.22 904591.38         1 "
      ]
     },
     "metadata": {},
     "output_type": "display_data"
    }
   ],
   "source": [
    "summary(wash$Trip.Duration)"
   ]
  },
  {
   "cell_type": "code",
   "execution_count": 140,
   "metadata": {
    "vscode": {
     "languageId": "r"
    }
   },
   "outputs": [
    {
     "data": {
      "text/plain": [
       "   Min. 1st Qu.  Median    Mean 3rd Qu.    Max. \n",
       "   60.0   394.2   670.0   937.2  1119.0 85408.0 "
      ]
     },
     "metadata": {},
     "output_type": "display_data"
    }
   ],
   "source": [
    "summary(chi$Trip.Duration)"
   ]
  },
  {
   "cell_type": "markdown",
   "metadata": {},
   "source": [
    "Note that the quartiles and median are all relatively close, but the maximum values for each is quite ridiculous. I wonder how many days those all are..."
   ]
  },
  {
   "cell_type": "code",
   "execution_count": 141,
   "metadata": {
    "vscode": {
     "languageId": "r"
    }
   },
   "outputs": [
    {
     "data": {
      "text/html": [
       "12.5999305555556"
      ],
      "text/latex": [
       "12.5999305555556"
      ],
      "text/markdown": [
       "12.5999305555556"
      ],
      "text/plain": [
       "[1] 12.59993"
      ]
     },
     "metadata": {},
     "output_type": "display_data"
    },
    {
     "data": {
      "text/html": [
       "10.4698076851852"
      ],
      "text/latex": [
       "10.4698076851852"
      ],
      "text/markdown": [
       "10.4698076851852"
      ],
      "text/plain": [
       "[1] 10.46981"
      ]
     },
     "metadata": {},
     "output_type": "display_data"
    },
    {
     "data": {
      "text/html": [
       "0.988518518518518"
      ],
      "text/latex": [
       "0.988518518518518"
      ],
      "text/markdown": [
       "0.988518518518518"
      ],
      "text/plain": [
       "[1] 0.9885185"
      ]
     },
     "metadata": {},
     "output_type": "display_data"
    }
   ],
   "source": [
    "# Coverts seconds to minutes, then hours, then days and returns final result.\n",
    "sec_to_days <- function(sec) {\n",
    "    return (((sec / 60) / 60) / 24)\n",
    "}\n",
    "\n",
    "# Pass the maximum trip duration, ignoring NULLs\n",
    "sec_to_days(max(ny$Trip.Duration, na.rm = TRUE))\n",
    "sec_to_days(max(wash$Trip.Duration, na.rm = TRUE))\n",
    "sec_to_days(max(chi$Trip.Duration, na.rm = TRUE))"
   ]
  },
  {
   "cell_type": "markdown",
   "metadata": {},
   "source": [
    "Looking at some box plots, we see a significant number of outliers."
   ]
  },
  {
   "cell_type": "code",
   "execution_count": 142,
   "metadata": {
    "vscode": {
     "languageId": "r"
    }
   },
   "outputs": [],
   "source": [
    "# Data frame for simplifying visualization creation\n",
    "trips <- data.frame(\n",
    "    city = c(\"NewYorkCity\", \"WashingtonDC\", \"Chicago\"),\n",
    "    trip_dur = c(ny$Trip.Duration, wash$Trip.Duration, chi$Trip.Duration)\n",
    ")"
   ]
  },
  {
   "cell_type": "code",
   "execution_count": 143,
   "metadata": {
    "vscode": {
     "languageId": "r"
    }
   },
   "outputs": [
    {
     "data": {
      "image/png": "[encoded data removed]",
      "text/plain": [
       "plot without title"
      ]
     },
     "metadata": {
      "image/png": {
       "height": 420,
       "width": 420
      }
     },
     "output_type": "display_data"
    }
   ],
   "source": [
    "ggplot(aes(x=city, y=trip_dur), data=subset(trips, !is.na(trip_dur))) +\n",
    "    ggtitle(\"Bike Share Trip Durations\") +\n",
    "    geom_boxplot()"
   ]
  },
  {
   "cell_type": "markdown",
   "metadata": {},
   "source": [
    "Let's set some limits on the y-axis..."
   ]
  },
  {
   "cell_type": "code",
   "execution_count": 144,
   "metadata": {
    "vscode": {
     "languageId": "r"
    }
   },
   "outputs": [
    {
     "data": {
      "image/png": "[encoded data removed]",
      "text/plain": [
       "plot without title"
      ]
     },
     "metadata": {
      "image/png": {
       "height": 420,
       "width": 420
      }
     },
     "output_type": "display_data"
    }
   ],
   "source": [
    "ggplot(aes(x=city, y=trip_dur), data=subset(trips, !is.na(trip_dur))) +\n",
    "    ggtitle(\"Bike Share Trip Durations\") +\n",
    "    geom_boxplot() +\n",
    "    coord_cartesian(ylim=c(400, 1200))"
   ]
  },
  {
   "cell_type": "markdown",
   "metadata": {},
   "source": [
    "**Summary for #2**\n",
    "\n",
    "We can see that the means for each of the different cities is in the 900s or 1200s. This is based on the number and magnitude of outliers that we see, such as the maximum trip duration being over 12.5 days in NYC. We can instead utilize the quartiles and median to get a better statistical reference compared to the average duration.\n",
    "\n",
    "We see that the median trip duration is about 10-11 minutes (range of 610-707 seconds), and this remains the case across the 3 cities. We can also observe that over 75% of trips are below 20 minutes (1200 seconds). This could be useful when determining the average lifespan of a bike and planning maintenance schedules or factoring in related costs."
   ]
  },
  {
   "cell_type": "markdown",
   "metadata": {},
   "source": [
    "### Question 3\n",
    "\n",
    "**Where are the most popular start and end stations?**\n",
    "\n",
    "To get after this, we'll be taking the cross streets provided and using the `table()` function to essentially count the number of occurrences. Then, we'll sort the results in descending order to get the Top N."
   ]
  },
  {
   "cell_type": "markdown",
   "metadata": {},
   "source": [
    "Lets look at the most common station that users start from:"
   ]
  },
  {
   "cell_type": "code",
   "execution_count": 145,
   "metadata": {
    "vscode": {
     "languageId": "r"
    }
   },
   "outputs": [
    {
     "data": {
      "text/html": [
       "<strong>Pershing Square North:</strong> 592"
      ],
      "text/latex": [
       "\\textbf{Pershing Square North:} 592"
      ],
      "text/markdown": [
       "**Pershing Square North:** 592"
      ],
      "text/plain": [
       "Pershing Square North \n",
       "                  592 "
      ]
     },
     "metadata": {},
     "output_type": "display_data"
    },
    {
     "data": {
      "text/html": [
       "<strong>Columbus Circle / Union Station:</strong> 1700"
      ],
      "text/latex": [
       "\\textbf{Columbus Circle / Union Station:} 1700"
      ],
      "text/markdown": [
       "**Columbus Circle / Union Station:** 1700"
      ],
      "text/plain": [
       "Columbus Circle / Union Station \n",
       "                           1700 "
      ]
     },
     "metadata": {},
     "output_type": "display_data"
    },
    {
     "data": {
      "text/html": [
       "<strong>Streeter Dr &amp; Grand Ave:</strong> 210"
      ],
      "text/latex": [
       "\\textbf{Streeter Dr \\textbackslash{}\\& Grand Ave:} 210"
      ],
      "text/markdown": [
       "**Streeter Dr &amp;amp; Grand Ave:** 210"
      ],
      "text/plain": [
       "Streeter Dr & Grand Ave \n",
       "                    210 "
      ]
     },
     "metadata": {},
     "output_type": "display_data"
    }
   ],
   "source": [
    "sort(table(ny$Start.Station), decreasing = TRUE)[1]\n",
    "sort(table(wash$Start.Station), decreasing = TRUE)[1]\n",
    "sort(table(chi$Start.Station), decreasing = TRUE)[1]"
   ]
  },
  {
   "cell_type": "markdown",
   "metadata": {},
   "source": [
    "Now the most common end stations"
   ]
  },
  {
   "cell_type": "code",
   "execution_count": 146,
   "metadata": {
    "vscode": {
     "languageId": "r"
    }
   },
   "outputs": [
    {
     "data": {
      "text/html": [
       "<strong>Pershing Square North:</strong> 556"
      ],
      "text/latex": [
       "\\textbf{Pershing Square North:} 556"
      ],
      "text/markdown": [
       "**Pershing Square North:** 556"
      ],
      "text/plain": [
       "Pershing Square North \n",
       "                  556 "
      ]
     },
     "metadata": {},
     "output_type": "display_data"
    },
    {
     "data": {
      "text/html": [
       "<strong>Columbus Circle / Union Station:</strong> 1767"
      ],
      "text/latex": [
       "\\textbf{Columbus Circle / Union Station:} 1767"
      ],
      "text/markdown": [
       "**Columbus Circle / Union Station:** 1767"
      ],
      "text/plain": [
       "Columbus Circle / Union Station \n",
       "                           1767 "
      ]
     },
     "metadata": {},
     "output_type": "display_data"
    },
    {
     "data": {
      "text/html": [
       "<strong>Streeter Dr &amp; Grand Ave:</strong> 233"
      ],
      "text/latex": [
       "\\textbf{Streeter Dr \\textbackslash{}\\& Grand Ave:} 233"
      ],
      "text/markdown": [
       "**Streeter Dr &amp;amp; Grand Ave:** 233"
      ],
      "text/plain": [
       "Streeter Dr & Grand Ave \n",
       "                    233 "
      ]
     },
     "metadata": {},
     "output_type": "display_data"
    }
   ],
   "source": [
    "sort(table(ny$End.Station), decreasing = TRUE)[1]\n",
    "sort(table(wash$End.Station), decreasing = TRUE)[1]\n",
    "sort(table(chi$End.Station), decreasing = TRUE)[1]"
   ]
  },
  {
   "cell_type": "markdown",
   "metadata": {},
   "source": [
    "I'm also curious about the most common route. To look into that, we'll combine each row's start and end station string as a single string, then apply the same process as before."
   ]
  },
  {
   "cell_type": "code",
   "execution_count": 147,
   "metadata": {
    "vscode": {
     "languageId": "r"
    }
   },
   "outputs": [],
   "source": [
    "# Combining the start and end columns into a single string\n",
    "pair_ny <- table(paste(ny$Start.Station, ny$End.Station, sep = \" -> \"))\n",
    "pair_wash <- table(paste(wash$Start.Station, wash$End.Station, sep = \" -> \"))\n",
    "pair_chi <- table(paste(chi$Start.Station, chi$End.Station, sep = \" -> \"))"
   ]
  },
  {
   "cell_type": "code",
   "execution_count": 148,
   "metadata": {
    "vscode": {
     "languageId": "r"
    }
   },
   "outputs": [
    {
     "data": {
      "text/html": [
       "<strong>E 7 St &amp; Avenue A -&gt; Cooper Square &amp; E 7 St:</strong> 33"
      ],
      "text/latex": [
       "\\textbf{E 7 St \\textbackslash{}\\& Avenue A -> Cooper Square \\textbackslash{}\\& E 7 St:} 33"
      ],
      "text/markdown": [
       "**E 7 St &amp;amp; Avenue A -&amp;gt; Cooper Square &amp;amp; E 7 St:** 33"
      ],
      "text/plain": [
       "E 7 St & Avenue A -> Cooper Square & E 7 St \n",
       "                                         33 "
      ]
     },
     "metadata": {},
     "output_type": "display_data"
    },
    {
     "data": {
      "text/html": [
       "<strong>Jefferson Dr &amp; 14th St SW -&gt; Jefferson Dr &amp; 14th St SW:</strong> 198"
      ],
      "text/latex": [
       "\\textbf{Jefferson Dr \\textbackslash{}\\& 14th St SW -> Jefferson Dr \\textbackslash{}\\& 14th St SW:} 198"
      ],
      "text/markdown": [
       "**Jefferson Dr &amp;amp; 14th St SW -&amp;gt; Jefferson Dr &amp;amp; 14th St SW:** 198"
      ],
      "text/plain": [
       "Jefferson Dr & 14th St SW -> Jefferson Dr & 14th St SW \n",
       "                                                   198 "
      ]
     },
     "metadata": {},
     "output_type": "display_data"
    },
    {
     "data": {
      "text/html": [
       "<strong>Lake Shore Dr &amp; Monroe St -&gt; Streeter Dr &amp; Grand Ave:</strong> 32"
      ],
      "text/latex": [
       "\\textbf{Lake Shore Dr \\textbackslash{}\\& Monroe St -> Streeter Dr \\textbackslash{}\\& Grand Ave:} 32"
      ],
      "text/markdown": [
       "**Lake Shore Dr &amp;amp; Monroe St -&amp;gt; Streeter Dr &amp;amp; Grand Ave:** 32"
      ],
      "text/plain": [
       "Lake Shore Dr & Monroe St -> Streeter Dr & Grand Ave \n",
       "                                                  32 "
      ]
     },
     "metadata": {},
     "output_type": "display_data"
    }
   ],
   "source": [
    "sort(pair_ny, decreasing = TRUE)[1]\n",
    "sort(pair_wash, decreasing = TRUE)[1]\n",
    "sort(pair_chi, decreasing = TRUE)[1]"
   ]
  },
  {
   "cell_type": "markdown",
   "metadata": {},
   "source": [
    "**Summary of #3**\n",
    "\n",
    "We can see that the top start and end stations for each of the cities are the same. It makes sense that this would be the case, as the bikes are likely used to take someone from a high foot-traffic hub to wherever their individual destination is, then the reverse of that. We can also see that the cases for the most common start and stop combinations are not the same. For the most common route, it would be interesting to see if it's a single person or perhaps people who work at the same location/go to the same school, or if it's near common tourist destinations.\n",
    "\n",
    "These results can be used to research each of the common stations, then similarities and differences can be observed between those stations. Lots of questions can follow reviewing this data, such as what makes a good station?"
   ]
  }
 ],
 "metadata": {
  "kernelspec": {
   "display_name": "R",
   "language": "R",
   "name": "ir"
  },
  "language_info": {
   "codemirror_mode": "r",
   "file_extension": ".r",
   "mimetype": "text/x-r-source",
   "name": "R",
   "pygments_lexer": "r",
   "version": "4.5.1"
  }
 },
 "nbformat": 4,
 "nbformat_minor": 2
}
