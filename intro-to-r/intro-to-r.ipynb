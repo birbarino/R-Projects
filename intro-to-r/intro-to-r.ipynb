{
 "cells": [
  {
   "cell_type": "markdown",
   "id": "738721dc",
   "metadata": {},
   "source": [
    "# R Fundies"
   ]
  },
  {
   "cell_type": "markdown",
   "id": "fb121524",
   "metadata": {},
   "source": [
    "## Data Types"
   ]
  },
  {
   "cell_type": "markdown",
   "id": "565e6081",
   "metadata": {},
   "source": [
    "### Numeric"
   ]
  },
  {
   "cell_type": "code",
   "execution_count": null,
   "id": "7b82b5fc",
   "metadata": {
    "vscode": {
     "languageId": "r"
    }
   },
   "outputs": [
    {
     "data": {
      "text/html": [
       "5"
      ],
      "text/latex": [
       "5"
      ],
      "text/markdown": [
       "5"
      ],
      "text/plain": [
       "[1] 5"
      ]
     },
     "metadata": {},
     "output_type": "display_data"
    },
    {
     "data": {
      "text/html": [
       "5.3"
      ],
      "text/latex": [
       "5.3"
      ],
      "text/markdown": [
       "5.3"
      ],
      "text/plain": [
       "[1] 5.3"
      ]
     },
     "metadata": {},
     "output_type": "display_data"
    },
    {
     "data": {
      "text/html": [
       "-12"
      ],
      "text/latex": [
       "-12"
      ],
      "text/markdown": [
       "-12"
      ],
      "text/plain": [
       "[1] -12"
      ]
     },
     "metadata": {},
     "output_type": "display_data"
    }
   ],
   "source": [
    "5\n",
    "5.3\n",
    "-12\n",
    "# All numeric"
   ]
  },
  {
   "cell_type": "markdown",
   "id": "8bdcf8ee",
   "metadata": {},
   "source": [
    "### Character"
   ]
  },
  {
   "cell_type": "code",
   "execution_count": 2,
   "id": "ab251395",
   "metadata": {
    "vscode": {
     "languageId": "r"
    }
   },
   "outputs": [
    {
     "data": {
      "text/html": [
       "'character'"
      ],
      "text/latex": [
       "'character'"
      ],
      "text/markdown": [
       "'character'"
      ],
      "text/plain": [
       "[1] \"character\""
      ]
     },
     "metadata": {},
     "output_type": "display_data"
    },
    {
     "data": {
      "text/html": [
       "'character'"
      ],
      "text/latex": [
       "'character'"
      ],
      "text/markdown": [
       "'character'"
      ],
      "text/plain": [
       "[1] \"character\""
      ]
     },
     "metadata": {},
     "output_type": "display_data"
    }
   ],
   "source": [
    "'character'\n",
    "\"character\""
   ]
  },
  {
   "cell_type": "markdown",
   "id": "eef52b3b",
   "metadata": {},
   "source": [
    "### Logicals"
   ]
  },
  {
   "cell_type": "code",
   "execution_count": 5,
   "id": "fb678253",
   "metadata": {
    "vscode": {
     "languageId": "r"
    }
   },
   "outputs": [
    {
     "data": {
      "text/html": [
       "TRUE"
      ],
      "text/latex": [
       "TRUE"
      ],
      "text/markdown": [
       "TRUE"
      ],
      "text/plain": [
       "[1] TRUE"
      ]
     },
     "metadata": {},
     "output_type": "display_data"
    },
    {
     "data": {
      "text/html": [
       "FALSE"
      ],
      "text/latex": [
       "FALSE"
      ],
      "text/markdown": [
       "FALSE"
      ],
      "text/plain": [
       "[1] FALSE"
      ]
     },
     "metadata": {},
     "output_type": "display_data"
    },
    {
     "data": {
      "text/html": [
       "'They are just boolean values, all caps'"
      ],
      "text/latex": [
       "'They are just boolean values, all caps'"
      ],
      "text/markdown": [
       "'They are just boolean values, all caps'"
      ],
      "text/plain": [
       "[1] \"They are just boolean values, all caps\""
      ]
     },
     "metadata": {},
     "output_type": "display_data"
    },
    {
     "data": {
      "text/html": [
       "'logical'"
      ],
      "text/latex": [
       "'logical'"
      ],
      "text/markdown": [
       "'logical'"
      ],
      "text/plain": [
       "[1] \"logical\""
      ]
     },
     "metadata": {},
     "output_type": "display_data"
    }
   ],
   "source": [
    "TRUE\n",
    "FALSE\n",
    "\"They are just boolean values, all caps\"\n",
    "class(FALSE)"
   ]
  },
  {
   "cell_type": "markdown",
   "id": "2895a23d",
   "metadata": {},
   "source": [
    "### Scalars"
   ]
  },
  {
   "cell_type": "markdown",
   "id": "fa9049c1",
   "metadata": {},
   "source": [
    "#### Major Scalar Types"
   ]
  },
  {
   "cell_type": "markdown",
   "id": "8d984c2a",
   "metadata": {},
   "source": [
    "##### Numeric"
   ]
  },
  {
   "cell_type": "code",
   "execution_count": 12,
   "id": "bb53409e",
   "metadata": {
    "vscode": {
     "languageId": "r"
    }
   },
   "outputs": [
    {
     "data": {
      "text/html": [
       "3.2"
      ],
      "text/latex": [
       "3.2"
      ],
      "text/markdown": [
       "3.2"
      ],
      "text/plain": [
       "[1] 3.2"
      ]
     },
     "metadata": {},
     "output_type": "display_data"
    },
    {
     "data": {
      "text/html": [
       "3"
      ],
      "text/latex": [
       "3"
      ],
      "text/markdown": [
       "3"
      ],
      "text/plain": [
       "[1] 3"
      ]
     },
     "metadata": {},
     "output_type": "display_data"
    },
    {
     "data": {
      "text/html": [
       "'numeric'"
      ],
      "text/latex": [
       "'numeric'"
      ],
      "text/markdown": [
       "'numeric'"
      ],
      "text/plain": [
       "[1] \"numeric\""
      ]
     },
     "metadata": {},
     "output_type": "display_data"
    }
   ],
   "source": [
    "# Generally floats\n",
    "a = 3.2;b = 3\n",
    "a;b\n",
    "class(b)"
   ]
  },
  {
   "cell_type": "markdown",
   "id": "5a496fb4",
   "metadata": {},
   "source": [
    "##### Integer"
   ]
  },
  {
   "cell_type": "markdown",
   "id": "ef06142f",
   "metadata": {},
   "source": [
    "Apparently not very useful, except for in \"extreme edge cases\""
   ]
  },
  {
   "cell_type": "code",
   "execution_count": 11,
   "id": "7890e2bb",
   "metadata": {
    "vscode": {
     "languageId": "r"
    }
   },
   "outputs": [
    {
     "data": {
      "text/html": [
       "3"
      ],
      "text/latex": [
       "3"
      ],
      "text/markdown": [
       "3"
      ],
      "text/plain": [
       "[1] 3"
      ]
     },
     "metadata": {},
     "output_type": "display_data"
    },
    {
     "data": {
      "text/html": [
       "'integer'"
      ],
      "text/latex": [
       "'integer'"
      ],
      "text/markdown": [
       "'integer'"
      ],
      "text/plain": [
       "[1] \"integer\""
      ]
     },
     "metadata": {},
     "output_type": "display_data"
    }
   ],
   "source": [
    "c = as.integer(b)\n",
    "c\n",
    "class(c)"
   ]
  },
  {
   "cell_type": "markdown",
   "id": "6658663c",
   "metadata": {},
   "source": [
    "##### Logical"
   ]
  },
  {
   "cell_type": "code",
   "execution_count": 7,
   "id": "3d74f3ed",
   "metadata": {
    "vscode": {
     "languageId": "r"
    }
   },
   "outputs": [
    {
     "data": {
      "text/html": [
       "TRUE"
      ],
      "text/latex": [
       "TRUE"
      ],
      "text/markdown": [
       "TRUE"
      ],
      "text/plain": [
       "[1] TRUE"
      ]
     },
     "metadata": {},
     "output_type": "display_data"
    },
    {
     "data": {
      "text/html": [
       "1"
      ],
      "text/latex": [
       "1"
      ],
      "text/markdown": [
       "1"
      ],
      "text/plain": [
       "[1] 1"
      ]
     },
     "metadata": {},
     "output_type": "display_data"
    }
   ],
   "source": [
    "d = TRUE\n",
    "d\n",
    "\n",
    "e = as.numeric(d)\n",
    "e"
   ]
  },
  {
   "cell_type": "markdown",
   "id": "375f987b",
   "metadata": {},
   "source": [
    "### Vectors"
   ]
  },
  {
   "cell_type": "markdown",
   "id": "01f92127",
   "metadata": {},
   "source": [
    "Created with a `c()`"
   ]
  },
  {
   "cell_type": "code",
   "execution_count": 13,
   "id": "1cdbc125",
   "metadata": {
    "vscode": {
     "languageId": "r"
    }
   },
   "outputs": [
    {
     "data": {
      "text/html": [
       "<style>\n",
       ".list-inline {list-style: none; margin:0; padding: 0}\n",
       ".list-inline>li {display: inline-block}\n",
       ".list-inline>li:not(:last-child)::after {content: \"\\00b7\"; padding: 0 .5ex}\n",
       "</style>\n",
       "<ol class=list-inline><li>1</li><li>2</li><li>3</li><li>4</li></ol>\n"
      ],
      "text/latex": [
       "\\begin{enumerate*}\n",
       "\\item 1\n",
       "\\item 2\n",
       "\\item 3\n",
       "\\item 4\n",
       "\\end{enumerate*}\n"
      ],
      "text/markdown": [
       "1. 1\n",
       "2. 2\n",
       "3. 3\n",
       "4. 4\n",
       "\n",
       "\n"
      ],
      "text/plain": [
       "[1] 1 2 3 4"
      ]
     },
     "metadata": {},
     "output_type": "display_data"
    }
   ],
   "source": [
    "c(1, 2, 3, 4)"
   ]
  },
  {
   "cell_type": "code",
   "execution_count": 14,
   "id": "8039cf5a",
   "metadata": {
    "vscode": {
     "languageId": "r"
    }
   },
   "outputs": [
    {
     "data": {
      "text/html": [
       "<style>\n",
       ".list-inline {list-style: none; margin:0; padding: 0}\n",
       ".list-inline>li {display: inline-block}\n",
       ".list-inline>li:not(:last-child)::after {content: \"\\00b7\"; padding: 0 .5ex}\n",
       "</style>\n",
       "<ol class=list-inline><li>'1'</li><li>'2'</li><li>'3'</li><li>'4'</li></ol>\n"
      ],
      "text/latex": [
       "\\begin{enumerate*}\n",
       "\\item '1'\n",
       "\\item '2'\n",
       "\\item '3'\n",
       "\\item '4'\n",
       "\\end{enumerate*}\n"
      ],
      "text/markdown": [
       "1. '1'\n",
       "2. '2'\n",
       "3. '3'\n",
       "4. '4'\n",
       "\n",
       "\n"
      ],
      "text/plain": [
       "[1] \"1\" \"2\" \"3\" \"4\""
      ]
     },
     "metadata": {},
     "output_type": "display_data"
    }
   ],
   "source": [
    "c(\"1\", \"2\", \"3\", \"4\")"
   ]
  },
  {
   "cell_type": "code",
   "execution_count": 17,
   "id": "40d402fa",
   "metadata": {
    "vscode": {
     "languageId": "r"
    }
   },
   "outputs": [
    {
     "data": {
      "text/html": [
       "<style>\n",
       ".list-inline {list-style: none; margin:0; padding: 0}\n",
       ".list-inline>li {display: inline-block}\n",
       ".list-inline>li:not(:last-child)::after {content: \"\\00b7\"; padding: 0 .5ex}\n",
       "</style>\n",
       "<ol class=list-inline><li>'1'</li><li>'help'</li><li>'2'</li></ol>\n"
      ],
      "text/latex": [
       "\\begin{enumerate*}\n",
       "\\item '1'\n",
       "\\item 'help'\n",
       "\\item '2'\n",
       "\\end{enumerate*}\n"
      ],
      "text/markdown": [
       "1. '1'\n",
       "2. 'help'\n",
       "3. '2'\n",
       "\n",
       "\n"
      ],
      "text/plain": [
       "[1] \"1\"    \"help\" \"2\"   "
      ]
     },
     "metadata": {},
     "output_type": "display_data"
    }
   ],
   "source": [
    "c(1, \"help\", 2)  # these will all be strings"
   ]
  },
  {
   "cell_type": "markdown",
   "id": "a1b777e8",
   "metadata": {},
   "source": [
    "`rep` repeats a value\n",
    "\n",
    "`seq` creates a sequence of some length."
   ]
  },
  {
   "cell_type": "code",
   "execution_count": 18,
   "id": "722b314d",
   "metadata": {
    "vscode": {
     "languageId": "r"
    }
   },
   "outputs": [
    {
     "data": {
      "text/html": [
       "<style>\n",
       ".list-inline {list-style: none; margin:0; padding: 0}\n",
       ".list-inline>li {display: inline-block}\n",
       ".list-inline>li:not(:last-child)::after {content: \"\\00b7\"; padding: 0 .5ex}\n",
       "</style>\n",
       "<ol class=list-inline><li>4</li><li>4</li><li>4</li><li>4</li><li>4</li><li>4</li><li>4</li><li>4</li><li>4</li><li>4</li><li>4</li><li>4</li><li>20</li><li>20</li><li>20</li></ol>\n"
      ],
      "text/latex": [
       "\\begin{enumerate*}\n",
       "\\item 4\n",
       "\\item 4\n",
       "\\item 4\n",
       "\\item 4\n",
       "\\item 4\n",
       "\\item 4\n",
       "\\item 4\n",
       "\\item 4\n",
       "\\item 4\n",
       "\\item 4\n",
       "\\item 4\n",
       "\\item 4\n",
       "\\item 20\n",
       "\\item 20\n",
       "\\item 20\n",
       "\\end{enumerate*}\n"
      ],
      "text/markdown": [
       "1. 4\n",
       "2. 4\n",
       "3. 4\n",
       "4. 4\n",
       "5. 4\n",
       "6. 4\n",
       "7. 4\n",
       "8. 4\n",
       "9. 4\n",
       "10. 4\n",
       "11. 4\n",
       "12. 4\n",
       "13. 20\n",
       "14. 20\n",
       "15. 20\n",
       "\n",
       "\n"
      ],
      "text/plain": [
       " [1]  4  4  4  4  4  4  4  4  4  4  4  4 20 20 20"
      ]
     },
     "metadata": {},
     "output_type": "display_data"
    }
   ],
   "source": [
    "c(rep(4, times=12), rep(20, times=3))"
   ]
  },
  {
   "cell_type": "code",
   "execution_count": 21,
   "id": "09b695c9",
   "metadata": {
    "vscode": {
     "languageId": "r"
    }
   },
   "outputs": [
    {
     "data": {
      "text/html": [
       "<style>\n",
       ".list-inline {list-style: none; margin:0; padding: 0}\n",
       ".list-inline>li {display: inline-block}\n",
       ".list-inline>li:not(:last-child)::after {content: \"\\00b7\"; padding: 0 .5ex}\n",
       "</style>\n",
       "<ol class=list-inline><li>0</li><li>5</li><li>10</li><li>15</li><li>20</li><li>25</li><li>30</li><li>35</li><li>40</li><li>45</li><li>50</li><li>55</li><li>60</li><li>65</li><li>70</li><li>75</li><li>80</li><li>85</li><li>90</li><li>95</li><li>100</li></ol>\n"
      ],
      "text/latex": [
       "\\begin{enumerate*}\n",
       "\\item 0\n",
       "\\item 5\n",
       "\\item 10\n",
       "\\item 15\n",
       "\\item 20\n",
       "\\item 25\n",
       "\\item 30\n",
       "\\item 35\n",
       "\\item 40\n",
       "\\item 45\n",
       "\\item 50\n",
       "\\item 55\n",
       "\\item 60\n",
       "\\item 65\n",
       "\\item 70\n",
       "\\item 75\n",
       "\\item 80\n",
       "\\item 85\n",
       "\\item 90\n",
       "\\item 95\n",
       "\\item 100\n",
       "\\end{enumerate*}\n"
      ],
      "text/markdown": [
       "1. 0\n",
       "2. 5\n",
       "3. 10\n",
       "4. 15\n",
       "5. 20\n",
       "6. 25\n",
       "7. 30\n",
       "8. 35\n",
       "9. 40\n",
       "10. 45\n",
       "11. 50\n",
       "12. 55\n",
       "13. 60\n",
       "14. 65\n",
       "15. 70\n",
       "16. 75\n",
       "17. 80\n",
       "18. 85\n",
       "19. 90\n",
       "20. 95\n",
       "21. 100\n",
       "\n",
       "\n"
      ],
      "text/plain": [
       " [1]   0   5  10  15  20  25  30  35  40  45  50  55  60  65  70  75  80  85  90\n",
       "[20]  95 100"
      ]
     },
     "metadata": {},
     "output_type": "display_data"
    },
    {
     "data": {
      "text/html": [
       "<style>\n",
       ".list-inline {list-style: none; margin:0; padding: 0}\n",
       ".list-inline>li {display: inline-block}\n",
       ".list-inline>li:not(:last-child)::after {content: \"\\00b7\"; padding: 0 .5ex}\n",
       "</style>\n",
       "<ol class=list-inline><li>1</li><li>2</li><li>3</li></ol>\n"
      ],
      "text/latex": [
       "\\begin{enumerate*}\n",
       "\\item 1\n",
       "\\item 2\n",
       "\\item 3\n",
       "\\end{enumerate*}\n"
      ],
      "text/markdown": [
       "1. 1\n",
       "2. 2\n",
       "3. 3\n",
       "\n",
       "\n"
      ],
      "text/plain": [
       "[1] 1 2 3"
      ]
     },
     "metadata": {},
     "output_type": "display_data"
    }
   ],
   "source": [
    "seq(0, 100, by=5)  # it's inclusive on both sides\n",
    "seq(1, 3)"
   ]
  },
  {
   "cell_type": "markdown",
   "id": "41315719",
   "metadata": {},
   "source": [
    "`vector()` gives you a vector of a certain length and certain type with placeholder values. Default value is `0` or an empty string"
   ]
  },
  {
   "cell_type": "code",
   "execution_count": 27,
   "id": "dedb74ab",
   "metadata": {
    "vscode": {
     "languageId": "r"
    }
   },
   "outputs": [
    {
     "data": {
      "text/html": [
       "<style>\n",
       ".list-inline {list-style: none; margin:0; padding: 0}\n",
       ".list-inline>li {display: inline-block}\n",
       ".list-inline>li:not(:last-child)::after {content: \"\\00b7\"; padding: 0 .5ex}\n",
       "</style>\n",
       "<ol class=list-inline><li>0</li><li>0</li><li>0</li><li>0</li><li>0</li><li>0</li><li>0</li><li>0</li><li>0</li><li>0</li><li>0</li><li>0</li></ol>\n"
      ],
      "text/latex": [
       "\\begin{enumerate*}\n",
       "\\item 0\n",
       "\\item 0\n",
       "\\item 0\n",
       "\\item 0\n",
       "\\item 0\n",
       "\\item 0\n",
       "\\item 0\n",
       "\\item 0\n",
       "\\item 0\n",
       "\\item 0\n",
       "\\item 0\n",
       "\\item 0\n",
       "\\end{enumerate*}\n"
      ],
      "text/markdown": [
       "1. 0\n",
       "2. 0\n",
       "3. 0\n",
       "4. 0\n",
       "5. 0\n",
       "6. 0\n",
       "7. 0\n",
       "8. 0\n",
       "9. 0\n",
       "10. 0\n",
       "11. 0\n",
       "12. 0\n",
       "\n",
       "\n"
      ],
      "text/plain": [
       " [1] 0 0 0 0 0 0 0 0 0 0 0 0"
      ]
     },
     "metadata": {},
     "output_type": "display_data"
    },
    {
     "data": {
      "text/html": [
       "<style>\n",
       ".list-inline {list-style: none; margin:0; padding: 0}\n",
       ".list-inline>li {display: inline-block}\n",
       ".list-inline>li:not(:last-child)::after {content: \"\\00b7\"; padding: 0 .5ex}\n",
       "</style>\n",
       "<ol class=list-inline><li>''</li><li>''</li><li>''</li><li>''</li><li>''</li><li>''</li><li>''</li><li>''</li><li>''</li><li>''</li><li>''</li><li>''</li></ol>\n"
      ],
      "text/latex": [
       "\\begin{enumerate*}\n",
       "\\item ''\n",
       "\\item ''\n",
       "\\item ''\n",
       "\\item ''\n",
       "\\item ''\n",
       "\\item ''\n",
       "\\item ''\n",
       "\\item ''\n",
       "\\item ''\n",
       "\\item ''\n",
       "\\item ''\n",
       "\\item ''\n",
       "\\end{enumerate*}\n"
      ],
      "text/markdown": [
       "1. ''\n",
       "2. ''\n",
       "3. ''\n",
       "4. ''\n",
       "5. ''\n",
       "6. ''\n",
       "7. ''\n",
       "8. ''\n",
       "9. ''\n",
       "10. ''\n",
       "11. ''\n",
       "12. ''\n",
       "\n",
       "\n"
      ],
      "text/plain": [
       " [1] \"\" \"\" \"\" \"\" \"\" \"\" \"\" \"\" \"\" \"\" \"\" \"\""
      ]
     },
     "metadata": {},
     "output_type": "display_data"
    },
    {
     "data": {
      "text/html": [
       "<style>\n",
       ".list-inline {list-style: none; margin:0; padding: 0}\n",
       ".list-inline>li {display: inline-block}\n",
       ".list-inline>li:not(:last-child)::after {content: \"\\00b7\"; padding: 0 .5ex}\n",
       "</style>\n",
       "<ol class=list-inline><li>FALSE</li><li>FALSE</li><li>FALSE</li><li>FALSE</li><li>FALSE</li><li>FALSE</li><li>FALSE</li><li>FALSE</li><li>FALSE</li><li>FALSE</li><li>FALSE</li><li>FALSE</li></ol>\n"
      ],
      "text/latex": [
       "\\begin{enumerate*}\n",
       "\\item FALSE\n",
       "\\item FALSE\n",
       "\\item FALSE\n",
       "\\item FALSE\n",
       "\\item FALSE\n",
       "\\item FALSE\n",
       "\\item FALSE\n",
       "\\item FALSE\n",
       "\\item FALSE\n",
       "\\item FALSE\n",
       "\\item FALSE\n",
       "\\item FALSE\n",
       "\\end{enumerate*}\n"
      ],
      "text/markdown": [
       "1. FALSE\n",
       "2. FALSE\n",
       "3. FALSE\n",
       "4. FALSE\n",
       "5. FALSE\n",
       "6. FALSE\n",
       "7. FALSE\n",
       "8. FALSE\n",
       "9. FALSE\n",
       "10. FALSE\n",
       "11. FALSE\n",
       "12. FALSE\n",
       "\n",
       "\n"
      ],
      "text/plain": [
       " [1] FALSE FALSE FALSE FALSE FALSE FALSE FALSE FALSE FALSE FALSE FALSE FALSE"
      ]
     },
     "metadata": {},
     "output_type": "display_data"
    },
    {
     "data": {
      "text/html": [
       "<style>\n",
       ".list-inline {list-style: none; margin:0; padding: 0}\n",
       ".list-inline>li {display: inline-block}\n",
       ".list-inline>li:not(:last-child)::after {content: \"\\00b7\"; padding: 0 .5ex}\n",
       "</style>\n",
       "<ol class=list-inline><li>0</li><li>0</li><li>0</li><li>0</li><li>0</li><li>0</li><li>0</li><li>0</li><li>0</li><li>0</li><li>0</li><li>0</li></ol>\n"
      ],
      "text/latex": [
       "\\begin{enumerate*}\n",
       "\\item 0\n",
       "\\item 0\n",
       "\\item 0\n",
       "\\item 0\n",
       "\\item 0\n",
       "\\item 0\n",
       "\\item 0\n",
       "\\item 0\n",
       "\\item 0\n",
       "\\item 0\n",
       "\\item 0\n",
       "\\item 0\n",
       "\\end{enumerate*}\n"
      ],
      "text/markdown": [
       "1. 0\n",
       "2. 0\n",
       "3. 0\n",
       "4. 0\n",
       "5. 0\n",
       "6. 0\n",
       "7. 0\n",
       "8. 0\n",
       "9. 0\n",
       "10. 0\n",
       "11. 0\n",
       "12. 0\n",
       "\n",
       "\n"
      ],
      "text/plain": [
       " [1] 0 0 0 0 0 0 0 0 0 0 0 0"
      ]
     },
     "metadata": {},
     "output_type": "display_data"
    }
   ],
   "source": [
    "vector(mode='numeric', length=12)\n",
    "vector(mode='character', length=12)\n",
    "vector(mode='logical', length=12)\n",
    "vector(mode='integer', length=12)"
   ]
  },
  {
   "cell_type": "code",
   "execution_count": 35,
   "id": "73896ead",
   "metadata": {
    "vscode": {
     "languageId": "r"
    }
   },
   "outputs": [
    {
     "data": {
      "text/html": [
       "<style>\n",
       ".list-inline {list-style: none; margin:0; padding: 0}\n",
       ".list-inline>li {display: inline-block}\n",
       ".list-inline>li:not(:last-child)::after {content: \"\\00b7\"; padding: 0 .5ex}\n",
       "</style>\n",
       "<ol class=list-inline><li>0</li><li>0.0526315789473684</li><li>0.105263157894737</li><li>0.157894736842105</li><li>0.210526315789474</li><li>0.263157894736842</li><li>0.315789473684211</li><li>0.368421052631579</li><li>0.421052631578947</li><li>0.473684210526316</li><li>0.526315789473684</li><li>0.578947368421053</li><li>0.631578947368421</li><li>0.684210526315789</li><li>0.736842105263158</li><li>0.789473684210526</li><li>0.842105263157895</li><li>0.894736842105263</li><li>0.947368421052632</li><li>1</li></ol>\n"
      ],
      "text/latex": [
       "\\begin{enumerate*}\n",
       "\\item 0\n",
       "\\item 0.0526315789473684\n",
       "\\item 0.105263157894737\n",
       "\\item 0.157894736842105\n",
       "\\item 0.210526315789474\n",
       "\\item 0.263157894736842\n",
       "\\item 0.315789473684211\n",
       "\\item 0.368421052631579\n",
       "\\item 0.421052631578947\n",
       "\\item 0.473684210526316\n",
       "\\item 0.526315789473684\n",
       "\\item 0.578947368421053\n",
       "\\item 0.631578947368421\n",
       "\\item 0.684210526315789\n",
       "\\item 0.736842105263158\n",
       "\\item 0.789473684210526\n",
       "\\item 0.842105263157895\n",
       "\\item 0.894736842105263\n",
       "\\item 0.947368421052632\n",
       "\\item 1\n",
       "\\end{enumerate*}\n"
      ],
      "text/markdown": [
       "1. 0\n",
       "2. 0.0526315789473684\n",
       "3. 0.105263157894737\n",
       "4. 0.157894736842105\n",
       "5. 0.210526315789474\n",
       "6. 0.263157894736842\n",
       "7. 0.315789473684211\n",
       "8. 0.368421052631579\n",
       "9. 0.421052631578947\n",
       "10. 0.473684210526316\n",
       "11. 0.526315789473684\n",
       "12. 0.578947368421053\n",
       "13. 0.631578947368421\n",
       "14. 0.684210526315789\n",
       "15. 0.736842105263158\n",
       "16. 0.789473684210526\n",
       "17. 0.842105263157895\n",
       "18. 0.894736842105263\n",
       "19. 0.947368421052632\n",
       "20. 1\n",
       "\n",
       "\n"
      ],
      "text/plain": [
       " [1] 0.00000000 0.05263158 0.10526316 0.15789474 0.21052632 0.26315789\n",
       " [7] 0.31578947 0.36842105 0.42105263 0.47368421 0.52631579 0.57894737\n",
       "[13] 0.63157895 0.68421053 0.73684211 0.78947368 0.84210526 0.89473684\n",
       "[19] 0.94736842 1.00000000"
      ]
     },
     "metadata": {},
     "output_type": "display_data"
    },
    {
     "data": {
      "text/html": [
       "<style>\n",
       ".list-inline {list-style: none; margin:0; padding: 0}\n",
       ".list-inline>li {display: inline-block}\n",
       ".list-inline>li:not(:last-child)::after {content: \"\\00b7\"; padding: 0 .5ex}\n",
       "</style>\n",
       "<ol class=list-inline><li>1</li><li>2</li><li>3</li><li>4</li><li>5</li></ol>\n"
      ],
      "text/latex": [
       "\\begin{enumerate*}\n",
       "\\item 1\n",
       "\\item 2\n",
       "\\item 3\n",
       "\\item 4\n",
       "\\item 5\n",
       "\\end{enumerate*}\n"
      ],
      "text/markdown": [
       "1. 1\n",
       "2. 2\n",
       "3. 3\n",
       "4. 4\n",
       "5. 5\n",
       "\n",
       "\n"
      ],
      "text/plain": [
       "[1] 1 2 3 4 5"
      ]
     },
     "metadata": {},
     "output_type": "display_data"
    },
    {
     "data": {
      "text/html": [
       "<style>\n",
       ".list-inline {list-style: none; margin:0; padding: 0}\n",
       ".list-inline>li {display: inline-block}\n",
       ".list-inline>li:not(:last-child)::after {content: \"\\00b7\"; padding: 0 .5ex}\n",
       "</style>\n",
       "<ol class=list-inline><li>0</li><li>1.25</li><li>2.5</li><li>3.75</li><li>5</li></ol>\n"
      ],
      "text/latex": [
       "\\begin{enumerate*}\n",
       "\\item 0\n",
       "\\item 1.25\n",
       "\\item 2.5\n",
       "\\item 3.75\n",
       "\\item 5\n",
       "\\end{enumerate*}\n"
      ],
      "text/markdown": [
       "1. 0\n",
       "2. 1.25\n",
       "3. 2.5\n",
       "4. 3.75\n",
       "5. 5\n",
       "\n",
       "\n"
      ],
      "text/plain": [
       "[1] 0.00 1.25 2.50 3.75 5.00"
      ]
     },
     "metadata": {},
     "output_type": "display_data"
    }
   ],
   "source": [
    "seq(0, 1, length.out=20)  # this will load values in equally spaced increments\n",
    "\n",
    "seq(1, 5, length.out=5)\n",
    "seq(0, 5, length.out=5)"
   ]
  },
  {
   "cell_type": "code",
   "execution_count": 32,
   "id": "d2527ace",
   "metadata": {
    "vscode": {
     "languageId": "r"
    }
   },
   "outputs": [
    {
     "data": {
      "text/html": [
       "<style>\n",
       ".list-inline {list-style: none; margin:0; padding: 0}\n",
       ".list-inline>li {display: inline-block}\n",
       ".list-inline>li:not(:last-child)::after {content: \"\\00b7\"; padding: 0 .5ex}\n",
       "</style>\n",
       "<ol class=list-inline><li>0</li><li>0.1</li><li>0.2</li><li>0.3</li><li>0.4</li><li>0.5</li><li>0.6</li><li>0.7</li><li>0.8</li><li>0.9</li><li>1</li></ol>\n"
      ],
      "text/latex": [
       "\\begin{enumerate*}\n",
       "\\item 0\n",
       "\\item 0.1\n",
       "\\item 0.2\n",
       "\\item 0.3\n",
       "\\item 0.4\n",
       "\\item 0.5\n",
       "\\item 0.6\n",
       "\\item 0.7\n",
       "\\item 0.8\n",
       "\\item 0.9\n",
       "\\item 1\n",
       "\\end{enumerate*}\n"
      ],
      "text/markdown": [
       "1. 0\n",
       "2. 0.1\n",
       "3. 0.2\n",
       "4. 0.3\n",
       "5. 0.4\n",
       "6. 0.5\n",
       "7. 0.6\n",
       "8. 0.7\n",
       "9. 0.8\n",
       "10. 0.9\n",
       "11. 1\n",
       "\n",
       "\n"
      ],
      "text/plain": [
       " [1] 0.0 0.1 0.2 0.3 0.4 0.5 0.6 0.7 0.8 0.9 1.0"
      ]
     },
     "metadata": {},
     "output_type": "display_data"
    }
   ],
   "source": [
    "seq(0, 1, by=.1)"
   ]
  },
  {
   "cell_type": "markdown",
   "id": "567c9a0f",
   "metadata": {},
   "source": [
    "### Arrays (2-Dimensional Data/Matrices)"
   ]
  },
  {
   "cell_type": "code",
   "execution_count": 79,
   "id": "690b5a48",
   "metadata": {
    "vscode": {
     "languageId": "r"
    }
   },
   "outputs": [
    {
     "data": {
      "text/html": [
       "<table class=\"dataframe\">\n",
       "<caption>A matrix: 4 × 5 of type int</caption>\n",
       "<tbody>\n",
       "\t<tr><td>1</td><td>5</td><td> 9</td><td>13</td><td>17</td></tr>\n",
       "\t<tr><td>2</td><td>6</td><td>10</td><td>14</td><td>18</td></tr>\n",
       "\t<tr><td>3</td><td>7</td><td>11</td><td>15</td><td>19</td></tr>\n",
       "\t<tr><td>4</td><td>8</td><td>12</td><td>16</td><td>20</td></tr>\n",
       "</tbody>\n",
       "</table>\n"
      ],
      "text/latex": [
       "A matrix: 4 × 5 of type int\n",
       "\\begin{tabular}{lllll}\n",
       "\t 1 & 5 &  9 & 13 & 17\\\\\n",
       "\t 2 & 6 & 10 & 14 & 18\\\\\n",
       "\t 3 & 7 & 11 & 15 & 19\\\\\n",
       "\t 4 & 8 & 12 & 16 & 20\\\\\n",
       "\\end{tabular}\n"
      ],
      "text/markdown": [
       "\n",
       "A matrix: 4 × 5 of type int\n",
       "\n",
       "| 1 | 5 |  9 | 13 | 17 |\n",
       "| 2 | 6 | 10 | 14 | 18 |\n",
       "| 3 | 7 | 11 | 15 | 19 |\n",
       "| 4 | 8 | 12 | 16 | 20 |\n",
       "\n"
      ],
      "text/plain": [
       "     [,1] [,2] [,3] [,4] [,5]\n",
       "[1,] 1    5     9   13   17  \n",
       "[2,] 2    6    10   14   18  \n",
       "[3,] 3    7    11   15   19  \n",
       "[4,] 4    8    12   16   20  "
      ]
     },
     "metadata": {},
     "output_type": "display_data"
    }
   ],
   "source": [
    "arr = array(seq(1, 20), dim=c(4,5))\n",
    "arr  # stored as a matrix: 4 × 5 of type int"
   ]
  },
  {
   "cell_type": "code",
   "execution_count": 80,
   "id": "5d2f83c8",
   "metadata": {
    "vscode": {
     "languageId": "r"
    }
   },
   "outputs": [
    {
     "data": {
      "text/html": [
       "8"
      ],
      "text/latex": [
       "8"
      ],
      "text/markdown": [
       "8"
      ],
      "text/plain": [
       "[1] 8"
      ]
     },
     "metadata": {},
     "output_type": "display_data"
    },
    {
     "data": {
      "text/html": [
       "<style>\n",
       ".list-inline {list-style: none; margin:0; padding: 0}\n",
       ".list-inline>li {display: inline-block}\n",
       ".list-inline>li:not(:last-child)::after {content: \"\\00b7\"; padding: 0 .5ex}\n",
       "</style>\n",
       "<ol class=list-inline><li>1</li><li>5</li><li>9</li><li>13</li><li>17</li></ol>\n"
      ],
      "text/latex": [
       "\\begin{enumerate*}\n",
       "\\item 1\n",
       "\\item 5\n",
       "\\item 9\n",
       "\\item 13\n",
       "\\item 17\n",
       "\\end{enumerate*}\n"
      ],
      "text/markdown": [
       "1. 1\n",
       "2. 5\n",
       "3. 9\n",
       "4. 13\n",
       "5. 17\n",
       "\n",
       "\n"
      ],
      "text/plain": [
       "[1]  1  5  9 13 17"
      ]
     },
     "metadata": {},
     "output_type": "display_data"
    },
    {
     "data": {
      "text/html": [
       "<style>\n",
       ".list-inline {list-style: none; margin:0; padding: 0}\n",
       ".list-inline>li {display: inline-block}\n",
       ".list-inline>li:not(:last-child)::after {content: \"\\00b7\"; padding: 0 .5ex}\n",
       "</style>\n",
       "<ol class=list-inline><li>1</li><li>2</li><li>3</li><li>4</li></ol>\n"
      ],
      "text/latex": [
       "\\begin{enumerate*}\n",
       "\\item 1\n",
       "\\item 2\n",
       "\\item 3\n",
       "\\item 4\n",
       "\\end{enumerate*}\n"
      ],
      "text/markdown": [
       "1. 1\n",
       "2. 2\n",
       "3. 3\n",
       "4. 4\n",
       "\n",
       "\n"
      ],
      "text/plain": [
       "[1] 1 2 3 4"
      ]
     },
     "metadata": {},
     "output_type": "display_data"
    },
    {
     "data": {
      "text/html": [
       "<table class=\"dataframe\">\n",
       "<caption>A matrix: 2 × 2 of type int</caption>\n",
       "<tbody>\n",
       "\t<tr><td>13</td><td>17</td></tr>\n",
       "\t<tr><td>15</td><td>19</td></tr>\n",
       "</tbody>\n",
       "</table>\n"
      ],
      "text/latex": [
       "A matrix: 2 × 2 of type int\n",
       "\\begin{tabular}{ll}\n",
       "\t 13 & 17\\\\\n",
       "\t 15 & 19\\\\\n",
       "\\end{tabular}\n"
      ],
      "text/markdown": [
       "\n",
       "A matrix: 2 × 2 of type int\n",
       "\n",
       "| 13 | 17 |\n",
       "| 15 | 19 |\n",
       "\n"
      ],
      "text/plain": [
       "     [,1] [,2]\n",
       "[1,] 13   17  \n",
       "[2,] 15   19  "
      ]
     },
     "metadata": {},
     "output_type": "display_data"
    },
    {
     "data": {
      "text/html": [
       "<table class=\"dataframe\">\n",
       "<caption>A matrix: 3 × 2 of type int</caption>\n",
       "<tbody>\n",
       "\t<tr><td> 9</td><td>13</td></tr>\n",
       "\t<tr><td>10</td><td>14</td></tr>\n",
       "\t<tr><td>11</td><td>15</td></tr>\n",
       "</tbody>\n",
       "</table>\n"
      ],
      "text/latex": [
       "A matrix: 3 × 2 of type int\n",
       "\\begin{tabular}{ll}\n",
       "\t  9 & 13\\\\\n",
       "\t 10 & 14\\\\\n",
       "\t 11 & 15\\\\\n",
       "\\end{tabular}\n"
      ],
      "text/markdown": [
       "\n",
       "A matrix: 3 × 2 of type int\n",
       "\n",
       "|  9 | 13 |\n",
       "| 10 | 14 |\n",
       "| 11 | 15 |\n",
       "\n"
      ],
      "text/plain": [
       "     [,1] [,2]\n",
       "[1,]  9   13  \n",
       "[2,] 10   14  \n",
       "[3,] 11   15  "
      ]
     },
     "metadata": {},
     "output_type": "display_data"
    }
   ],
   "source": [
    "arr[4,2]  # 4th item in the second col\n",
    "arr[1,]   # first row\n",
    "arr[,1]   # first col\n",
    "arr[c(1,3), c(4,5)]  # returns a matrix of the intersection at provided \"coords\"\n",
    "# first and third row in colmns 4 and 5\n",
    "arr[1:3, 3:4]  # returns a matrix of rows 1-3 in cols 3 and 4"
   ]
  },
  {
   "cell_type": "code",
   "execution_count": 81,
   "id": "14b38c99",
   "metadata": {
    "vscode": {
     "languageId": "r"
    }
   },
   "outputs": [
    {
     "data": {
      "text/html": [
       "<table class=\"dataframe\">\n",
       "<caption>A matrix: 3 × 5 of type int</caption>\n",
       "<tbody>\n",
       "\t<tr><td>1</td><td>5</td><td> 9</td><td>13</td><td>17</td></tr>\n",
       "\t<tr><td>3</td><td>7</td><td>11</td><td>15</td><td>19</td></tr>\n",
       "\t<tr><td>4</td><td>8</td><td>12</td><td>16</td><td>20</td></tr>\n",
       "</tbody>\n",
       "</table>\n"
      ],
      "text/latex": [
       "A matrix: 3 × 5 of type int\n",
       "\\begin{tabular}{lllll}\n",
       "\t 1 & 5 &  9 & 13 & 17\\\\\n",
       "\t 3 & 7 & 11 & 15 & 19\\\\\n",
       "\t 4 & 8 & 12 & 16 & 20\\\\\n",
       "\\end{tabular}\n"
      ],
      "text/markdown": [
       "\n",
       "A matrix: 3 × 5 of type int\n",
       "\n",
       "| 1 | 5 |  9 | 13 | 17 |\n",
       "| 3 | 7 | 11 | 15 | 19 |\n",
       "| 4 | 8 | 12 | 16 | 20 |\n",
       "\n"
      ],
      "text/plain": [
       "     [,1] [,2] [,3] [,4] [,5]\n",
       "[1,] 1    5     9   13   17  \n",
       "[2,] 3    7    11   15   19  \n",
       "[3,] 4    8    12   16   20  "
      ]
     },
     "metadata": {},
     "output_type": "display_data"
    },
    {
     "data": {
      "text/html": [
       "<table class=\"dataframe\">\n",
       "<caption>A matrix: 4 × 4 of type int</caption>\n",
       "<tbody>\n",
       "\t<tr><td>1</td><td>5</td><td>13</td><td>17</td></tr>\n",
       "\t<tr><td>2</td><td>6</td><td>14</td><td>18</td></tr>\n",
       "\t<tr><td>3</td><td>7</td><td>15</td><td>19</td></tr>\n",
       "\t<tr><td>4</td><td>8</td><td>16</td><td>20</td></tr>\n",
       "</tbody>\n",
       "</table>\n"
      ],
      "text/latex": [
       "A matrix: 4 × 4 of type int\n",
       "\\begin{tabular}{llll}\n",
       "\t 1 & 5 & 13 & 17\\\\\n",
       "\t 2 & 6 & 14 & 18\\\\\n",
       "\t 3 & 7 & 15 & 19\\\\\n",
       "\t 4 & 8 & 16 & 20\\\\\n",
       "\\end{tabular}\n"
      ],
      "text/markdown": [
       "\n",
       "A matrix: 4 × 4 of type int\n",
       "\n",
       "| 1 | 5 | 13 | 17 |\n",
       "| 2 | 6 | 14 | 18 |\n",
       "| 3 | 7 | 15 | 19 |\n",
       "| 4 | 8 | 16 | 20 |\n",
       "\n"
      ],
      "text/plain": [
       "     [,1] [,2] [,3] [,4]\n",
       "[1,] 1    5    13   17  \n",
       "[2,] 2    6    14   18  \n",
       "[3,] 3    7    15   19  \n",
       "[4,] 4    8    16   20  "
      ]
     },
     "metadata": {},
     "output_type": "display_data"
    },
    {
     "data": {
      "text/html": [
       "<table class=\"dataframe\">\n",
       "<caption>A matrix: 3 × 4 of type int</caption>\n",
       "<tbody>\n",
       "\t<tr><td>2</td><td>10</td><td>14</td><td>18</td></tr>\n",
       "\t<tr><td>3</td><td>11</td><td>15</td><td>19</td></tr>\n",
       "\t<tr><td>4</td><td>12</td><td>16</td><td>20</td></tr>\n",
       "</tbody>\n",
       "</table>\n"
      ],
      "text/latex": [
       "A matrix: 3 × 4 of type int\n",
       "\\begin{tabular}{llll}\n",
       "\t 2 & 10 & 14 & 18\\\\\n",
       "\t 3 & 11 & 15 & 19\\\\\n",
       "\t 4 & 12 & 16 & 20\\\\\n",
       "\\end{tabular}\n"
      ],
      "text/markdown": [
       "\n",
       "A matrix: 3 × 4 of type int\n",
       "\n",
       "| 2 | 10 | 14 | 18 |\n",
       "| 3 | 11 | 15 | 19 |\n",
       "| 4 | 12 | 16 | 20 |\n",
       "\n"
      ],
      "text/plain": [
       "     [,1] [,2] [,3] [,4]\n",
       "[1,] 2    10   14   18  \n",
       "[2,] 3    11   15   19  \n",
       "[3,] 4    12   16   20  "
      ]
     },
     "metadata": {},
     "output_type": "display_data"
    }
   ],
   "source": [
    "arr[-2,]  # all rows but the second\n",
    "arr[,-3]  # all cols but the third\n",
    "arr[-1, -2]  # removes first row and second col"
   ]
  },
  {
   "cell_type": "markdown",
   "id": "a9eac098",
   "metadata": {},
   "source": [
    "#### Matrix Manipulations"
   ]
  },
  {
   "cell_type": "markdown",
   "id": "27bb083d",
   "metadata": {},
   "source": [
    "When you apply an operation to a matrix, that operation applies to all elements. [Helpful resource here](https://www.khanacademy.org/math/linear-algebra/matrix-transformations/linear-transformations/v/a-more-formal-understanding-of-functions)\n",
    "\n",
    "Multiplying a matrix by 5 will apply that to all members."
   ]
  },
  {
   "cell_type": "code",
   "execution_count": 98,
   "id": "16cb40df",
   "metadata": {
    "vscode": {
     "languageId": "r"
    }
   },
   "outputs": [
    {
     "data": {
      "text/html": [
       "<table class=\"dataframe\">\n",
       "<caption>A matrix: 3 × 3 of type int</caption>\n",
       "<tbody>\n",
       "\t<tr><td>1</td><td>4</td><td>7</td></tr>\n",
       "\t<tr><td>2</td><td>5</td><td>8</td></tr>\n",
       "\t<tr><td>3</td><td>6</td><td>9</td></tr>\n",
       "</tbody>\n",
       "</table>\n"
      ],
      "text/latex": [
       "A matrix: 3 × 3 of type int\n",
       "\\begin{tabular}{lll}\n",
       "\t 1 & 4 & 7\\\\\n",
       "\t 2 & 5 & 8\\\\\n",
       "\t 3 & 6 & 9\\\\\n",
       "\\end{tabular}\n"
      ],
      "text/markdown": [
       "\n",
       "A matrix: 3 × 3 of type int\n",
       "\n",
       "| 1 | 4 | 7 |\n",
       "| 2 | 5 | 8 |\n",
       "| 3 | 6 | 9 |\n",
       "\n"
      ],
      "text/plain": [
       "     [,1] [,2] [,3]\n",
       "[1,] 1    4    7   \n",
       "[2,] 2    5    8   \n",
       "[3,] 3    6    9   "
      ]
     },
     "metadata": {},
     "output_type": "display_data"
    }
   ],
   "source": [
    "arr = array(seq(1,9), dim=c(3,3))\n",
    "arr"
   ]
  },
  {
   "cell_type": "code",
   "execution_count": 99,
   "id": "c27d8d6d",
   "metadata": {
    "vscode": {
     "languageId": "r"
    }
   },
   "outputs": [
    {
     "data": {
      "text/html": [
       "<table class=\"dataframe\">\n",
       "<caption>A matrix: 3 × 3 of type dbl</caption>\n",
       "<tbody>\n",
       "\t<tr><td> 5</td><td>20</td><td>35</td></tr>\n",
       "\t<tr><td>10</td><td>25</td><td>40</td></tr>\n",
       "\t<tr><td>15</td><td>30</td><td>45</td></tr>\n",
       "</tbody>\n",
       "</table>\n"
      ],
      "text/latex": [
       "A matrix: 3 × 3 of type dbl\n",
       "\\begin{tabular}{lll}\n",
       "\t  5 & 20 & 35\\\\\n",
       "\t 10 & 25 & 40\\\\\n",
       "\t 15 & 30 & 45\\\\\n",
       "\\end{tabular}\n"
      ],
      "text/markdown": [
       "\n",
       "A matrix: 3 × 3 of type dbl\n",
       "\n",
       "|  5 | 20 | 35 |\n",
       "| 10 | 25 | 40 |\n",
       "| 15 | 30 | 45 |\n",
       "\n"
      ],
      "text/plain": [
       "     [,1] [,2] [,3]\n",
       "[1,]  5   20   35  \n",
       "[2,] 10   25   40  \n",
       "[3,] 15   30   45  "
      ]
     },
     "metadata": {},
     "output_type": "display_data"
    }
   ],
   "source": [
    "arr * 5"
   ]
  },
  {
   "cell_type": "markdown",
   "id": "d83d73f4",
   "metadata": {},
   "source": [
    "Transposing a matrix flips the values in the rows to instead be in the columns. It's simply done with `t()`"
   ]
  },
  {
   "cell_type": "code",
   "execution_count": 100,
   "id": "cd1d75a5",
   "metadata": {
    "vscode": {
     "languageId": "r"
    }
   },
   "outputs": [
    {
     "data": {
      "text/html": [
       "<table class=\"dataframe\">\n",
       "<caption>A matrix: 3 × 3 of type int</caption>\n",
       "<tbody>\n",
       "\t<tr><td>1</td><td>2</td><td>3</td></tr>\n",
       "\t<tr><td>4</td><td>5</td><td>6</td></tr>\n",
       "\t<tr><td>7</td><td>8</td><td>9</td></tr>\n",
       "</tbody>\n",
       "</table>\n"
      ],
      "text/latex": [
       "A matrix: 3 × 3 of type int\n",
       "\\begin{tabular}{lll}\n",
       "\t 1 & 2 & 3\\\\\n",
       "\t 4 & 5 & 6\\\\\n",
       "\t 7 & 8 & 9\\\\\n",
       "\\end{tabular}\n"
      ],
      "text/markdown": [
       "\n",
       "A matrix: 3 × 3 of type int\n",
       "\n",
       "| 1 | 2 | 3 |\n",
       "| 4 | 5 | 6 |\n",
       "| 7 | 8 | 9 |\n",
       "\n"
      ],
      "text/plain": [
       "     [,1] [,2] [,3]\n",
       "[1,] 1    2    3   \n",
       "[2,] 4    5    6   \n",
       "[3,] 7    8    9   "
      ]
     },
     "metadata": {},
     "output_type": "display_data"
    }
   ],
   "source": [
    "t(arr)"
   ]
  },
  {
   "attachments": {
    "image.png": {
     "image/png": "[encoded data removed]"
    }
   },
   "cell_type": "markdown",
   "id": "fb7f84ac",
   "metadata": {},
   "source": [
    "Matrix multiplication is performed only on matrices that are equal in the number of columns. The final matrix for any position (element within the matrix) is the dot product of the row in the first matrix with the column of the second.\n",
    "\n",
    "![image.png](attachment:image.png)\n",
    "\n",
    "Essentially, you are \"mapping\" the element of the row to column.\n",
    "\n",
    "You can do matrix multiplication in R with the `%*%` operator"
   ]
  },
  {
   "cell_type": "code",
   "execution_count": 104,
   "id": "b6172d89",
   "metadata": {
    "vscode": {
     "languageId": "r"
    }
   },
   "outputs": [
    {
     "data": {
      "text/html": [
       "<table class=\"dataframe\">\n",
       "<caption>A matrix: 2 × 2 of type dbl</caption>\n",
       "<tbody>\n",
       "\t<tr><td>1</td><td>2</td></tr>\n",
       "\t<tr><td>3</td><td>4</td></tr>\n",
       "</tbody>\n",
       "</table>\n"
      ],
      "text/latex": [
       "A matrix: 2 × 2 of type dbl\n",
       "\\begin{tabular}{ll}\n",
       "\t 1 & 2\\\\\n",
       "\t 3 & 4\\\\\n",
       "\\end{tabular}\n"
      ],
      "text/markdown": [
       "\n",
       "A matrix: 2 × 2 of type dbl\n",
       "\n",
       "| 1 | 2 |\n",
       "| 3 | 4 |\n",
       "\n"
      ],
      "text/plain": [
       "     [,1] [,2]\n",
       "[1,] 1    2   \n",
       "[2,] 3    4   "
      ]
     },
     "metadata": {},
     "output_type": "display_data"
    },
    {
     "data": {
      "text/html": [
       "<table class=\"dataframe\">\n",
       "<caption>A matrix: 2 × 2 of type dbl</caption>\n",
       "<tbody>\n",
       "\t<tr><td>5</td><td>6</td></tr>\n",
       "\t<tr><td>0</td><td>7</td></tr>\n",
       "</tbody>\n",
       "</table>\n"
      ],
      "text/latex": [
       "A matrix: 2 × 2 of type dbl\n",
       "\\begin{tabular}{ll}\n",
       "\t 5 & 6\\\\\n",
       "\t 0 & 7\\\\\n",
       "\\end{tabular}\n"
      ],
      "text/markdown": [
       "\n",
       "A matrix: 2 × 2 of type dbl\n",
       "\n",
       "| 5 | 6 |\n",
       "| 0 | 7 |\n",
       "\n"
      ],
      "text/plain": [
       "     [,1] [,2]\n",
       "[1,] 5    6   \n",
       "[2,] 0    7   "
      ]
     },
     "metadata": {},
     "output_type": "display_data"
    },
    {
     "data": {
      "text/html": [
       "'Multiplied...'"
      ],
      "text/latex": [
       "'Multiplied...'"
      ],
      "text/markdown": [
       "'Multiplied...'"
      ],
      "text/plain": [
       "[1] \"Multiplied...\""
      ]
     },
     "metadata": {},
     "output_type": "display_data"
    },
    {
     "data": {
      "text/html": [
       "<table class=\"dataframe\">\n",
       "<caption>A matrix: 2 × 2 of type dbl</caption>\n",
       "<tbody>\n",
       "\t<tr><td> 5</td><td>20</td></tr>\n",
       "\t<tr><td>15</td><td>46</td></tr>\n",
       "</tbody>\n",
       "</table>\n"
      ],
      "text/latex": [
       "A matrix: 2 × 2 of type dbl\n",
       "\\begin{tabular}{ll}\n",
       "\t  5 & 20\\\\\n",
       "\t 15 & 46\\\\\n",
       "\\end{tabular}\n"
      ],
      "text/markdown": [
       "\n",
       "A matrix: 2 × 2 of type dbl\n",
       "\n",
       "|  5 | 20 |\n",
       "| 15 | 46 |\n",
       "\n"
      ],
      "text/plain": [
       "     [,1] [,2]\n",
       "[1,]  5   20  \n",
       "[2,] 15   46  "
      ]
     },
     "metadata": {},
     "output_type": "display_data"
    }
   ],
   "source": [
    "arr1 = array(c(1,3,2,4), dim=c(2,2))\n",
    "arr2 = array(c(5,0,6,7), dim=c(2,2))\n",
    "\n",
    "arr1\n",
    "arr2\n",
    "\n",
    "\"Multiplied...\"\n",
    "arr1 %*% arr2"
   ]
  },
  {
   "cell_type": "markdown",
   "id": "f125d29d",
   "metadata": {},
   "source": [
    "Adding columns can be done with `cbind` and rows with `rbind`"
   ]
  },
  {
   "cell_type": "code",
   "execution_count": null,
   "id": "c23faf20",
   "metadata": {
    "vscode": {
     "languageId": "r"
    }
   },
   "outputs": [
    {
     "data": {
      "text/html": [
       "<style>\n",
       ".list-inline {list-style: none; margin:0; padding: 0}\n",
       ".list-inline>li {display: inline-block}\n",
       ".list-inline>li:not(:last-child)::after {content: \"\\00b7\"; padding: 0 .5ex}\n",
       "</style>\n",
       "<ol class=list-inline><li>1</li><li>3</li></ol>\n"
      ],
      "text/latex": [
       "\\begin{enumerate*}\n",
       "\\item 1\n",
       "\\item 3\n",
       "\\end{enumerate*}\n"
      ],
      "text/markdown": [
       "1. 1\n",
       "2. 3\n",
       "\n",
       "\n"
      ],
      "text/plain": [
       "[1] 1 3"
      ]
     },
     "metadata": {},
     "output_type": "display_data"
    },
    {
     "data": {
      "text/html": [
       "<style>\n",
       ".list-inline {list-style: none; margin:0; padding: 0}\n",
       ".list-inline>li {display: inline-block}\n",
       ".list-inline>li:not(:last-child)::after {content: \"\\00b7\"; padding: 0 .5ex}\n",
       "</style>\n",
       "<ol class=list-inline><li>5</li><li>0</li></ol>\n"
      ],
      "text/latex": [
       "\\begin{enumerate*}\n",
       "\\item 5\n",
       "\\item 0\n",
       "\\end{enumerate*}\n"
      ],
      "text/markdown": [
       "1. 5\n",
       "2. 0\n",
       "\n",
       "\n"
      ],
      "text/plain": [
       "[1] 5 0"
      ]
     },
     "metadata": {},
     "output_type": "display_data"
    },
    {
     "data": {
      "text/html": [
       "<table class=\"dataframe\">\n",
       "<caption>A matrix: 2 × 2 of type dbl</caption>\n",
       "<tbody>\n",
       "\t<tr><td>1</td><td>5</td></tr>\n",
       "\t<tr><td>3</td><td>0</td></tr>\n",
       "</tbody>\n",
       "</table>\n"
      ],
      "text/latex": [
       "A matrix: 2 × 2 of type dbl\n",
       "\\begin{tabular}{ll}\n",
       "\t 1 & 5\\\\\n",
       "\t 3 & 0\\\\\n",
       "\\end{tabular}\n"
      ],
      "text/markdown": [
       "\n",
       "A matrix: 2 × 2 of type dbl\n",
       "\n",
       "| 1 | 5 |\n",
       "| 3 | 0 |\n",
       "\n"
      ],
      "text/plain": [
       "     [,1] [,2]\n",
       "[1,] 1    5   \n",
       "[2,] 3    0   "
      ]
     },
     "metadata": {},
     "output_type": "display_data"
    },
    {
     "data": {
      "text/html": [
       "<table class=\"dataframe\">\n",
       "<caption>A matrix: 2 × 2 of type dbl</caption>\n",
       "<tbody>\n",
       "\t<tr><td>1</td><td>2</td></tr>\n",
       "\t<tr><td>5</td><td>6</td></tr>\n",
       "</tbody>\n",
       "</table>\n"
      ],
      "text/latex": [
       "A matrix: 2 × 2 of type dbl\n",
       "\\begin{tabular}{ll}\n",
       "\t 1 & 2\\\\\n",
       "\t 5 & 6\\\\\n",
       "\\end{tabular}\n"
      ],
      "text/markdown": [
       "\n",
       "A matrix: 2 × 2 of type dbl\n",
       "\n",
       "| 1 | 2 |\n",
       "| 5 | 6 |\n",
       "\n"
      ],
      "text/plain": [
       "     [,1] [,2]\n",
       "[1,] 1    2   \n",
       "[2,] 5    6   "
      ]
     },
     "metadata": {},
     "output_type": "display_data"
    }
   ],
   "source": [
    "arr1[,1]\n",
    "arr2[,1]\n",
    "\n",
    "cbind(arr1[,1], arr2[,1])\n",
    "rbind(arr1[1,], arr2[1,]) "
   ]
  },
  {
   "cell_type": "markdown",
   "id": "b750e361",
   "metadata": {},
   "source": [
    "Calculate the inner product with `x[1, ] %*% y[1, ]`"
   ]
  },
  {
   "cell_type": "code",
   "execution_count": null,
   "id": "cad09c71",
   "metadata": {
    "vscode": {
     "languageId": "r"
    }
   },
   "outputs": [
    {
     "data": {
      "text/html": [
       "<style>\n",
       ".list-inline {list-style: none; margin:0; padding: 0}\n",
       ".list-inline>li {display: inline-block}\n",
       ".list-inline>li:not(:last-child)::after {content: \"\\00b7\"; padding: 0 .5ex}\n",
       "</style>\n",
       "<ol class=list-inline><li>1</li><li>2</li></ol>\n"
      ],
      "text/latex": [
       "\\begin{enumerate*}\n",
       "\\item 1\n",
       "\\item 2\n",
       "\\end{enumerate*}\n"
      ],
      "text/markdown": [
       "1. 1\n",
       "2. 2\n",
       "\n",
       "\n"
      ],
      "text/plain": [
       "[1] 1 2"
      ]
     },
     "metadata": {},
     "output_type": "display_data"
    },
    {
     "data": {
      "text/html": [
       "<style>\n",
       ".list-inline {list-style: none; margin:0; padding: 0}\n",
       ".list-inline>li {display: inline-block}\n",
       ".list-inline>li:not(:last-child)::after {content: \"\\00b7\"; padding: 0 .5ex}\n",
       "</style>\n",
       "<ol class=list-inline><li>5</li><li>6</li></ol>\n"
      ],
      "text/latex": [
       "\\begin{enumerate*}\n",
       "\\item 5\n",
       "\\item 6\n",
       "\\end{enumerate*}\n"
      ],
      "text/markdown": [
       "1. 5\n",
       "2. 6\n",
       "\n",
       "\n"
      ],
      "text/plain": [
       "[1] 5 6"
      ]
     },
     "metadata": {},
     "output_type": "display_data"
    },
    {
     "data": {
      "text/html": [
       "<table class=\"dataframe\">\n",
       "<caption>A matrix: 1 × 1 of type dbl</caption>\n",
       "<tbody>\n",
       "\t<tr><td>17</td></tr>\n",
       "</tbody>\n",
       "</table>\n"
      ],
      "text/latex": [
       "A matrix: 1 × 1 of type dbl\n",
       "\\begin{tabular}{l}\n",
       "\t 17\\\\\n",
       "\\end{tabular}\n"
      ],
      "text/markdown": [
       "\n",
       "A matrix: 1 × 1 of type dbl\n",
       "\n",
       "| 17 |\n",
       "\n"
      ],
      "text/plain": [
       "     [,1]\n",
       "[1,] 17  "
      ]
     },
     "metadata": {},
     "output_type": "display_data"
    }
   ],
   "source": [
    "arr1[1,]\n",
    "arr2[1,]\n",
    "\n",
    "arr1[1,] %*% arr2[1,]  # 1*5 + 2*6"
   ]
  },
  {
   "cell_type": "markdown",
   "id": "90c4f53b",
   "metadata": {},
   "source": [
    "Concatenation of matrices"
   ]
  },
  {
   "cell_type": "code",
   "execution_count": 120,
   "id": "e3984694",
   "metadata": {
    "vscode": {
     "languageId": "r"
    }
   },
   "outputs": [
    {
     "data": {
      "text/html": [
       "<table class=\"dataframe\">\n",
       "<caption>A matrix: 2 × 2 of type dbl</caption>\n",
       "<tbody>\n",
       "\t<tr><td>1</td><td>2</td></tr>\n",
       "\t<tr><td>3</td><td>4</td></tr>\n",
       "</tbody>\n",
       "</table>\n"
      ],
      "text/latex": [
       "A matrix: 2 × 2 of type dbl\n",
       "\\begin{tabular}{ll}\n",
       "\t 1 & 2\\\\\n",
       "\t 3 & 4\\\\\n",
       "\\end{tabular}\n"
      ],
      "text/markdown": [
       "\n",
       "A matrix: 2 × 2 of type dbl\n",
       "\n",
       "| 1 | 2 |\n",
       "| 3 | 4 |\n",
       "\n"
      ],
      "text/plain": [
       "     [,1] [,2]\n",
       "[1,] 1    2   \n",
       "[2,] 3    4   "
      ]
     },
     "metadata": {},
     "output_type": "display_data"
    },
    {
     "data": {
      "text/html": [
       "<table class=\"dataframe\">\n",
       "<caption>A matrix: 2 × 2 of type dbl</caption>\n",
       "<tbody>\n",
       "\t<tr><td>5</td><td>6</td></tr>\n",
       "\t<tr><td>0</td><td>7</td></tr>\n",
       "</tbody>\n",
       "</table>\n"
      ],
      "text/latex": [
       "A matrix: 2 × 2 of type dbl\n",
       "\\begin{tabular}{ll}\n",
       "\t 5 & 6\\\\\n",
       "\t 0 & 7\\\\\n",
       "\\end{tabular}\n"
      ],
      "text/markdown": [
       "\n",
       "A matrix: 2 × 2 of type dbl\n",
       "\n",
       "| 5 | 6 |\n",
       "| 0 | 7 |\n",
       "\n"
      ],
      "text/plain": [
       "     [,1] [,2]\n",
       "[1,] 5    6   \n",
       "[2,] 0    7   "
      ]
     },
     "metadata": {},
     "output_type": "display_data"
    },
    {
     "data": {
      "text/html": [
       "<table class=\"dataframe\">\n",
       "<caption>A matrix: 2 × 2 of type dbl</caption>\n",
       "<tbody>\n",
       "\t<tr><td>1</td><td>2</td></tr>\n",
       "\t<tr><td>5</td><td>6</td></tr>\n",
       "</tbody>\n",
       "</table>\n"
      ],
      "text/latex": [
       "A matrix: 2 × 2 of type dbl\n",
       "\\begin{tabular}{ll}\n",
       "\t 1 & 2\\\\\n",
       "\t 5 & 6\\\\\n",
       "\\end{tabular}\n"
      ],
      "text/markdown": [
       "\n",
       "A matrix: 2 × 2 of type dbl\n",
       "\n",
       "| 1 | 2 |\n",
       "| 5 | 6 |\n",
       "\n"
      ],
      "text/plain": [
       "     [,1] [,2]\n",
       "[1,] 1    2   \n",
       "[2,] 5    6   "
      ]
     },
     "metadata": {},
     "output_type": "display_data"
    },
    {
     "data": {
      "text/html": [
       "<table class=\"dataframe\">\n",
       "<caption>A matrix: 2 × 2 of type dbl</caption>\n",
       "<tbody>\n",
       "\t<tr><td>1</td><td>5</td></tr>\n",
       "\t<tr><td>2</td><td>6</td></tr>\n",
       "</tbody>\n",
       "</table>\n"
      ],
      "text/latex": [
       "A matrix: 2 × 2 of type dbl\n",
       "\\begin{tabular}{ll}\n",
       "\t 1 & 5\\\\\n",
       "\t 2 & 6\\\\\n",
       "\\end{tabular}\n"
      ],
      "text/markdown": [
       "\n",
       "A matrix: 2 × 2 of type dbl\n",
       "\n",
       "| 1 | 5 |\n",
       "| 2 | 6 |\n",
       "\n"
      ],
      "text/plain": [
       "     [,1] [,2]\n",
       "[1,] 1    5   \n",
       "[2,] 2    6   "
      ]
     },
     "metadata": {},
     "output_type": "display_data"
    },
    {
     "data": {
      "text/html": [
       "<table class=\"dataframe\">\n",
       "<caption>A matrix: 2 × 2 of type dbl</caption>\n",
       "<tbody>\n",
       "\t<tr><td>1</td><td>5</td></tr>\n",
       "\t<tr><td>3</td><td>0</td></tr>\n",
       "</tbody>\n",
       "</table>\n"
      ],
      "text/latex": [
       "A matrix: 2 × 2 of type dbl\n",
       "\\begin{tabular}{ll}\n",
       "\t 1 & 5\\\\\n",
       "\t 3 & 0\\\\\n",
       "\\end{tabular}\n"
      ],
      "text/markdown": [
       "\n",
       "A matrix: 2 × 2 of type dbl\n",
       "\n",
       "| 1 | 5 |\n",
       "| 3 | 0 |\n",
       "\n"
      ],
      "text/plain": [
       "     [,1] [,2]\n",
       "[1,] 1    5   \n",
       "[2,] 3    0   "
      ]
     },
     "metadata": {},
     "output_type": "display_data"
    }
   ],
   "source": [
    "arr1\n",
    "arr2\n",
    "\n",
    "rbind(arr1[1,], arr2[1,])\n",
    "cbind(arr1[1,], arr2[1,])\n",
    "cbind(arr1[,1], arr2[,1])"
   ]
  },
  {
   "cell_type": "markdown",
   "id": "a56a1b09",
   "metadata": {},
   "source": [
    "### `data.frame` (Iris Dataset)"
   ]
  },
  {
   "cell_type": "markdown",
   "id": "3298a4ce",
   "metadata": {},
   "source": [
    "Think `pd.DataFrame`"
   ]
  },
  {
   "cell_type": "code",
   "execution_count": 124,
   "id": "7421a59b",
   "metadata": {
    "vscode": {
     "languageId": "r"
    }
   },
   "outputs": [
    {
     "data": {
      "text/html": [
       "'data.frame'"
      ],
      "text/latex": [
       "'data.frame'"
      ],
      "text/markdown": [
       "'data.frame'"
      ],
      "text/plain": [
       "[1] \"data.frame\""
      ]
     },
     "metadata": {},
     "output_type": "display_data"
    }
   ],
   "source": [
    "class(iris)"
   ]
  },
  {
   "cell_type": "code",
   "execution_count": 125,
   "id": "3bea182e",
   "metadata": {
    "vscode": {
     "languageId": "r"
    }
   },
   "outputs": [
    {
     "data": {
      "text/html": [
       "<table class=\"dataframe\">\n",
       "<caption>A data.frame: 6 × 5</caption>\n",
       "<thead>\n",
       "\t<tr><th></th><th scope=col>Sepal.Length</th><th scope=col>Sepal.Width</th><th scope=col>Petal.Length</th><th scope=col>Petal.Width</th><th scope=col>Species</th></tr>\n",
       "\t<tr><th></th><th scope=col>&lt;dbl&gt;</th><th scope=col>&lt;dbl&gt;</th><th scope=col>&lt;dbl&gt;</th><th scope=col>&lt;dbl&gt;</th><th scope=col>&lt;fct&gt;</th></tr>\n",
       "</thead>\n",
       "<tbody>\n",
       "\t<tr><th scope=row>1</th><td>5.1</td><td>3.5</td><td>1.4</td><td>0.2</td><td>setosa</td></tr>\n",
       "\t<tr><th scope=row>2</th><td>4.9</td><td>3.0</td><td>1.4</td><td>0.2</td><td>setosa</td></tr>\n",
       "\t<tr><th scope=row>3</th><td>4.7</td><td>3.2</td><td>1.3</td><td>0.2</td><td>setosa</td></tr>\n",
       "\t<tr><th scope=row>4</th><td>4.6</td><td>3.1</td><td>1.5</td><td>0.2</td><td>setosa</td></tr>\n",
       "\t<tr><th scope=row>5</th><td>5.0</td><td>3.6</td><td>1.4</td><td>0.2</td><td>setosa</td></tr>\n",
       "\t<tr><th scope=row>6</th><td>5.4</td><td>3.9</td><td>1.7</td><td>0.4</td><td>setosa</td></tr>\n",
       "</tbody>\n",
       "</table>\n"
      ],
      "text/latex": [
       "A data.frame: 6 × 5\n",
       "\\begin{tabular}{r|lllll}\n",
       "  & Sepal.Length & Sepal.Width & Petal.Length & Petal.Width & Species\\\\\n",
       "  & <dbl> & <dbl> & <dbl> & <dbl> & <fct>\\\\\n",
       "\\hline\n",
       "\t1 & 5.1 & 3.5 & 1.4 & 0.2 & setosa\\\\\n",
       "\t2 & 4.9 & 3.0 & 1.4 & 0.2 & setosa\\\\\n",
       "\t3 & 4.7 & 3.2 & 1.3 & 0.2 & setosa\\\\\n",
       "\t4 & 4.6 & 3.1 & 1.5 & 0.2 & setosa\\\\\n",
       "\t5 & 5.0 & 3.6 & 1.4 & 0.2 & setosa\\\\\n",
       "\t6 & 5.4 & 3.9 & 1.7 & 0.4 & setosa\\\\\n",
       "\\end{tabular}\n"
      ],
      "text/markdown": [
       "\n",
       "A data.frame: 6 × 5\n",
       "\n",
       "| <!--/--> | Sepal.Length &lt;dbl&gt; | Sepal.Width &lt;dbl&gt; | Petal.Length &lt;dbl&gt; | Petal.Width &lt;dbl&gt; | Species &lt;fct&gt; |\n",
       "|---|---|---|---|---|---|\n",
       "| 1 | 5.1 | 3.5 | 1.4 | 0.2 | setosa |\n",
       "| 2 | 4.9 | 3.0 | 1.4 | 0.2 | setosa |\n",
       "| 3 | 4.7 | 3.2 | 1.3 | 0.2 | setosa |\n",
       "| 4 | 4.6 | 3.1 | 1.5 | 0.2 | setosa |\n",
       "| 5 | 5.0 | 3.6 | 1.4 | 0.2 | setosa |\n",
       "| 6 | 5.4 | 3.9 | 1.7 | 0.4 | setosa |\n",
       "\n"
      ],
      "text/plain": [
       "  Sepal.Length Sepal.Width Petal.Length Petal.Width Species\n",
       "1 5.1          3.5         1.4          0.2         setosa \n",
       "2 4.9          3.0         1.4          0.2         setosa \n",
       "3 4.7          3.2         1.3          0.2         setosa \n",
       "4 4.6          3.1         1.5          0.2         setosa \n",
       "5 5.0          3.6         1.4          0.2         setosa \n",
       "6 5.4          3.9         1.7          0.4         setosa "
      ]
     },
     "metadata": {},
     "output_type": "display_data"
    },
    {
     "data": {
      "text/html": [
       "<table class=\"dataframe\">\n",
       "<caption>A data.frame: 1 × 5</caption>\n",
       "<thead>\n",
       "\t<tr><th></th><th scope=col>Sepal.Length</th><th scope=col>Sepal.Width</th><th scope=col>Petal.Length</th><th scope=col>Petal.Width</th><th scope=col>Species</th></tr>\n",
       "\t<tr><th></th><th scope=col>&lt;dbl&gt;</th><th scope=col>&lt;dbl&gt;</th><th scope=col>&lt;dbl&gt;</th><th scope=col>&lt;dbl&gt;</th><th scope=col>&lt;fct&gt;</th></tr>\n",
       "</thead>\n",
       "<tbody>\n",
       "\t<tr><th scope=row>150</th><td>5.9</td><td>3</td><td>5.1</td><td>1.8</td><td>virginica</td></tr>\n",
       "</tbody>\n",
       "</table>\n"
      ],
      "text/latex": [
       "A data.frame: 1 × 5\n",
       "\\begin{tabular}{r|lllll}\n",
       "  & Sepal.Length & Sepal.Width & Petal.Length & Petal.Width & Species\\\\\n",
       "  & <dbl> & <dbl> & <dbl> & <dbl> & <fct>\\\\\n",
       "\\hline\n",
       "\t150 & 5.9 & 3 & 5.1 & 1.8 & virginica\\\\\n",
       "\\end{tabular}\n"
      ],
      "text/markdown": [
       "\n",
       "A data.frame: 1 × 5\n",
       "\n",
       "| <!--/--> | Sepal.Length &lt;dbl&gt; | Sepal.Width &lt;dbl&gt; | Petal.Length &lt;dbl&gt; | Petal.Width &lt;dbl&gt; | Species &lt;fct&gt; |\n",
       "|---|---|---|---|---|---|\n",
       "| 150 | 5.9 | 3 | 5.1 | 1.8 | virginica |\n",
       "\n"
      ],
      "text/plain": [
       "    Sepal.Length Sepal.Width Petal.Length Petal.Width Species  \n",
       "150 5.9          3           5.1          1.8         virginica"
      ]
     },
     "metadata": {},
     "output_type": "display_data"
    }
   ],
   "source": [
    "head(iris)  # it's a built-in dataset!\n",
    "tail(iris, 1)"
   ]
  },
  {
   "cell_type": "code",
   "execution_count": null,
   "id": "3dce2bd5",
   "metadata": {
    "vscode": {
     "languageId": "r"
    }
   },
   "outputs": [
    {
     "data": {
      "text/html": [
       "<style>\n",
       ".list-inline {list-style: none; margin:0; padding: 0}\n",
       ".list-inline>li {display: inline-block}\n",
       ".list-inline>li:not(:last-child)::after {content: \"\\00b7\"; padding: 0 .5ex}\n",
       "</style>\n",
       "<ol class=list-inline><li>150</li><li>5</li></ol>\n"
      ],
      "text/latex": [
       "\\begin{enumerate*}\n",
       "\\item 150\n",
       "\\item 5\n",
       "\\end{enumerate*}\n"
      ],
      "text/markdown": [
       "1. 150\n",
       "2. 5\n",
       "\n",
       "\n"
      ],
      "text/plain": [
       "[1] 150   5"
      ]
     },
     "metadata": {},
     "output_type": "display_data"
    }
   ],
   "source": [
    "dim(iris)  # basically df.shape - returns dimensions (rows X cols)"
   ]
  },
  {
   "cell_type": "code",
   "execution_count": 130,
   "id": "7d99ea7a",
   "metadata": {
    "vscode": {
     "languageId": "r"
    }
   },
   "outputs": [
    {
     "data": {
      "text/plain": [
       "  Sepal.Length    Sepal.Width     Petal.Length    Petal.Width   \n",
       " Min.   :4.300   Min.   :2.000   Min.   :1.000   Min.   :0.100  \n",
       " 1st Qu.:5.100   1st Qu.:2.800   1st Qu.:1.600   1st Qu.:0.300  \n",
       " Median :5.800   Median :3.000   Median :4.350   Median :1.300  \n",
       " Mean   :5.843   Mean   :3.057   Mean   :3.758   Mean   :1.199  \n",
       " 3rd Qu.:6.400   3rd Qu.:3.300   3rd Qu.:5.100   3rd Qu.:1.800  \n",
       " Max.   :7.900   Max.   :4.400   Max.   :6.900   Max.   :2.500  \n",
       "       Species  \n",
       " setosa    :50  \n",
       " versicolor:50  \n",
       " virginica :50  \n",
       "                \n",
       "                \n",
       "                "
      ]
     },
     "metadata": {},
     "output_type": "display_data"
    }
   ],
   "source": [
    "summary(iris)"
   ]
  },
  {
   "cell_type": "markdown",
   "id": "2d730248",
   "metadata": {},
   "source": [
    "Accessing certain columns with `$` notation"
   ]
  },
  {
   "cell_type": "code",
   "execution_count": 133,
   "id": "1517b22c",
   "metadata": {
    "vscode": {
     "languageId": "r"
    }
   },
   "outputs": [
    {
     "data": {
      "text/html": [
       "<style>\n",
       ".list-inline {list-style: none; margin:0; padding: 0}\n",
       ".list-inline>li {display: inline-block}\n",
       ".list-inline>li:not(:last-child)::after {content: \"\\00b7\"; padding: 0 .5ex}\n",
       "</style>\n",
       "<ol class=list-inline><li>5.1</li><li>4.9</li><li>4.7</li><li>4.6</li><li>5</li><li>5.4</li><li>4.6</li><li>5</li><li>4.4</li><li>4.9</li><li>5.4</li><li>4.8</li><li>4.8</li><li>4.3</li><li>5.8</li><li>5.7</li><li>5.4</li><li>5.1</li><li>5.7</li><li>5.1</li><li>5.4</li><li>5.1</li><li>4.6</li><li>5.1</li><li>4.8</li><li>5</li><li>5</li><li>5.2</li><li>5.2</li><li>4.7</li><li>4.8</li><li>5.4</li><li>5.2</li><li>5.5</li><li>4.9</li><li>5</li><li>5.5</li><li>4.9</li><li>4.4</li><li>5.1</li><li>5</li><li>4.5</li><li>4.4</li><li>5</li><li>5.1</li><li>4.8</li><li>5.1</li><li>4.6</li><li>5.3</li><li>5</li><li>7</li><li>6.4</li><li>6.9</li><li>5.5</li><li>6.5</li><li>5.7</li><li>6.3</li><li>4.9</li><li>6.6</li><li>5.2</li><li>5</li><li>5.9</li><li>6</li><li>6.1</li><li>5.6</li><li>6.7</li><li>5.6</li><li>5.8</li><li>6.2</li><li>5.6</li><li>5.9</li><li>6.1</li><li>6.3</li><li>6.1</li><li>6.4</li><li>6.6</li><li>6.8</li><li>6.7</li><li>6</li><li>5.7</li><li>5.5</li><li>5.5</li><li>5.8</li><li>6</li><li>5.4</li><li>6</li><li>6.7</li><li>6.3</li><li>5.6</li><li>5.5</li><li>5.5</li><li>6.1</li><li>5.8</li><li>5</li><li>5.6</li><li>5.7</li><li>5.7</li><li>6.2</li><li>5.1</li><li>5.7</li><li>6.3</li><li>5.8</li><li>7.1</li><li>6.3</li><li>6.5</li><li>7.6</li><li>4.9</li><li>7.3</li><li>6.7</li><li>7.2</li><li>6.5</li><li>6.4</li><li>6.8</li><li>5.7</li><li>5.8</li><li>6.4</li><li>6.5</li><li>7.7</li><li>7.7</li><li>6</li><li>6.9</li><li>5.6</li><li>7.7</li><li>6.3</li><li>6.7</li><li>7.2</li><li>6.2</li><li>6.1</li><li>6.4</li><li>7.2</li><li>7.4</li><li>7.9</li><li>6.4</li><li>6.3</li><li>6.1</li><li>7.7</li><li>6.3</li><li>6.4</li><li>6</li><li>6.9</li><li>6.7</li><li>6.9</li><li>5.8</li><li>6.8</li><li>6.7</li><li>6.7</li><li>6.3</li><li>6.5</li><li>6.2</li><li>5.9</li></ol>\n"
      ],
      "text/latex": [
       "\\begin{enumerate*}\n",
       "\\item 5.1\n",
       "\\item 4.9\n",
       "\\item 4.7\n",
       "\\item 4.6\n",
       "\\item 5\n",
       "\\item 5.4\n",
       "\\item 4.6\n",
       "\\item 5\n",
       "\\item 4.4\n",
       "\\item 4.9\n",
       "\\item 5.4\n",
       "\\item 4.8\n",
       "\\item 4.8\n",
       "\\item 4.3\n",
       "\\item 5.8\n",
       "\\item 5.7\n",
       "\\item 5.4\n",
       "\\item 5.1\n",
       "\\item 5.7\n",
       "\\item 5.1\n",
       "\\item 5.4\n",
       "\\item 5.1\n",
       "\\item 4.6\n",
       "\\item 5.1\n",
       "\\item 4.8\n",
       "\\item 5\n",
       "\\item 5\n",
       "\\item 5.2\n",
       "\\item 5.2\n",
       "\\item 4.7\n",
       "\\item 4.8\n",
       "\\item 5.4\n",
       "\\item 5.2\n",
       "\\item 5.5\n",
       "\\item 4.9\n",
       "\\item 5\n",
       "\\item 5.5\n",
       "\\item 4.9\n",
       "\\item 4.4\n",
       "\\item 5.1\n",
       "\\item 5\n",
       "\\item 4.5\n",
       "\\item 4.4\n",
       "\\item 5\n",
       "\\item 5.1\n",
       "\\item 4.8\n",
       "\\item 5.1\n",
       "\\item 4.6\n",
       "\\item 5.3\n",
       "\\item 5\n",
       "\\item 7\n",
       "\\item 6.4\n",
       "\\item 6.9\n",
       "\\item 5.5\n",
       "\\item 6.5\n",
       "\\item 5.7\n",
       "\\item 6.3\n",
       "\\item 4.9\n",
       "\\item 6.6\n",
       "\\item 5.2\n",
       "\\item 5\n",
       "\\item 5.9\n",
       "\\item 6\n",
       "\\item 6.1\n",
       "\\item 5.6\n",
       "\\item 6.7\n",
       "\\item 5.6\n",
       "\\item 5.8\n",
       "\\item 6.2\n",
       "\\item 5.6\n",
       "\\item 5.9\n",
       "\\item 6.1\n",
       "\\item 6.3\n",
       "\\item 6.1\n",
       "\\item 6.4\n",
       "\\item 6.6\n",
       "\\item 6.8\n",
       "\\item 6.7\n",
       "\\item 6\n",
       "\\item 5.7\n",
       "\\item 5.5\n",
       "\\item 5.5\n",
       "\\item 5.8\n",
       "\\item 6\n",
       "\\item 5.4\n",
       "\\item 6\n",
       "\\item 6.7\n",
       "\\item 6.3\n",
       "\\item 5.6\n",
       "\\item 5.5\n",
       "\\item 5.5\n",
       "\\item 6.1\n",
       "\\item 5.8\n",
       "\\item 5\n",
       "\\item 5.6\n",
       "\\item 5.7\n",
       "\\item 5.7\n",
       "\\item 6.2\n",
       "\\item 5.1\n",
       "\\item 5.7\n",
       "\\item 6.3\n",
       "\\item 5.8\n",
       "\\item 7.1\n",
       "\\item 6.3\n",
       "\\item 6.5\n",
       "\\item 7.6\n",
       "\\item 4.9\n",
       "\\item 7.3\n",
       "\\item 6.7\n",
       "\\item 7.2\n",
       "\\item 6.5\n",
       "\\item 6.4\n",
       "\\item 6.8\n",
       "\\item 5.7\n",
       "\\item 5.8\n",
       "\\item 6.4\n",
       "\\item 6.5\n",
       "\\item 7.7\n",
       "\\item 7.7\n",
       "\\item 6\n",
       "\\item 6.9\n",
       "\\item 5.6\n",
       "\\item 7.7\n",
       "\\item 6.3\n",
       "\\item 6.7\n",
       "\\item 7.2\n",
       "\\item 6.2\n",
       "\\item 6.1\n",
       "\\item 6.4\n",
       "\\item 7.2\n",
       "\\item 7.4\n",
       "\\item 7.9\n",
       "\\item 6.4\n",
       "\\item 6.3\n",
       "\\item 6.1\n",
       "\\item 7.7\n",
       "\\item 6.3\n",
       "\\item 6.4\n",
       "\\item 6\n",
       "\\item 6.9\n",
       "\\item 6.7\n",
       "\\item 6.9\n",
       "\\item 5.8\n",
       "\\item 6.8\n",
       "\\item 6.7\n",
       "\\item 6.7\n",
       "\\item 6.3\n",
       "\\item 6.5\n",
       "\\item 6.2\n",
       "\\item 5.9\n",
       "\\end{enumerate*}\n"
      ],
      "text/markdown": [
       "1. 5.1\n",
       "2. 4.9\n",
       "3. 4.7\n",
       "4. 4.6\n",
       "5. 5\n",
       "6. 5.4\n",
       "7. 4.6\n",
       "8. 5\n",
       "9. 4.4\n",
       "10. 4.9\n",
       "11. 5.4\n",
       "12. 4.8\n",
       "13. 4.8\n",
       "14. 4.3\n",
       "15. 5.8\n",
       "16. 5.7\n",
       "17. 5.4\n",
       "18. 5.1\n",
       "19. 5.7\n",
       "20. 5.1\n",
       "21. 5.4\n",
       "22. 5.1\n",
       "23. 4.6\n",
       "24. 5.1\n",
       "25. 4.8\n",
       "26. 5\n",
       "27. 5\n",
       "28. 5.2\n",
       "29. 5.2\n",
       "30. 4.7\n",
       "31. 4.8\n",
       "32. 5.4\n",
       "33. 5.2\n",
       "34. 5.5\n",
       "35. 4.9\n",
       "36. 5\n",
       "37. 5.5\n",
       "38. 4.9\n",
       "39. 4.4\n",
       "40. 5.1\n",
       "41. 5\n",
       "42. 4.5\n",
       "43. 4.4\n",
       "44. 5\n",
       "45. 5.1\n",
       "46. 4.8\n",
       "47. 5.1\n",
       "48. 4.6\n",
       "49. 5.3\n",
       "50. 5\n",
       "51. 7\n",
       "52. 6.4\n",
       "53. 6.9\n",
       "54. 5.5\n",
       "55. 6.5\n",
       "56. 5.7\n",
       "57. 6.3\n",
       "58. 4.9\n",
       "59. 6.6\n",
       "60. 5.2\n",
       "61. 5\n",
       "62. 5.9\n",
       "63. 6\n",
       "64. 6.1\n",
       "65. 5.6\n",
       "66. 6.7\n",
       "67. 5.6\n",
       "68. 5.8\n",
       "69. 6.2\n",
       "70. 5.6\n",
       "71. 5.9\n",
       "72. 6.1\n",
       "73. 6.3\n",
       "74. 6.1\n",
       "75. 6.4\n",
       "76. 6.6\n",
       "77. 6.8\n",
       "78. 6.7\n",
       "79. 6\n",
       "80. 5.7\n",
       "81. 5.5\n",
       "82. 5.5\n",
       "83. 5.8\n",
       "84. 6\n",
       "85. 5.4\n",
       "86. 6\n",
       "87. 6.7\n",
       "88. 6.3\n",
       "89. 5.6\n",
       "90. 5.5\n",
       "91. 5.5\n",
       "92. 6.1\n",
       "93. 5.8\n",
       "94. 5\n",
       "95. 5.6\n",
       "96. 5.7\n",
       "97. 5.7\n",
       "98. 6.2\n",
       "99. 5.1\n",
       "100. 5.7\n",
       "101. 6.3\n",
       "102. 5.8\n",
       "103. 7.1\n",
       "104. 6.3\n",
       "105. 6.5\n",
       "106. 7.6\n",
       "107. 4.9\n",
       "108. 7.3\n",
       "109. 6.7\n",
       "110. 7.2\n",
       "111. 6.5\n",
       "112. 6.4\n",
       "113. 6.8\n",
       "114. 5.7\n",
       "115. 5.8\n",
       "116. 6.4\n",
       "117. 6.5\n",
       "118. 7.7\n",
       "119. 7.7\n",
       "120. 6\n",
       "121. 6.9\n",
       "122. 5.6\n",
       "123. 7.7\n",
       "124. 6.3\n",
       "125. 6.7\n",
       "126. 7.2\n",
       "127. 6.2\n",
       "128. 6.1\n",
       "129. 6.4\n",
       "130. 7.2\n",
       "131. 7.4\n",
       "132. 7.9\n",
       "133. 6.4\n",
       "134. 6.3\n",
       "135. 6.1\n",
       "136. 7.7\n",
       "137. 6.3\n",
       "138. 6.4\n",
       "139. 6\n",
       "140. 6.9\n",
       "141. 6.7\n",
       "142. 6.9\n",
       "143. 5.8\n",
       "144. 6.8\n",
       "145. 6.7\n",
       "146. 6.7\n",
       "147. 6.3\n",
       "148. 6.5\n",
       "149. 6.2\n",
       "150. 5.9\n",
       "\n",
       "\n"
      ],
      "text/plain": [
       "  [1] 5.1 4.9 4.7 4.6 5.0 5.4 4.6 5.0 4.4 4.9 5.4 4.8 4.8 4.3 5.8 5.7 5.4 5.1\n",
       " [19] 5.7 5.1 5.4 5.1 4.6 5.1 4.8 5.0 5.0 5.2 5.2 4.7 4.8 5.4 5.2 5.5 4.9 5.0\n",
       " [37] 5.5 4.9 4.4 5.1 5.0 4.5 4.4 5.0 5.1 4.8 5.1 4.6 5.3 5.0 7.0 6.4 6.9 5.5\n",
       " [55] 6.5 5.7 6.3 4.9 6.6 5.2 5.0 5.9 6.0 6.1 5.6 6.7 5.6 5.8 6.2 5.6 5.9 6.1\n",
       " [73] 6.3 6.1 6.4 6.6 6.8 6.7 6.0 5.7 5.5 5.5 5.8 6.0 5.4 6.0 6.7 6.3 5.6 5.5\n",
       " [91] 5.5 6.1 5.8 5.0 5.6 5.7 5.7 6.2 5.1 5.7 6.3 5.8 7.1 6.3 6.5 7.6 4.9 7.3\n",
       "[109] 6.7 7.2 6.5 6.4 6.8 5.7 5.8 6.4 6.5 7.7 7.7 6.0 6.9 5.6 7.7 6.3 6.7 7.2\n",
       "[127] 6.2 6.1 6.4 7.2 7.4 7.9 6.4 6.3 6.1 7.7 6.3 6.4 6.0 6.9 6.7 6.9 5.8 6.8\n",
       "[145] 6.7 6.7 6.3 6.5 6.2 5.9"
      ]
     },
     "metadata": {},
     "output_type": "display_data"
    }
   ],
   "source": [
    "iris$Sepal.Length"
   ]
  },
  {
   "cell_type": "code",
   "execution_count": 135,
   "id": "a085044d",
   "metadata": {
    "vscode": {
     "languageId": "r"
    }
   },
   "outputs": [
    {
     "data": {
      "text/html": [
       "4.3"
      ],
      "text/latex": [
       "4.3"
      ],
      "text/markdown": [
       "4.3"
      ],
      "text/plain": [
       "[1] 4.3"
      ]
     },
     "metadata": {},
     "output_type": "display_data"
    },
    {
     "data": {
      "text/html": [
       "5.84333333333333"
      ],
      "text/latex": [
       "5.84333333333333"
      ],
      "text/markdown": [
       "5.84333333333333"
      ],
      "text/plain": [
       "[1] 5.843333"
      ]
     },
     "metadata": {},
     "output_type": "display_data"
    },
    {
     "data": {
      "text/html": [
       "7.9"
      ],
      "text/latex": [
       "7.9"
      ],
      "text/markdown": [
       "7.9"
      ],
      "text/plain": [
       "[1] 7.9"
      ]
     },
     "metadata": {},
     "output_type": "display_data"
    },
    {
     "data": {
      "text/html": [
       "5.8"
      ],
      "text/latex": [
       "5.8"
      ],
      "text/markdown": [
       "5.8"
      ],
      "text/plain": [
       "[1] 5.8"
      ]
     },
     "metadata": {},
     "output_type": "display_data"
    },
    {
     "data": {
      "text/html": [
       "0.828066127977863"
      ],
      "text/latex": [
       "0.828066127977863"
      ],
      "text/markdown": [
       "0.828066127977863"
      ],
      "text/plain": [
       "[1] 0.8280661"
      ]
     },
     "metadata": {},
     "output_type": "display_data"
    }
   ],
   "source": [
    "min(iris$Sepal.Length)\n",
    "mean(iris$Sepal.Length)\n",
    "max(iris$Sepal.Length)\n",
    "median(iris$Sepal.Length)\n",
    "sd(iris$Sepal.Length)"
   ]
  },
  {
   "cell_type": "code",
   "execution_count": null,
   "id": "56f709d4",
   "metadata": {
    "vscode": {
     "languageId": "r"
    }
   },
   "outputs": [
    {
     "data": {
      "text/html": [
       "<table class=\"dataframe\">\n",
       "<caption>A data.frame: 4 × 5</caption>\n",
       "<thead>\n",
       "\t<tr><th></th><th scope=col>Sepal.Length</th><th scope=col>Sepal.Width</th><th scope=col>Petal.Length</th><th scope=col>Petal.Width</th><th scope=col>Species</th></tr>\n",
       "\t<tr><th></th><th scope=col>&lt;dbl&gt;</th><th scope=col>&lt;dbl&gt;</th><th scope=col>&lt;dbl&gt;</th><th scope=col>&lt;dbl&gt;</th><th scope=col>&lt;fct&gt;</th></tr>\n",
       "</thead>\n",
       "<tbody>\n",
       "\t<tr><th scope=row>106</th><td>7.6</td><td>3.0</td><td>6.6</td><td>2.1</td><td>virginica</td></tr>\n",
       "\t<tr><th scope=row>118</th><td>7.7</td><td>3.8</td><td>6.7</td><td>2.2</td><td>virginica</td></tr>\n",
       "\t<tr><th scope=row>119</th><td>7.7</td><td>2.6</td><td>6.9</td><td>2.3</td><td>virginica</td></tr>\n",
       "\t<tr><th scope=row>123</th><td>7.7</td><td>2.8</td><td>6.7</td><td>2.0</td><td>virginica</td></tr>\n",
       "</tbody>\n",
       "</table>\n"
      ],
      "text/latex": [
       "A data.frame: 4 × 5\n",
       "\\begin{tabular}{r|lllll}\n",
       "  & Sepal.Length & Sepal.Width & Petal.Length & Petal.Width & Species\\\\\n",
       "  & <dbl> & <dbl> & <dbl> & <dbl> & <fct>\\\\\n",
       "\\hline\n",
       "\t106 & 7.6 & 3.0 & 6.6 & 2.1 & virginica\\\\\n",
       "\t118 & 7.7 & 3.8 & 6.7 & 2.2 & virginica\\\\\n",
       "\t119 & 7.7 & 2.6 & 6.9 & 2.3 & virginica\\\\\n",
       "\t123 & 7.7 & 2.8 & 6.7 & 2.0 & virginica\\\\\n",
       "\\end{tabular}\n"
      ],
      "text/markdown": [
       "\n",
       "A data.frame: 4 × 5\n",
       "\n",
       "| <!--/--> | Sepal.Length &lt;dbl&gt; | Sepal.Width &lt;dbl&gt; | Petal.Length &lt;dbl&gt; | Petal.Width &lt;dbl&gt; | Species &lt;fct&gt; |\n",
       "|---|---|---|---|---|---|\n",
       "| 106 | 7.6 | 3.0 | 6.6 | 2.1 | virginica |\n",
       "| 118 | 7.7 | 3.8 | 6.7 | 2.2 | virginica |\n",
       "| 119 | 7.7 | 2.6 | 6.9 | 2.3 | virginica |\n",
       "| 123 | 7.7 | 2.8 | 6.7 | 2.0 | virginica |\n",
       "\n"
      ],
      "text/plain": [
       "    Sepal.Length Sepal.Width Petal.Length Petal.Width Species  \n",
       "106 7.6          3.0         6.6          2.1         virginica\n",
       "118 7.7          3.8         6.7          2.2         virginica\n",
       "119 7.7          2.6         6.9          2.3         virginica\n",
       "123 7.7          2.8         6.7          2.0         virginica"
      ]
     },
     "metadata": {},
     "output_type": "display_data"
    }
   ],
   "source": [
    "subset(iris, Species=='virginica' & Petal.Length > 6.5)  # basically df.query()"
   ]
  },
  {
   "cell_type": "markdown",
   "id": "a216b77a",
   "metadata": {},
   "source": [
    "Accessing rows and columns via \"index\""
   ]
  },
  {
   "cell_type": "code",
   "execution_count": null,
   "id": "2fa935d0",
   "metadata": {
    "vscode": {
     "languageId": "r"
    }
   },
   "outputs": [
    {
     "data": {
      "text/html": [
       "<table class=\"dataframe\">\n",
       "<caption>A data.frame: 1 × 5</caption>\n",
       "<thead>\n",
       "\t<tr><th></th><th scope=col>Sepal.Length</th><th scope=col>Sepal.Width</th><th scope=col>Petal.Length</th><th scope=col>Petal.Width</th><th scope=col>Species</th></tr>\n",
       "\t<tr><th></th><th scope=col>&lt;dbl&gt;</th><th scope=col>&lt;dbl&gt;</th><th scope=col>&lt;dbl&gt;</th><th scope=col>&lt;dbl&gt;</th><th scope=col>&lt;fct&gt;</th></tr>\n",
       "</thead>\n",
       "<tbody>\n",
       "\t<tr><th scope=row>1</th><td>5.1</td><td>3.5</td><td>1.4</td><td>0.2</td><td>setosa</td></tr>\n",
       "</tbody>\n",
       "</table>\n"
      ],
      "text/latex": [
       "A data.frame: 1 × 5\n",
       "\\begin{tabular}{r|lllll}\n",
       "  & Sepal.Length & Sepal.Width & Petal.Length & Petal.Width & Species\\\\\n",
       "  & <dbl> & <dbl> & <dbl> & <dbl> & <fct>\\\\\n",
       "\\hline\n",
       "\t1 & 5.1 & 3.5 & 1.4 & 0.2 & setosa\\\\\n",
       "\\end{tabular}\n"
      ],
      "text/markdown": [
       "\n",
       "A data.frame: 1 × 5\n",
       "\n",
       "| <!--/--> | Sepal.Length &lt;dbl&gt; | Sepal.Width &lt;dbl&gt; | Petal.Length &lt;dbl&gt; | Petal.Width &lt;dbl&gt; | Species &lt;fct&gt; |\n",
       "|---|---|---|---|---|---|\n",
       "| 1 | 5.1 | 3.5 | 1.4 | 0.2 | setosa |\n",
       "\n"
      ],
      "text/plain": [
       "  Sepal.Length Sepal.Width Petal.Length Petal.Width Species\n",
       "1 5.1          3.5         1.4          0.2         setosa "
      ]
     },
     "metadata": {},
     "output_type": "display_data"
    },
    {
     "data": {
      "text/html": [
       "<style>\n",
       ".list-inline {list-style: none; margin:0; padding: 0}\n",
       ".list-inline>li {display: inline-block}\n",
       ".list-inline>li:not(:last-child)::after {content: \"\\00b7\"; padding: 0 .5ex}\n",
       "</style>\n",
       "<ol class=list-inline><li>5.1</li><li>4.9</li><li>4.7</li><li>4.6</li><li>5</li><li>5.4</li><li>4.6</li><li>5</li><li>4.4</li><li>4.9</li><li>5.4</li><li>4.8</li><li>4.8</li><li>4.3</li><li>5.8</li><li>5.7</li><li>5.4</li><li>5.1</li><li>5.7</li><li>5.1</li><li>5.4</li><li>5.1</li><li>4.6</li><li>5.1</li><li>4.8</li><li>5</li><li>5</li><li>5.2</li><li>5.2</li><li>4.7</li><li>4.8</li><li>5.4</li><li>5.2</li><li>5.5</li><li>4.9</li><li>5</li><li>5.5</li><li>4.9</li><li>4.4</li><li>5.1</li><li>5</li><li>4.5</li><li>4.4</li><li>5</li><li>5.1</li><li>4.8</li><li>5.1</li><li>4.6</li><li>5.3</li><li>5</li><li>7</li><li>6.4</li><li>6.9</li><li>5.5</li><li>6.5</li><li>5.7</li><li>6.3</li><li>4.9</li><li>6.6</li><li>5.2</li><li>5</li><li>5.9</li><li>6</li><li>6.1</li><li>5.6</li><li>6.7</li><li>5.6</li><li>5.8</li><li>6.2</li><li>5.6</li><li>5.9</li><li>6.1</li><li>6.3</li><li>6.1</li><li>6.4</li><li>6.6</li><li>6.8</li><li>6.7</li><li>6</li><li>5.7</li><li>5.5</li><li>5.5</li><li>5.8</li><li>6</li><li>5.4</li><li>6</li><li>6.7</li><li>6.3</li><li>5.6</li><li>5.5</li><li>5.5</li><li>6.1</li><li>5.8</li><li>5</li><li>5.6</li><li>5.7</li><li>5.7</li><li>6.2</li><li>5.1</li><li>5.7</li><li>6.3</li><li>5.8</li><li>7.1</li><li>6.3</li><li>6.5</li><li>7.6</li><li>4.9</li><li>7.3</li><li>6.7</li><li>7.2</li><li>6.5</li><li>6.4</li><li>6.8</li><li>5.7</li><li>5.8</li><li>6.4</li><li>6.5</li><li>7.7</li><li>7.7</li><li>6</li><li>6.9</li><li>5.6</li><li>7.7</li><li>6.3</li><li>6.7</li><li>7.2</li><li>6.2</li><li>6.1</li><li>6.4</li><li>7.2</li><li>7.4</li><li>7.9</li><li>6.4</li><li>6.3</li><li>6.1</li><li>7.7</li><li>6.3</li><li>6.4</li><li>6</li><li>6.9</li><li>6.7</li><li>6.9</li><li>5.8</li><li>6.8</li><li>6.7</li><li>6.7</li><li>6.3</li><li>6.5</li><li>6.2</li><li>5.9</li></ol>\n"
      ],
      "text/latex": [
       "\\begin{enumerate*}\n",
       "\\item 5.1\n",
       "\\item 4.9\n",
       "\\item 4.7\n",
       "\\item 4.6\n",
       "\\item 5\n",
       "\\item 5.4\n",
       "\\item 4.6\n",
       "\\item 5\n",
       "\\item 4.4\n",
       "\\item 4.9\n",
       "\\item 5.4\n",
       "\\item 4.8\n",
       "\\item 4.8\n",
       "\\item 4.3\n",
       "\\item 5.8\n",
       "\\item 5.7\n",
       "\\item 5.4\n",
       "\\item 5.1\n",
       "\\item 5.7\n",
       "\\item 5.1\n",
       "\\item 5.4\n",
       "\\item 5.1\n",
       "\\item 4.6\n",
       "\\item 5.1\n",
       "\\item 4.8\n",
       "\\item 5\n",
       "\\item 5\n",
       "\\item 5.2\n",
       "\\item 5.2\n",
       "\\item 4.7\n",
       "\\item 4.8\n",
       "\\item 5.4\n",
       "\\item 5.2\n",
       "\\item 5.5\n",
       "\\item 4.9\n",
       "\\item 5\n",
       "\\item 5.5\n",
       "\\item 4.9\n",
       "\\item 4.4\n",
       "\\item 5.1\n",
       "\\item 5\n",
       "\\item 4.5\n",
       "\\item 4.4\n",
       "\\item 5\n",
       "\\item 5.1\n",
       "\\item 4.8\n",
       "\\item 5.1\n",
       "\\item 4.6\n",
       "\\item 5.3\n",
       "\\item 5\n",
       "\\item 7\n",
       "\\item 6.4\n",
       "\\item 6.9\n",
       "\\item 5.5\n",
       "\\item 6.5\n",
       "\\item 5.7\n",
       "\\item 6.3\n",
       "\\item 4.9\n",
       "\\item 6.6\n",
       "\\item 5.2\n",
       "\\item 5\n",
       "\\item 5.9\n",
       "\\item 6\n",
       "\\item 6.1\n",
       "\\item 5.6\n",
       "\\item 6.7\n",
       "\\item 5.6\n",
       "\\item 5.8\n",
       "\\item 6.2\n",
       "\\item 5.6\n",
       "\\item 5.9\n",
       "\\item 6.1\n",
       "\\item 6.3\n",
       "\\item 6.1\n",
       "\\item 6.4\n",
       "\\item 6.6\n",
       "\\item 6.8\n",
       "\\item 6.7\n",
       "\\item 6\n",
       "\\item 5.7\n",
       "\\item 5.5\n",
       "\\item 5.5\n",
       "\\item 5.8\n",
       "\\item 6\n",
       "\\item 5.4\n",
       "\\item 6\n",
       "\\item 6.7\n",
       "\\item 6.3\n",
       "\\item 5.6\n",
       "\\item 5.5\n",
       "\\item 5.5\n",
       "\\item 6.1\n",
       "\\item 5.8\n",
       "\\item 5\n",
       "\\item 5.6\n",
       "\\item 5.7\n",
       "\\item 5.7\n",
       "\\item 6.2\n",
       "\\item 5.1\n",
       "\\item 5.7\n",
       "\\item 6.3\n",
       "\\item 5.8\n",
       "\\item 7.1\n",
       "\\item 6.3\n",
       "\\item 6.5\n",
       "\\item 7.6\n",
       "\\item 4.9\n",
       "\\item 7.3\n",
       "\\item 6.7\n",
       "\\item 7.2\n",
       "\\item 6.5\n",
       "\\item 6.4\n",
       "\\item 6.8\n",
       "\\item 5.7\n",
       "\\item 5.8\n",
       "\\item 6.4\n",
       "\\item 6.5\n",
       "\\item 7.7\n",
       "\\item 7.7\n",
       "\\item 6\n",
       "\\item 6.9\n",
       "\\item 5.6\n",
       "\\item 7.7\n",
       "\\item 6.3\n",
       "\\item 6.7\n",
       "\\item 7.2\n",
       "\\item 6.2\n",
       "\\item 6.1\n",
       "\\item 6.4\n",
       "\\item 7.2\n",
       "\\item 7.4\n",
       "\\item 7.9\n",
       "\\item 6.4\n",
       "\\item 6.3\n",
       "\\item 6.1\n",
       "\\item 7.7\n",
       "\\item 6.3\n",
       "\\item 6.4\n",
       "\\item 6\n",
       "\\item 6.9\n",
       "\\item 6.7\n",
       "\\item 6.9\n",
       "\\item 5.8\n",
       "\\item 6.8\n",
       "\\item 6.7\n",
       "\\item 6.7\n",
       "\\item 6.3\n",
       "\\item 6.5\n",
       "\\item 6.2\n",
       "\\item 5.9\n",
       "\\end{enumerate*}\n"
      ],
      "text/markdown": [
       "1. 5.1\n",
       "2. 4.9\n",
       "3. 4.7\n",
       "4. 4.6\n",
       "5. 5\n",
       "6. 5.4\n",
       "7. 4.6\n",
       "8. 5\n",
       "9. 4.4\n",
       "10. 4.9\n",
       "11. 5.4\n",
       "12. 4.8\n",
       "13. 4.8\n",
       "14. 4.3\n",
       "15. 5.8\n",
       "16. 5.7\n",
       "17. 5.4\n",
       "18. 5.1\n",
       "19. 5.7\n",
       "20. 5.1\n",
       "21. 5.4\n",
       "22. 5.1\n",
       "23. 4.6\n",
       "24. 5.1\n",
       "25. 4.8\n",
       "26. 5\n",
       "27. 5\n",
       "28. 5.2\n",
       "29. 5.2\n",
       "30. 4.7\n",
       "31. 4.8\n",
       "32. 5.4\n",
       "33. 5.2\n",
       "34. 5.5\n",
       "35. 4.9\n",
       "36. 5\n",
       "37. 5.5\n",
       "38. 4.9\n",
       "39. 4.4\n",
       "40. 5.1\n",
       "41. 5\n",
       "42. 4.5\n",
       "43. 4.4\n",
       "44. 5\n",
       "45. 5.1\n",
       "46. 4.8\n",
       "47. 5.1\n",
       "48. 4.6\n",
       "49. 5.3\n",
       "50. 5\n",
       "51. 7\n",
       "52. 6.4\n",
       "53. 6.9\n",
       "54. 5.5\n",
       "55. 6.5\n",
       "56. 5.7\n",
       "57. 6.3\n",
       "58. 4.9\n",
       "59. 6.6\n",
       "60. 5.2\n",
       "61. 5\n",
       "62. 5.9\n",
       "63. 6\n",
       "64. 6.1\n",
       "65. 5.6\n",
       "66. 6.7\n",
       "67. 5.6\n",
       "68. 5.8\n",
       "69. 6.2\n",
       "70. 5.6\n",
       "71. 5.9\n",
       "72. 6.1\n",
       "73. 6.3\n",
       "74. 6.1\n",
       "75. 6.4\n",
       "76. 6.6\n",
       "77. 6.8\n",
       "78. 6.7\n",
       "79. 6\n",
       "80. 5.7\n",
       "81. 5.5\n",
       "82. 5.5\n",
       "83. 5.8\n",
       "84. 6\n",
       "85. 5.4\n",
       "86. 6\n",
       "87. 6.7\n",
       "88. 6.3\n",
       "89. 5.6\n",
       "90. 5.5\n",
       "91. 5.5\n",
       "92. 6.1\n",
       "93. 5.8\n",
       "94. 5\n",
       "95. 5.6\n",
       "96. 5.7\n",
       "97. 5.7\n",
       "98. 6.2\n",
       "99. 5.1\n",
       "100. 5.7\n",
       "101. 6.3\n",
       "102. 5.8\n",
       "103. 7.1\n",
       "104. 6.3\n",
       "105. 6.5\n",
       "106. 7.6\n",
       "107. 4.9\n",
       "108. 7.3\n",
       "109. 6.7\n",
       "110. 7.2\n",
       "111. 6.5\n",
       "112. 6.4\n",
       "113. 6.8\n",
       "114. 5.7\n",
       "115. 5.8\n",
       "116. 6.4\n",
       "117. 6.5\n",
       "118. 7.7\n",
       "119. 7.7\n",
       "120. 6\n",
       "121. 6.9\n",
       "122. 5.6\n",
       "123. 7.7\n",
       "124. 6.3\n",
       "125. 6.7\n",
       "126. 7.2\n",
       "127. 6.2\n",
       "128. 6.1\n",
       "129. 6.4\n",
       "130. 7.2\n",
       "131. 7.4\n",
       "132. 7.9\n",
       "133. 6.4\n",
       "134. 6.3\n",
       "135. 6.1\n",
       "136. 7.7\n",
       "137. 6.3\n",
       "138. 6.4\n",
       "139. 6\n",
       "140. 6.9\n",
       "141. 6.7\n",
       "142. 6.9\n",
       "143. 5.8\n",
       "144. 6.8\n",
       "145. 6.7\n",
       "146. 6.7\n",
       "147. 6.3\n",
       "148. 6.5\n",
       "149. 6.2\n",
       "150. 5.9\n",
       "\n",
       "\n"
      ],
      "text/plain": [
       "  [1] 5.1 4.9 4.7 4.6 5.0 5.4 4.6 5.0 4.4 4.9 5.4 4.8 4.8 4.3 5.8 5.7 5.4 5.1\n",
       " [19] 5.7 5.1 5.4 5.1 4.6 5.1 4.8 5.0 5.0 5.2 5.2 4.7 4.8 5.4 5.2 5.5 4.9 5.0\n",
       " [37] 5.5 4.9 4.4 5.1 5.0 4.5 4.4 5.0 5.1 4.8 5.1 4.6 5.3 5.0 7.0 6.4 6.9 5.5\n",
       " [55] 6.5 5.7 6.3 4.9 6.6 5.2 5.0 5.9 6.0 6.1 5.6 6.7 5.6 5.8 6.2 5.6 5.9 6.1\n",
       " [73] 6.3 6.1 6.4 6.6 6.8 6.7 6.0 5.7 5.5 5.5 5.8 6.0 5.4 6.0 6.7 6.3 5.6 5.5\n",
       " [91] 5.5 6.1 5.8 5.0 5.6 5.7 5.7 6.2 5.1 5.7 6.3 5.8 7.1 6.3 6.5 7.6 4.9 7.3\n",
       "[109] 6.7 7.2 6.5 6.4 6.8 5.7 5.8 6.4 6.5 7.7 7.7 6.0 6.9 5.6 7.7 6.3 6.7 7.2\n",
       "[127] 6.2 6.1 6.4 7.2 7.4 7.9 6.4 6.3 6.1 7.7 6.3 6.4 6.0 6.9 6.7 6.9 5.8 6.8\n",
       "[145] 6.7 6.7 6.3 6.5 6.2 5.9"
      ]
     },
     "metadata": {},
     "output_type": "display_data"
    },
    {
     "data": {
      "text/html": [
       "<style>\n",
       ".list-inline {list-style: none; margin:0; padding: 0}\n",
       ".list-inline>li {display: inline-block}\n",
       ".list-inline>li:not(:last-child)::after {content: \"\\00b7\"; padding: 0 .5ex}\n",
       "</style>\n",
       "<ol class=list-inline><li>3.5</li><li>3</li><li>3.2</li><li>3.1</li><li>3.6</li><li>3.9</li><li>3.4</li></ol>\n"
      ],
      "text/latex": [
       "\\begin{enumerate*}\n",
       "\\item 3.5\n",
       "\\item 3\n",
       "\\item 3.2\n",
       "\\item 3.1\n",
       "\\item 3.6\n",
       "\\item 3.9\n",
       "\\item 3.4\n",
       "\\end{enumerate*}\n"
      ],
      "text/markdown": [
       "1. 3.5\n",
       "2. 3\n",
       "3. 3.2\n",
       "4. 3.1\n",
       "5. 3.6\n",
       "6. 3.9\n",
       "7. 3.4\n",
       "\n",
       "\n"
      ],
      "text/plain": [
       "[1] 3.5 3.0 3.2 3.1 3.6 3.9 3.4"
      ]
     },
     "metadata": {},
     "output_type": "display_data"
    }
   ],
   "source": [
    "iris[1,]\n",
    "iris[,1]\n",
    "iris[,2][1:7]  # access second column, rows 1-7"
   ]
  },
  {
   "cell_type": "code",
   "execution_count": null,
   "id": "a23a0e87",
   "metadata": {
    "vscode": {
     "languageId": "r"
    }
   },
   "outputs": [
    {
     "data": {
      "text/html": [
       "<style>\n",
       ".list-inline {list-style: none; margin:0; padding: 0}\n",
       ".list-inline>li {display: inline-block}\n",
       ".list-inline>li:not(:last-child)::after {content: \"\\00b7\"; padding: 0 .5ex}\n",
       "</style>\n",
       "<ol class=list-inline><li>'Sepal.Length'</li><li>'Sepal.Width'</li><li>'Petal.Length'</li><li>'Petal.Width'</li><li>'Species'</li></ol>\n"
      ],
      "text/latex": [
       "\\begin{enumerate*}\n",
       "\\item 'Sepal.Length'\n",
       "\\item 'Sepal.Width'\n",
       "\\item 'Petal.Length'\n",
       "\\item 'Petal.Width'\n",
       "\\item 'Species'\n",
       "\\end{enumerate*}\n"
      ],
      "text/markdown": [
       "1. 'Sepal.Length'\n",
       "2. 'Sepal.Width'\n",
       "3. 'Petal.Length'\n",
       "4. 'Petal.Width'\n",
       "5. 'Species'\n",
       "\n",
       "\n"
      ],
      "text/plain": [
       "[1] \"Sepal.Length\" \"Sepal.Width\"  \"Petal.Length\" \"Petal.Width\"  \"Species\"     "
      ]
     },
     "metadata": {},
     "output_type": "display_data"
    }
   ],
   "source": [
    "names(iris) # list dimension/column names, equiv to df.columns"
   ]
  },
  {
   "cell_type": "markdown",
   "id": "e0457406",
   "metadata": {},
   "source": [
    "\"Attach\" to a dataframe and make it active, so that you can access columns without explicitly referencing the dataframe."
   ]
  },
  {
   "cell_type": "code",
   "execution_count": 154,
   "id": "06410aef",
   "metadata": {
    "vscode": {
     "languageId": "r"
    }
   },
   "outputs": [
    {
     "data": {
      "text/html": [
       "<style>\n",
       ".list-inline {list-style: none; margin:0; padding: 0}\n",
       ".list-inline>li {display: inline-block}\n",
       ".list-inline>li:not(:last-child)::after {content: \"\\00b7\"; padding: 0 .5ex}\n",
       "</style>\n",
       "<ol class=list-inline><li>5.1</li><li>4.9</li><li>4.7</li><li>4.6</li><li>5</li><li>5.4</li><li>4.6</li><li>5</li><li>4.4</li><li>4.9</li></ol>\n"
      ],
      "text/latex": [
       "\\begin{enumerate*}\n",
       "\\item 5.1\n",
       "\\item 4.9\n",
       "\\item 4.7\n",
       "\\item 4.6\n",
       "\\item 5\n",
       "\\item 5.4\n",
       "\\item 4.6\n",
       "\\item 5\n",
       "\\item 4.4\n",
       "\\item 4.9\n",
       "\\end{enumerate*}\n"
      ],
      "text/markdown": [
       "1. 5.1\n",
       "2. 4.9\n",
       "3. 4.7\n",
       "4. 4.6\n",
       "5. 5\n",
       "6. 5.4\n",
       "7. 4.6\n",
       "8. 5\n",
       "9. 4.4\n",
       "10. 4.9\n",
       "\n",
       "\n"
      ],
      "text/plain": [
       " [1] 5.1 4.9 4.7 4.6 5.0 5.4 4.6 5.0 4.4 4.9"
      ]
     },
     "metadata": {},
     "output_type": "display_data"
    },
    {
     "data": {
      "text/html": [
       "<style>\n",
       ".list-inline {list-style: none; margin:0; padding: 0}\n",
       ".list-inline>li {display: inline-block}\n",
       ".list-inline>li:not(:last-child)::after {content: \"\\00b7\"; padding: 0 .5ex}\n",
       "</style>\n",
       "<ol class=list-inline><li>0.2</li><li>0.2</li><li>0.2</li><li>0.2</li><li>0.2</li><li>0.4</li><li>0.3</li><li>0.2</li><li>0.2</li><li>0.1</li></ol>\n"
      ],
      "text/latex": [
       "\\begin{enumerate*}\n",
       "\\item 0.2\n",
       "\\item 0.2\n",
       "\\item 0.2\n",
       "\\item 0.2\n",
       "\\item 0.2\n",
       "\\item 0.4\n",
       "\\item 0.3\n",
       "\\item 0.2\n",
       "\\item 0.2\n",
       "\\item 0.1\n",
       "\\end{enumerate*}\n"
      ],
      "text/markdown": [
       "1. 0.2\n",
       "2. 0.2\n",
       "3. 0.2\n",
       "4. 0.2\n",
       "5. 0.2\n",
       "6. 0.4\n",
       "7. 0.3\n",
       "8. 0.2\n",
       "9. 0.2\n",
       "10. 0.1\n",
       "\n",
       "\n"
      ],
      "text/plain": [
       " [1] 0.2 0.2 0.2 0.2 0.2 0.4 0.3 0.2 0.2 0.1"
      ]
     },
     "metadata": {},
     "output_type": "display_data"
    }
   ],
   "source": [
    "iris$Sepal.Length[1:10]\n",
    "iris$Petal.Width[1:10]"
   ]
  },
  {
   "cell_type": "code",
   "execution_count": 151,
   "id": "cdc3f6dc",
   "metadata": {
    "vscode": {
     "languageId": "r"
    }
   },
   "outputs": [],
   "source": [
    "attach(iris, warn.conflicts=FALSE)"
   ]
  },
  {
   "cell_type": "code",
   "execution_count": null,
   "id": "5b2d5b3a",
   "metadata": {
    "vscode": {
     "languageId": "r"
    }
   },
   "outputs": [
    {
     "data": {
      "text/html": [
       "<style>\n",
       ".list-inline {list-style: none; margin:0; padding: 0}\n",
       ".list-inline>li {display: inline-block}\n",
       ".list-inline>li:not(:last-child)::after {content: \"\\00b7\"; padding: 0 .5ex}\n",
       "</style>\n",
       "<ol class=list-inline><li>5.1</li><li>4.9</li><li>4.7</li><li>4.6</li><li>5</li><li>5.4</li><li>4.6</li><li>5</li><li>4.4</li><li>4.9</li></ol>\n"
      ],
      "text/latex": [
       "\\begin{enumerate*}\n",
       "\\item 5.1\n",
       "\\item 4.9\n",
       "\\item 4.7\n",
       "\\item 4.6\n",
       "\\item 5\n",
       "\\item 5.4\n",
       "\\item 4.6\n",
       "\\item 5\n",
       "\\item 4.4\n",
       "\\item 4.9\n",
       "\\end{enumerate*}\n"
      ],
      "text/markdown": [
       "1. 5.1\n",
       "2. 4.9\n",
       "3. 4.7\n",
       "4. 4.6\n",
       "5. 5\n",
       "6. 5.4\n",
       "7. 4.6\n",
       "8. 5\n",
       "9. 4.4\n",
       "10. 4.9\n",
       "\n",
       "\n"
      ],
      "text/plain": [
       " [1] 5.1 4.9 4.7 4.6 5.0 5.4 4.6 5.0 4.4 4.9"
      ]
     },
     "metadata": {},
     "output_type": "display_data"
    },
    {
     "data": {
      "text/html": [
       "<style>\n",
       ".list-inline {list-style: none; margin:0; padding: 0}\n",
       ".list-inline>li {display: inline-block}\n",
       ".list-inline>li:not(:last-child)::after {content: \"\\00b7\"; padding: 0 .5ex}\n",
       "</style>\n",
       "<ol class=list-inline><li>0.2</li><li>0.2</li><li>0.2</li><li>0.2</li><li>0.2</li><li>0.4</li><li>0.3</li><li>0.2</li><li>0.2</li><li>0.1</li></ol>\n"
      ],
      "text/latex": [
       "\\begin{enumerate*}\n",
       "\\item 0.2\n",
       "\\item 0.2\n",
       "\\item 0.2\n",
       "\\item 0.2\n",
       "\\item 0.2\n",
       "\\item 0.4\n",
       "\\item 0.3\n",
       "\\item 0.2\n",
       "\\item 0.2\n",
       "\\item 0.1\n",
       "\\end{enumerate*}\n"
      ],
      "text/markdown": [
       "1. 0.2\n",
       "2. 0.2\n",
       "3. 0.2\n",
       "4. 0.2\n",
       "5. 0.2\n",
       "6. 0.4\n",
       "7. 0.3\n",
       "8. 0.2\n",
       "9. 0.2\n",
       "10. 0.1\n",
       "\n",
       "\n"
      ],
      "text/plain": [
       " [1] 0.2 0.2 0.2 0.2 0.2 0.4 0.3 0.2 0.2 0.1"
      ]
     },
     "metadata": {},
     "output_type": "display_data"
    },
    {
     "data": {
      "text/html": [
       "<style>\n",
       ".dl-inline {width: auto; margin:0; padding: 0}\n",
       ".dl-inline>dt, .dl-inline>dd {float: none; width: auto; display: inline-block}\n",
       ".dl-inline>dt::after {content: \":\\0020\"; padding-right: .5ex}\n",
       ".dl-inline>dt:not(:first-of-type) {padding-left: .5ex}\n",
       "</style><dl class=dl-inline><dt>Sepal.Length</dt><dd>5.84333333333333</dd><dt>Sepal.Width</dt><dd>3.05733333333333</dd><dt>Petal.Length</dt><dd>3.758</dd><dt>Petal.Width</dt><dd>1.19933333333333</dd></dl>\n"
      ],
      "text/latex": [
       "\\begin{description*}\n",
       "\\item[Sepal.Length] 5.84333333333333\n",
       "\\item[Sepal.Width] 3.05733333333333\n",
       "\\item[Petal.Length] 3.758\n",
       "\\item[Petal.Width] 1.19933333333333\n",
       "\\end{description*}\n"
      ],
      "text/markdown": [
       "Sepal.Length\n",
       ":   5.84333333333333Sepal.Width\n",
       ":   3.05733333333333Petal.Length\n",
       ":   3.758Petal.Width\n",
       ":   1.19933333333333\n",
       "\n"
      ],
      "text/plain": [
       "Sepal.Length  Sepal.Width Petal.Length  Petal.Width \n",
       "    5.843333     3.057333     3.758000     1.199333 "
      ]
     },
     "metadata": {},
     "output_type": "display_data"
    }
   ],
   "source": [
    "Sepal.Length[1:10]\n",
    "Petal.Width[1:10]"
   ]
  },
  {
   "cell_type": "markdown",
   "id": "3d4be874",
   "metadata": {},
   "source": [
    "Get means of each column"
   ]
  },
  {
   "cell_type": "code",
   "execution_count": 160,
   "id": "5cafa9ba",
   "metadata": {
    "vscode": {
     "languageId": "r"
    }
   },
   "outputs": [
    {
     "data": {
      "text/html": [
       "<style>\n",
       ".dl-inline {width: auto; margin:0; padding: 0}\n",
       ".dl-inline>dt, .dl-inline>dd {float: none; width: auto; display: inline-block}\n",
       ".dl-inline>dt::after {content: \":\\0020\"; padding-right: .5ex}\n",
       ".dl-inline>dt:not(:first-of-type) {padding-left: .5ex}\n",
       "</style><dl class=dl-inline><dt>Sepal.Length</dt><dd>5.84333333333333</dd><dt>Sepal.Width</dt><dd>3.05733333333333</dd><dt>Petal.Length</dt><dd>3.758</dd><dt>Petal.Width</dt><dd>1.19933333333333</dd></dl>\n"
      ],
      "text/latex": [
       "\\begin{description*}\n",
       "\\item[Sepal.Length] 5.84333333333333\n",
       "\\item[Sepal.Width] 3.05733333333333\n",
       "\\item[Petal.Length] 3.758\n",
       "\\item[Petal.Width] 1.19933333333333\n",
       "\\end{description*}\n"
      ],
      "text/markdown": [
       "Sepal.Length\n",
       ":   5.84333333333333Sepal.Width\n",
       ":   3.05733333333333Petal.Length\n",
       ":   3.758Petal.Width\n",
       ":   1.19933333333333\n",
       "\n"
      ],
      "text/plain": [
       "Sepal.Length  Sepal.Width Petal.Length  Petal.Width \n",
       "    5.843333     3.057333     3.758000     1.199333 "
      ]
     },
     "metadata": {},
     "output_type": "display_data"
    }
   ],
   "source": [
    "colMeans(iris[,1:4])  # means of all 4 numeric cols"
   ]
  },
  {
   "cell_type": "markdown",
   "id": "fbac98b0",
   "metadata": {},
   "source": [
    "## Comparison Operators"
   ]
  },
  {
   "cell_type": "code",
   "execution_count": 82,
   "id": "5ee0af4c",
   "metadata": {
    "vscode": {
     "languageId": "r"
    }
   },
   "outputs": [
    {
     "data": {
      "text/html": [
       "TRUE"
      ],
      "text/latex": [
       "TRUE"
      ],
      "text/markdown": [
       "TRUE"
      ],
      "text/plain": [
       "[1] TRUE"
      ]
     },
     "metadata": {},
     "output_type": "display_data"
    },
    {
     "data": {
      "text/html": [
       "TRUE"
      ],
      "text/latex": [
       "TRUE"
      ],
      "text/markdown": [
       "TRUE"
      ],
      "text/plain": [
       "[1] TRUE"
      ]
     },
     "metadata": {},
     "output_type": "display_data"
    },
    {
     "data": {
      "text/html": [
       "TRUE"
      ],
      "text/latex": [
       "TRUE"
      ],
      "text/markdown": [
       "TRUE"
      ],
      "text/plain": [
       "[1] TRUE"
      ]
     },
     "metadata": {},
     "output_type": "display_data"
    },
    {
     "data": {
      "text/html": [
       "FALSE"
      ],
      "text/latex": [
       "FALSE"
      ],
      "text/markdown": [
       "FALSE"
      ],
      "text/plain": [
       "[1] FALSE"
      ]
     },
     "metadata": {},
     "output_type": "display_data"
    }
   ],
   "source": [
    "5 > 4\n",
    "4 == 4\n",
    "1 != 2\n",
    "\"x\" <= \"a\""
   ]
  },
  {
   "cell_type": "markdown",
   "id": "6c584036",
   "metadata": {},
   "source": [
    "Comparisons with arrays, I mean vectors."
   ]
  },
  {
   "cell_type": "code",
   "execution_count": 83,
   "id": "da1cc2c7",
   "metadata": {
    "vscode": {
     "languageId": "r"
    }
   },
   "outputs": [
    {
     "data": {
      "text/html": [
       "<style>\n",
       ".list-inline {list-style: none; margin:0; padding: 0}\n",
       ".list-inline>li {display: inline-block}\n",
       ".list-inline>li:not(:last-child)::after {content: \"\\00b7\"; padding: 0 .5ex}\n",
       "</style>\n",
       "<ol class=list-inline><li>TRUE</li><li>TRUE</li><li>TRUE</li><li>TRUE</li><li>FALSE</li></ol>\n"
      ],
      "text/latex": [
       "\\begin{enumerate*}\n",
       "\\item TRUE\n",
       "\\item TRUE\n",
       "\\item TRUE\n",
       "\\item TRUE\n",
       "\\item FALSE\n",
       "\\end{enumerate*}\n"
      ],
      "text/markdown": [
       "1. TRUE\n",
       "2. TRUE\n",
       "3. TRUE\n",
       "4. TRUE\n",
       "5. FALSE\n",
       "\n",
       "\n"
      ],
      "text/plain": [
       "[1]  TRUE  TRUE  TRUE  TRUE FALSE"
      ]
     },
     "metadata": {},
     "output_type": "display_data"
    }
   ],
   "source": [
    "lengths <- c(100, 102, 101, 99, 87)  # <- is basically =, but can be used in functions to deconflict with parameter assignments\n",
    "lengths >= 90  # comparison ran against all elements"
   ]
  },
  {
   "cell_type": "markdown",
   "id": "d2534d42",
   "metadata": {},
   "source": [
    "`any`, `all`, `which`, and `subset`"
   ]
  },
  {
   "cell_type": "code",
   "execution_count": 84,
   "id": "ec393816",
   "metadata": {
    "vscode": {
     "languageId": "r"
    }
   },
   "outputs": [
    {
     "data": {
      "text/html": [
       "TRUE"
      ],
      "text/latex": [
       "TRUE"
      ],
      "text/markdown": [
       "TRUE"
      ],
      "text/plain": [
       "[1] TRUE"
      ]
     },
     "metadata": {},
     "output_type": "display_data"
    },
    {
     "data": {
      "text/html": [
       "TRUE"
      ],
      "text/latex": [
       "TRUE"
      ],
      "text/markdown": [
       "TRUE"
      ],
      "text/plain": [
       "[1] TRUE"
      ]
     },
     "metadata": {},
     "output_type": "display_data"
    },
    {
     "data": {
      "text/html": [
       "3"
      ],
      "text/latex": [
       "3"
      ],
      "text/markdown": [
       "3"
      ],
      "text/plain": [
       "[1] 3"
      ]
     },
     "metadata": {},
     "output_type": "display_data"
    },
    {
     "data": {
      "text/html": [
       "<style>\n",
       ".list-inline {list-style: none; margin:0; padding: 0}\n",
       ".list-inline>li {display: inline-block}\n",
       ".list-inline>li:not(:last-child)::after {content: \"\\00b7\"; padding: 0 .5ex}\n",
       "</style>\n",
       "<ol class=list-inline><li>1</li><li>2</li><li>3</li><li>5</li></ol>\n"
      ],
      "text/latex": [
       "\\begin{enumerate*}\n",
       "\\item 1\n",
       "\\item 2\n",
       "\\item 3\n",
       "\\item 5\n",
       "\\end{enumerate*}\n"
      ],
      "text/markdown": [
       "1. 1\n",
       "2. 2\n",
       "3. 3\n",
       "4. 5\n",
       "\n",
       "\n"
      ],
      "text/plain": [
       "[1] 1 2 3 5"
      ]
     },
     "metadata": {},
     "output_type": "display_data"
    },
    {
     "data": {
      "text/html": [
       "44"
      ],
      "text/latex": [
       "44"
      ],
      "text/markdown": [
       "44"
      ],
      "text/plain": [
       "[1] 44"
      ]
     },
     "metadata": {},
     "output_type": "display_data"
    }
   ],
   "source": [
    "any(lengths < 200)     # are any less than 200?\n",
    "all(lengths > 0)       # are all positive?\n",
    "which(lengths == 101)  # returns index, starting at 0\n",
    "which(lengths != 99)   # returns a bunch of integers, apparently\n",
    "\n",
    "# Works like which(), but you can pull indices from other vectors\n",
    "heights = c(12, 44, 82, 91, 45)\n",
    "subset(heights, lengths > 101)  # returns second element, \n",
    "                                # or \"height of item longer than 101 units\""
   ]
  },
  {
   "cell_type": "markdown",
   "id": "37a925db",
   "metadata": {},
   "source": [
    "More `subset`"
   ]
  },
  {
   "cell_type": "code",
   "execution_count": null,
   "id": "9999aac9",
   "metadata": {
    "vscode": {
     "languageId": "r"
    }
   },
   "outputs": [
    {
     "data": {
      "text/html": [
       "<style>\n",
       ".list-inline {list-style: none; margin:0; padding: 0}\n",
       ".list-inline>li {display: inline-block}\n",
       ".list-inline>li:not(:last-child)::after {content: \"\\00b7\"; padding: 0 .5ex}\n",
       "</style>\n",
       "<ol class=list-inline><li>0</li><li>0.1</li><li>0.2</li><li>0.3</li><li>0.4</li><li>0.5</li></ol>\n"
      ],
      "text/latex": [
       "\\begin{enumerate*}\n",
       "\\item 0\n",
       "\\item 0.1\n",
       "\\item 0.2\n",
       "\\item 0.3\n",
       "\\item 0.4\n",
       "\\item 0.5\n",
       "\\end{enumerate*}\n"
      ],
      "text/markdown": [
       "1. 0\n",
       "2. 0.1\n",
       "3. 0.2\n",
       "4. 0.3\n",
       "5. 0.4\n",
       "6. 0.5\n",
       "\n",
       "\n"
      ],
      "text/plain": [
       "[1] 0.0 0.1 0.2 0.3 0.4 0.5"
      ]
     },
     "metadata": {},
     "output_type": "display_data"
    },
    {
     "data": {
      "text/html": [
       "<style>\n",
       ".list-inline {list-style: none; margin:0; padding: 0}\n",
       ".list-inline>li {display: inline-block}\n",
       ".list-inline>li:not(:last-child)::after {content: \"\\00b7\"; padding: 0 .5ex}\n",
       "</style>\n",
       "<ol class=list-inline><li>0</li><li>0</li><li>0</li><li>0</li><li>0</li><li>0</li></ol>\n"
      ],
      "text/latex": [
       "\\begin{enumerate*}\n",
       "\\item 0\n",
       "\\item 0\n",
       "\\item 0\n",
       "\\item 0\n",
       "\\item 0\n",
       "\\item 0\n",
       "\\end{enumerate*}\n"
      ],
      "text/markdown": [
       "1. 0\n",
       "2. 0\n",
       "3. 0\n",
       "4. 0\n",
       "5. 0\n",
       "6. 0\n",
       "\n",
       "\n"
      ],
      "text/plain": [
       "[1] 0 0 0 0 0 0"
      ]
     },
     "metadata": {},
     "output_type": "display_data"
    },
    {
     "data": {
      "text/html": [
       "<style>\n",
       ".list-inline {list-style: none; margin:0; padding: 0}\n",
       ".list-inline>li {display: inline-block}\n",
       ".list-inline>li:not(:last-child)::after {content: \"\\00b7\"; padding: 0 .5ex}\n",
       "</style>\n",
       "<ol class=list-inline><li>0</li><li>0</li><li>0</li><li>0</li><li>0</li><li>0</li><li>0.6</li><li>0.7</li><li>0.8</li><li>0.9</li><li>1</li></ol>\n"
      ],
      "text/latex": [
       "\\begin{enumerate*}\n",
       "\\item 0\n",
       "\\item 0\n",
       "\\item 0\n",
       "\\item 0\n",
       "\\item 0\n",
       "\\item 0\n",
       "\\item 0.6\n",
       "\\item 0.7\n",
       "\\item 0.8\n",
       "\\item 0.9\n",
       "\\item 1\n",
       "\\end{enumerate*}\n"
      ],
      "text/markdown": [
       "1. 0\n",
       "2. 0\n",
       "3. 0\n",
       "4. 0\n",
       "5. 0\n",
       "6. 0\n",
       "7. 0.6\n",
       "8. 0.7\n",
       "9. 0.8\n",
       "10. 0.9\n",
       "11. 1\n",
       "\n",
       "\n"
      ],
      "text/plain": [
       " [1] 0.0 0.0 0.0 0.0 0.0 0.0 0.6 0.7 0.8 0.9 1.0"
      ]
     },
     "metadata": {},
     "output_type": "display_data"
    }
   ],
   "source": [
    "w = seq(0,1,0.1)\n",
    "\n",
    "subset(w, w <= .5)\n",
    "w[w <= .5] = 0  # set matches to 0\n",
    "subset(w, w < .5)\n",
    "\n",
    "w"
   ]
  },
  {
   "cell_type": "markdown",
   "id": "b76bda55",
   "metadata": {},
   "source": [
    "## Flow Control, Loops, Functions"
   ]
  },
  {
   "cell_type": "markdown",
   "id": "cf95b47f",
   "metadata": {},
   "source": [
    "### If Else"
   ]
  },
  {
   "cell_type": "markdown",
   "id": "543e615d",
   "metadata": {},
   "source": [
    "It's just like other programming langs"
   ]
  },
  {
   "cell_type": "code",
   "execution_count": 166,
   "id": "a258e301",
   "metadata": {
    "vscode": {
     "languageId": "r"
    }
   },
   "outputs": [
    {
     "name": "stdout",
     "output_type": "stream",
     "text": [
      "[1] 2\n"
     ]
    }
   ],
   "source": [
    "a = 10; b = 5; c = 1;\n",
    "\n",
    "if (a < b || a == b) {\n",
    "    d = 1\n",
    "} else if (b > c && c > 0) {\n",
    "    d = 2\n",
    "} else {\n",
    "    d = 3\n",
    "}\n",
    "\n",
    "print(d)"
   ]
  },
  {
   "cell_type": "markdown",
   "id": "53779f86",
   "metadata": {},
   "source": [
    "Logical AND (`&&`) or OR (`||`) is the same, as is equality (`==`) and inequality (`!=`)."
   ]
  },
  {
   "cell_type": "markdown",
   "id": "393a6fbb",
   "metadata": {},
   "source": [
    "There is also the modulo operator (the material is calliing it \"modular\", not sure if it's different, but it just returns the remainder), except it's two percent signs (`%%`)."
   ]
  },
  {
   "cell_type": "code",
   "execution_count": 171,
   "id": "08ee1105",
   "metadata": {
    "vscode": {
     "languageId": "r"
    }
   },
   "outputs": [
    {
     "data": {
      "text/html": [
       "1"
      ],
      "text/latex": [
       "1"
      ],
      "text/markdown": [
       "1"
      ],
      "text/plain": [
       "[1] 1"
      ]
     },
     "metadata": {},
     "output_type": "display_data"
    },
    {
     "data": {
      "text/html": [
       "TRUE"
      ],
      "text/latex": [
       "TRUE"
      ],
      "text/markdown": [
       "TRUE"
      ],
      "text/plain": [
       "[1] TRUE"
      ]
     },
     "metadata": {},
     "output_type": "display_data"
    }
   ],
   "source": [
    "15 %% 7\n",
    "15 %% 3 == 0"
   ]
  },
  {
   "cell_type": "markdown",
   "id": "9603b2d5",
   "metadata": {},
   "source": [
    "### Loops"
   ]
  },
  {
   "cell_type": "markdown",
   "id": "e528de1c",
   "metadata": {},
   "source": [
    "It's quite a bit like a cross of python and other langs"
   ]
  },
  {
   "cell_type": "code",
   "execution_count": null,
   "id": "289490b5",
   "metadata": {
    "vscode": {
     "languageId": "r"
    }
   },
   "outputs": [
    {
     "name": "stdout",
     "output_type": "stream",
     "text": [
      "[1] 0\n",
      "[1] 1\n",
      "[1] 2\n",
      "[1] 3\n",
      "[1] 4\n",
      "[1] 5\n"
     ]
    },
    {
     "data": {
      "text/html": [
       "6"
      ],
      "text/latex": [
       "6"
      ],
      "text/markdown": [
       "6"
      ],
      "text/plain": [
       "[1] 6"
      ]
     },
     "metadata": {},
     "output_type": "display_data"
    }
   ],
   "source": [
    "for (i in 0:5) {\n",
    "    print(i)\n",
    "}"
   ]
  },
  {
   "cell_type": "code",
   "execution_count": null,
   "id": "0a2f22c0",
   "metadata": {
    "vscode": {
     "languageId": "r"
    }
   },
   "outputs": [
    {
     "data": {
      "text/html": [
       "<style>\n",
       ".list-inline {list-style: none; margin:0; padding: 0}\n",
       ".list-inline>li {display: inline-block}\n",
       ".list-inline>li:not(:last-child)::after {content: \"\\00b7\"; padding: 0 .5ex}\n",
       "</style>\n",
       "<ol class=list-inline><li>1</li><li>3</li><li>6</li><li>10</li><li>15</li><li>21</li><li>28</li></ol>\n"
      ],
      "text/latex": [
       "\\begin{enumerate*}\n",
       "\\item 1\n",
       "\\item 3\n",
       "\\item 6\n",
       "\\item 10\n",
       "\\item 15\n",
       "\\item 21\n",
       "\\item 28\n",
       "\\end{enumerate*}\n"
      ],
      "text/markdown": [
       "1. 1\n",
       "2. 3\n",
       "3. 6\n",
       "4. 10\n",
       "5. 15\n",
       "6. 21\n",
       "7. 28\n",
       "\n",
       "\n"
      ],
      "text/plain": [
       "[1]  1  3  6 10 15 21 28"
      ]
     },
     "metadata": {},
     "output_type": "display_data"
    }
   ],
   "source": [
    "sums = NULL  # ew\n",
    "i = 1\n",
    "s = 0\n",
    "\n",
    "for (j in 1:7) {\n",
    "    s = s + j\n",
    "    sums[i] = s \n",
    "    i = i + 1  # no ++ or +=\n",
    "}\n",
    "\n",
    "sums  # lookie there, it made a vector"
   ]
  },
  {
   "cell_type": "markdown",
   "id": "80378502",
   "metadata": {},
   "source": [
    "### Functions"
   ]
  },
  {
   "cell_type": "markdown",
   "id": "731accc9",
   "metadata": {},
   "source": [
    "You define functions by calling the `function()` function and setting that to a variable."
   ]
  },
  {
   "cell_type": "code",
   "execution_count": null,
   "id": "c6e196f2",
   "metadata": {
    "vscode": {
     "languageId": "r"
    }
   },
   "outputs": [
    {
     "data": {
      "text/html": [
       "100"
      ],
      "text/latex": [
       "100"
      ],
      "text/markdown": [
       "100"
      ],
      "text/plain": [
       "[1] 100"
      ]
     },
     "metadata": {},
     "output_type": "display_data"
    },
    {
     "data": {
      "text/html": [
       "1"
      ],
      "text/latex": [
       "1"
      ],
      "text/markdown": [
       "1"
      ],
      "text/plain": [
       "[1] 1"
      ]
     },
     "metadata": {},
     "output_type": "display_data"
    },
    {
     "data": {
      "text/html": [
       "1"
      ],
      "text/latex": [
       "1"
      ],
      "text/markdown": [
       "1"
      ],
      "text/plain": [
       "[1] 1"
      ]
     },
     "metadata": {},
     "output_type": "display_data"
    },
    {
     "data": {
      "text/html": [
       "0.1"
      ],
      "text/latex": [
       "0.1"
      ],
      "text/markdown": [
       "0.1"
      ],
      "text/plain": [
       "[1] 0.1"
      ]
     },
     "metadata": {},
     "output_type": "display_data"
    }
   ],
   "source": [
    "myFunction = function(base = 10, power = 2) {  # setting default values for the args\n",
    "    return(base^power)\n",
    "}\n",
    "\n",
    "myFunction()\n",
    "myFunction(1, 2)\n",
    "myFunction(power=100, base=1)\n",
    "myFunction(power=-1)"
   ]
  },
  {
   "cell_type": "code",
   "execution_count": 200,
   "id": "4bf1bdcc",
   "metadata": {
    "vscode": {
     "languageId": "r"
    }
   },
   "outputs": [
    {
     "data": {
      "text/html": [
       "'Hello!'"
      ],
      "text/latex": [
       "'Hello!'"
      ],
      "text/markdown": [
       "'Hello!'"
      ],
      "text/plain": [
       "[1] \"Hello!\""
      ]
     },
     "metadata": {},
     "output_type": "display_data"
    },
    {
     "data": {
      "text/html": [
       "'Hello, dawg!'"
      ],
      "text/latex": [
       "'Hello, dawg!'"
      ],
      "text/markdown": [
       "'Hello, dawg!'"
      ],
      "text/plain": [
       "[1] \"Hello, dawg!\""
      ]
     },
     "metadata": {},
     "output_type": "display_data"
    }
   ],
   "source": [
    "sayHello = function(friendName = -1) {\n",
    "    if (friendName == -1) {\n",
    "        res = \"Hello!\"\n",
    "    } else {\n",
    "        res = paste(\"Hello, \", friendName, \"!\", sep=\"\")\n",
    "    }\n",
    "\n",
    "    return(res)\n",
    "}\n",
    "\n",
    "sayHello()\n",
    "sayHello(\"dawg\")"
   ]
  },
  {
   "cell_type": "markdown",
   "id": "e33195e4",
   "metadata": {},
   "source": [
    "## Visualization and Exploratory Data Analysis"
   ]
  },
  {
   "cell_type": "markdown",
   "id": "587bf0bf",
   "metadata": {},
   "source": [
    "Use visualizations to perform EDA"
   ]
  },
  {
   "cell_type": "markdown",
   "id": "ddeebea4",
   "metadata": {},
   "source": [
    "### Reading files"
   ]
  },
  {
   "cell_type": "code",
   "execution_count": 202,
   "id": "2d1a7167",
   "metadata": {
    "vscode": {
     "languageId": "r"
    }
   },
   "outputs": [
    {
     "name": "stdout",
     "output_type": "stream",
     "text": [
      "read.table                package:utils                R Documentation\n",
      "\n",
      "_\bD_\ba_\bt_\ba _\bI_\bn_\bp_\bu_\bt\n",
      "\n",
      "_\bD_\be_\bs_\bc_\br_\bi_\bp_\bt_\bi_\bo_\bn:\n",
      "\n",
      "     Reads a file in table format and creates a data frame from it,\n",
      "     with cases corresponding to lines and variables to fields in the\n",
      "     file.\n",
      "\n",
      "_\bU_\bs_\ba_\bg_\be:\n",
      "\n",
      "     read.table(file, header = FALSE, sep = \"\", quote = \"\\\"'\",\n",
      "                dec = \".\", numerals = c(\"allow.loss\", \"warn.loss\", \"no.loss\"),\n",
      "                row.names, col.names, as.is = !stringsAsFactors, tryLogical = TRUE,\n",
      "                na.strings = \"NA\", colClasses = NA, nrows = -1,\n",
      "                skip = 0, check.names = TRUE, fill = !blank.lines.skip,\n",
      "                strip.white = FALSE, blank.lines.skip = TRUE,\n",
      "                comment.char = \"#\",\n",
      "                allowEscapes = FALSE, flush = FALSE,\n",
      "                stringsAsFactors = FALSE,\n",
      "                fileEncoding = \"\", encoding = \"unknown\", text, skipNul = FALSE)\n",
      "     \n",
      "     read.csv(file, header = TRUE, sep = \",\", quote = \"\\\"\",\n",
      "              dec = \".\", fill = TRUE, comment.char = \"\", ...)\n",
      "     \n",
      "     read.csv2(file, header = TRUE, sep = \";\", quote = \"\\\"\",\n",
      "               dec = \",\", fill = TRUE, comment.char = \"\", ...)\n",
      "     \n",
      "     read.delim(file, header = TRUE, sep = \"\\t\", quote = \"\\\"\",\n",
      "                dec = \".\", fill = TRUE, comment.char = \"\", ...)\n",
      "     \n",
      "     read.delim2(file, header = TRUE, sep = \"\\t\", quote = \"\\\"\",\n",
      "                 dec = \",\", fill = TRUE, comment.char = \"\", ...)\n",
      "     \n",
      "_\bA_\br_\bg_\bu_\bm_\be_\bn_\bt_\bs:\n",
      "\n",
      "    file: the name of the file which the data are to be read from.\n",
      "          Each row of the table appears as one line of the file.  If it\n",
      "          does not contain an _absolute_ path, the file name is\n",
      "          _relative_ to the current working directory, 'getwd()'.\n",
      "          Tilde-expansion is performed where supported.  This can be a\n",
      "          compressed file (see 'file').\n",
      "\n",
      "          Alternatively, 'file' can be a readable text-mode connection\n",
      "          (which will be opened for reading if necessary, and if so\n",
      "          'close'd (and hence destroyed) at the end of the function\n",
      "          call).  (If 'stdin()' is used, the prompts for lines may be\n",
      "          somewhat confusing.  Terminate input with a blank line or an\n",
      "          EOF signal, 'Ctrl-D' on Unix and 'Ctrl-Z' on Windows.  Any\n",
      "          pushback on 'stdin()' will be cleared before return.)\n",
      "\n",
      "          'file' can also be a complete URL.  (For the supported URL\n",
      "          schemes, see the 'URLs' section of the help for 'url'.)\n",
      "\n",
      "  header: a logical value indicating whether the file contains the\n",
      "          names of the variables as its first line.  If missing, the\n",
      "          value is determined from the file format: 'header' is set to\n",
      "          'TRUE' if and only if the first row contains one fewer field\n",
      "          than the number of columns.\n",
      "\n",
      "     sep: the field separator character.  Values on each line of the\n",
      "          file are separated by this character.  If 'sep = \"\"' (the\n",
      "          default for 'read.table') the separator is 'white space',\n",
      "          that is one or more spaces, tabs, newlines or carriage\n",
      "          returns.\n",
      "\n",
      "   quote: the set of quoting characters. To disable quoting altogether,\n",
      "          use 'quote = \"\"'.  See 'scan' for the behaviour on quotes\n",
      "          embedded in quotes.  Quoting is only considered for columns\n",
      "          read as character, which is all of them unless 'colClasses'\n",
      "          is specified.\n",
      "\n",
      "     dec: the character used in the file for decimal points.\n",
      "\n",
      "numerals: string indicating how to convert numbers whose conversion to\n",
      "          double precision would lose accuracy, see 'type.convert'.\n",
      "          Can be abbreviated.  (Applies also to complex-number inputs.)\n",
      "\n",
      "row.names: a vector of row names.  This can be a vector giving the\n",
      "          actual row names, or a single number giving the column of the\n",
      "          table which contains the row names, or character string\n",
      "          giving the name of the table column containing the row names.\n",
      "\n",
      "          If there is a header and the first row contains one fewer\n",
      "          field than the number of columns, the first column in the\n",
      "          input is used for the row names.  Otherwise if 'row.names' is\n",
      "          missing, the rows are numbered.\n",
      "\n",
      "          Using 'row.names = NULL' forces row numbering. Missing or\n",
      "          'NULL' 'row.names' generate row names that are considered to\n",
      "          be 'automatic' (and not preserved by 'as.matrix').\n",
      "\n",
      "col.names: a vector of optional names for the variables.  The default\n",
      "          is to use '\"V\"' followed by the column number.\n",
      "\n",
      "   as.is: controls conversion of character variables (insofar as they\n",
      "          are not converted to logical, numeric or complex) to factors,\n",
      "          if not otherwise specified by 'colClasses'.  Its value is\n",
      "          either a vector of logicals (values are recycled if\n",
      "          necessary), or a vector of numeric or character indices which\n",
      "          specify which columns should not be converted to factors.\n",
      "\n",
      "          Note: to suppress all conversions including those of numeric\n",
      "          columns, set 'colClasses = \"character\"'.\n",
      "\n",
      "          Note that 'as.is' is specified per column (not per variable)\n",
      "          and so includes the column of row names (if any) and any\n",
      "          columns to be skipped.\n",
      "\n",
      "tryLogical: a 'logical' determining if columns consisting entirely of\n",
      "          '\"F\"', '\"T\"', '\"FALSE\"', and '\"TRUE\"' should be converted to\n",
      "          'logical'; passed to 'type.convert', true by default.\n",
      "\n",
      "na.strings: a character vector of strings which are to be interpreted\n",
      "          as 'NA' values.  Blank fields are also considered to be\n",
      "          missing values in logical, integer, numeric and complex\n",
      "          fields.  Note that the test happens _after_ white space is\n",
      "          stripped from the input (if enabled), so 'na.strings' values\n",
      "          may need their own white space stripped in advance.\n",
      "\n",
      "colClasses: character.  A vector of classes to be assumed for the\n",
      "          columns.  If unnamed, recycled as necessary.  If named, names\n",
      "          are matched with unspecified values being taken to be 'NA'.\n",
      "\n",
      "          Possible values are 'NA' (the default, when 'type.convert' is\n",
      "          used), '\"NULL\"' (when the column is skipped), one of the\n",
      "          atomic vector classes (logical, integer, numeric, complex,\n",
      "          character, raw), or '\"factor\"', '\"Date\"' or '\"POSIXct\"'.\n",
      "          Otherwise there needs to be an 'as' method (from package\n",
      "          'methods') for conversion from '\"character\"' to the specified\n",
      "          formal class.\n",
      "\n",
      "          Note that 'colClasses' is specified per column (not per\n",
      "          variable) and so includes the column of row names (if any).\n",
      "\n",
      "   nrows: integer: the maximum number of rows to read in.  Negative and\n",
      "          other invalid values are ignored.\n",
      "\n",
      "    skip: integer: the number of lines of the data file to skip before\n",
      "          beginning to read data.\n",
      "\n",
      "check.names: logical.  If 'TRUE' then the names of the variables in the\n",
      "          data frame are checked to ensure that they are syntactically\n",
      "          valid variable names.  If necessary they are adjusted (by\n",
      "          'make.names') so that they are, and also to ensure that there\n",
      "          are no duplicates.\n",
      "\n",
      "    fill: logical. If 'TRUE' then in case the rows have unequal length,\n",
      "          blank fields are implicitly added.  See 'Details'.\n",
      "\n",
      "strip.white: logical. Used only when 'sep' has been specified, and\n",
      "          allows the stripping of leading and trailing white space from\n",
      "          unquoted 'character' fields ('numeric' fields are always\n",
      "          stripped).  See 'scan' for further details (including the\n",
      "          exact meaning of 'white space'), remembering that the columns\n",
      "          may include the row names.\n",
      "\n",
      "blank.lines.skip: logical: if 'TRUE' blank lines in the input are\n",
      "          ignored.\n",
      "\n",
      "comment.char: character: a character vector of length one containing a\n",
      "          single character or an empty string.  Use '\"\"' to turn off\n",
      "          the interpretation of comments altogether.\n",
      "\n",
      "allowEscapes: logical.  Should C-style escapes such as '\\n' be\n",
      "          processed or read verbatim (the default)?  Note that if not\n",
      "          within quotes these could be interpreted as a delimiter (but\n",
      "          not as a comment character).  For more details see 'scan'.\n",
      "\n",
      "   flush: logical: if 'TRUE', 'scan' will flush to the end of the line\n",
      "          after reading the last of the fields requested.  This allows\n",
      "          putting comments after the last field.\n",
      "\n",
      "stringsAsFactors: logical: should character vectors be converted to\n",
      "          factors?  Note that this is overridden by 'as.is' and\n",
      "          'colClasses', both of which allow finer control.\n",
      "\n",
      "fileEncoding: character string: if non-empty declares the encoding used\n",
      "          on a file when given as a character string (not on an\n",
      "          existing connection) so the character data can be re-encoded.\n",
      "          See the 'Encoding' section of the help for 'file', the 'R\n",
      "          Data Import/Export' manual and 'Note'.\n",
      "\n",
      "encoding: encoding to be assumed for input strings.  It is used to mark\n",
      "          character strings as known to be in Latin-1 or UTF-8 (see\n",
      "          'Encoding'): it is not used to re-encode the input, but\n",
      "          allows R to handle encoded strings in their native encoding\n",
      "          (if one of those two).  See 'Value' and 'Note'.\n",
      "\n",
      "    text: character string: if 'file' is not supplied and this is, then\n",
      "          data are read from the value of 'text' via a text connection.\n",
      "          Notice that a literal string can be used to include (small)\n",
      "          data sets within R code.\n",
      "\n",
      " skipNul: logical: should NULs be skipped?\n",
      "\n",
      "     ...: Further arguments to be passed to 'read.table'.\n",
      "\n",
      "_\bD_\be_\bt_\ba_\bi_\bl_\bs:\n",
      "\n",
      "     This function is the principal means of reading tabular data into\n",
      "     R.\n",
      "\n",
      "     Unless 'colClasses' is specified, all columns are read as\n",
      "     character columns and then converted using 'type.convert' to\n",
      "     logical, integer, numeric, complex or (depending on 'as.is')\n",
      "     factor as appropriate.  Quotes are (by default) interpreted in all\n",
      "     fields, so a column of values like '\"42\"' will result in an\n",
      "     integer column.\n",
      "\n",
      "     A field or line is 'blank' if it contains nothing (except\n",
      "     whitespace if no separator is specified) before a comment\n",
      "     character or the end of the field or line.\n",
      "\n",
      "     If 'row.names' is not specified and the header line has one less\n",
      "     entry than the number of columns, the first column is taken to be\n",
      "     the row names.  This allows data frames to be read in from the\n",
      "     format in which they are printed.  If 'row.names' is specified and\n",
      "     does not refer to the first column, that column is discarded from\n",
      "     such files.\n",
      "\n",
      "     The number of data columns is determined by looking at the first\n",
      "     five lines of input (or the whole input if it has less than five\n",
      "     lines), or from the length of 'col.names' if it is specified and\n",
      "     is longer.  This could conceivably be wrong if 'fill' or\n",
      "     'blank.lines.skip' are true, so specify 'col.names' if necessary\n",
      "     (as in the 'Examples').\n",
      "\n",
      "     'read.csv' and 'read.csv2' are identical to 'read.table' except\n",
      "     for the defaults.  They are intended for reading 'comma separated\n",
      "     value' files ('.csv') or ('read.csv2') the variant used in\n",
      "     countries that use a comma as decimal point and a semicolon as\n",
      "     field separator.  Similarly, 'read.delim' and 'read.delim2' are\n",
      "     for reading delimited files, defaulting to the TAB character for\n",
      "     the delimiter.  Notice that 'header = TRUE' and 'fill = TRUE' in\n",
      "     these variants, and that the comment character is disabled.\n",
      "\n",
      "     The rest of the line after a comment character is skipped; quotes\n",
      "     are not processed in comments.  Complete comment lines are allowed\n",
      "     provided 'blank.lines.skip = TRUE'; however, comment lines prior\n",
      "     to the header must have the comment character in the first\n",
      "     non-blank column.\n",
      "\n",
      "     Quoted fields with embedded newlines are supported except after a\n",
      "     comment character.  Embedded NULs are unsupported: skipping them\n",
      "     (with 'skipNul = TRUE') may work.\n",
      "\n",
      "_\bV_\ba_\bl_\bu_\be:\n",
      "\n",
      "     A data frame ('data.frame') containing a representation of the\n",
      "     data in the file.\n",
      "\n",
      "     Empty input is an error unless 'col.names' is specified, when a\n",
      "     0-row data frame is returned: similarly giving just a header line\n",
      "     if 'header = TRUE' results in a 0-row data frame.  Note that in\n",
      "     either case the columns will be logical unless 'colClasses' was\n",
      "     supplied.\n",
      "\n",
      "     Character strings in the result (including factor levels) will\n",
      "     have a declared encoding if 'encoding' is '\"latin1\"' or '\"UTF-8\"'.\n",
      "\n",
      "_\bC_\bS_\bV _\bf_\bi_\bl_\be_\bs:\n",
      "\n",
      "     See the help on 'write.csv' for the various conventions for '.csv'\n",
      "     files.  The commonest form of CSV file with row names needs to be\n",
      "     read with 'read.csv(..., row.names = 1)' to use the names in the\n",
      "     first column of the file as row names.\n",
      "\n",
      "_\bM_\be_\bm_\bo_\br_\by _\bu_\bs_\ba_\bg_\be:\n",
      "\n",
      "     These functions can use a surprising amount of memory when reading\n",
      "     large files.  There is extensive discussion in the 'R Data\n",
      "     Import/Export' manual, supplementing the notes here.\n",
      "\n",
      "     Less memory will be used if 'colClasses' is specified as one of\n",
      "     the six atomic vector classes.  This can be particularly so when\n",
      "     reading a column that takes many distinct numeric values, as\n",
      "     storing each distinct value as a character string can take up to\n",
      "     14 times as much memory as storing it as an integer.\n",
      "\n",
      "     Using 'nrows', even as a mild over-estimate, will help memory\n",
      "     usage.\n",
      "\n",
      "     Using 'comment.char = \"\"' will be appreciably faster than the\n",
      "     'read.table' default.\n",
      "\n",
      "     'read.table' is not the right tool for reading large matrices,\n",
      "     especially those with many columns: it is designed to read _data\n",
      "     frames_ which may have columns of very different classes.  Use\n",
      "     'scan' instead for matrices.\n",
      "\n",
      "_\bN_\bo_\bt_\be:\n",
      "\n",
      "     The columns referred to in 'as.is' and 'colClasses' include the\n",
      "     column of row names (if any).\n",
      "\n",
      "     There are two approaches for reading input that is not in the\n",
      "     local encoding.  If the input is known to be UTF-8 or Latin1, use\n",
      "     the 'encoding' argument to declare that.  If the input is in some\n",
      "     other encoding, then it may be translated on input.  The\n",
      "     'fileEncoding' argument achieves this by setting up a connection\n",
      "     to do the re-encoding into the current locale.  Note that on\n",
      "     Windows or other systems not running in a UTF-8 locale, this may\n",
      "     not be possible.\n",
      "\n",
      "_\bR_\be_\bf_\be_\br_\be_\bn_\bc_\be_\bs:\n",
      "\n",
      "     Chambers, J. M. (1992) _Data for models._ Chapter 3 of\n",
      "     _Statistical Models in S_ eds J. M. Chambers and T. J. Hastie,\n",
      "     Wadsworth & Brooks/Cole.\n",
      "\n",
      "_\bS_\be_\be _\bA_\bl_\bs_\bo:\n",
      "\n",
      "     The 'R Data Import/Export' manual.\n",
      "\n",
      "     'scan', 'type.convert', 'read.fwf' for reading _f_ixed _w_idth\n",
      "     _f_ormatted input; 'write.table'; 'data.frame'.\n",
      "\n",
      "     'count.fields' can be useful to determine problems with reading\n",
      "     files which result in reports of incorrect record lengths (see the\n",
      "     'Examples' below).\n",
      "\n",
      "     <https://www.rfc-editor.org/rfc/rfc4180> for the IANA definition\n",
      "     of CSV files (which requires comma as separator and CRLF line\n",
      "     endings).\n",
      "\n",
      "_\bE_\bx_\ba_\bm_\bp_\bl_\be_\bs:\n",
      "\n",
      "     ## using count.fields to handle unknown maximum number of fields\n",
      "     ## when fill = TRUE\n",
      "     test1 <- c(1:5, \"6,7\", \"8,9,10\")\n",
      "     tf <- tempfile()\n",
      "     writeLines(test1, tf)\n",
      "     \n",
      "     read.csv(tf, fill = TRUE) # 1 column\n",
      "     ncol <- max(count.fields(tf, sep = \",\"))\n",
      "     read.csv(tf, fill = TRUE, header = FALSE,\n",
      "              col.names = paste0(\"V\", seq_len(ncol)))\n",
      "     unlink(tf)\n",
      "     \n",
      "     ## \"Inline\" data set, using text=\n",
      "     ## Notice that leading and trailing empty lines are auto-trimmed\n",
      "     \n",
      "     read.table(header = TRUE, text = \"\n",
      "     a b\n",
      "     1 2\n",
      "     3 4\n",
      "     \")\n",
      "     "
     ]
    },
    {
     "name": "stdout",
     "output_type": "stream",
     "text": [
      "read.table                package:utils                R Documentation\n",
      "\n",
      "_\bD_\ba_\bt_\ba _\bI_\bn_\bp_\bu_\bt\n",
      "\n",
      "_\bD_\be_\bs_\bc_\br_\bi_\bp_\bt_\bi_\bo_\bn:\n",
      "\n",
      "     Reads a file in table format and creates a data frame from it,\n",
      "     with cases corresponding to lines and variables to fields in the\n",
      "     file.\n",
      "\n",
      "_\bU_\bs_\ba_\bg_\be:\n",
      "\n",
      "     read.table(file, header = FALSE, sep = \"\", quote = \"\\\"'\",\n",
      "                dec = \".\", numerals = c(\"allow.loss\", \"warn.loss\", \"no.loss\"),\n",
      "                row.names, col.names, as.is = !stringsAsFactors, tryLogical = TRUE,\n",
      "                na.strings = \"NA\", colClasses = NA, nrows = -1,\n",
      "                skip = 0, check.names = TRUE, fill = !blank.lines.skip,\n",
      "                strip.white = FALSE, blank.lines.skip = TRUE,\n",
      "                comment.char = \"#\",\n",
      "                allowEscapes = FALSE, flush = FALSE,\n",
      "                stringsAsFactors = FALSE,\n",
      "                fileEncoding = \"\", encoding = \"unknown\", text, skipNul = FALSE)\n",
      "     \n",
      "     read.csv(file, header = TRUE, sep = \",\", quote = \"\\\"\",\n",
      "              dec = \".\", fill = TRUE, comment.char = \"\", ...)\n",
      "     \n",
      "     read.csv2(file, header = TRUE, sep = \";\", quote = \"\\\"\",\n",
      "               dec = \",\", fill = TRUE, comment.char = \"\", ...)\n",
      "     \n",
      "     read.delim(file, header = TRUE, sep = \"\\t\", quote = \"\\\"\",\n",
      "                dec = \".\", fill = TRUE, comment.char = \"\", ...)\n",
      "     \n",
      "     read.delim2(file, header = TRUE, sep = \"\\t\", quote = \"\\\"\",\n",
      "                 dec = \",\", fill = TRUE, comment.char = \"\", ...)\n",
      "     \n",
      "_\bA_\br_\bg_\bu_\bm_\be_\bn_\bt_\bs:\n",
      "\n",
      "    file: the name of the file which the data are to be read from.\n",
      "          Each row of the table appears as one line of the file.  If it\n",
      "          does not contain an _absolute_ path, the file name is\n",
      "          _relative_ to the current working directory, 'getwd()'.\n",
      "          Tilde-expansion is performed where supported.  This can be a\n",
      "          compressed file (see 'file').\n",
      "\n",
      "          Alternatively, 'file' can be a readable text-mode connection\n",
      "          (which will be opened for reading if necessary, and if so\n",
      "          'close'd (and hence destroyed) at the end of the function\n",
      "          call).  (If 'stdin()' is used, the prompts for lines may be\n",
      "          somewhat confusing.  Terminate input with a blank line or an\n",
      "          EOF signal, 'Ctrl-D' on Unix and 'Ctrl-Z' on Windows.  Any\n",
      "          pushback on 'stdin()' will be cleared before return.)\n",
      "\n",
      "          'file' can also be a complete URL.  (For the supported URL\n",
      "          schemes, see the 'URLs' section of the help for 'url'.)\n",
      "\n",
      "  header: a logical value indicating whether the file contains the\n",
      "          names of the variables as its first line.  If missing, the\n",
      "          value is determined from the file format: 'header' is set to\n",
      "          'TRUE' if and only if the first row contains one fewer field\n",
      "          than the number of columns.\n",
      "\n",
      "     sep: the field separator character.  Values on each line of the\n",
      "          file are separated by this character.  If 'sep = \"\"' (the\n",
      "          default for 'read.table') the separator is 'white space',\n",
      "          that is one or more spaces, tabs, newlines or carriage\n",
      "          returns.\n",
      "\n",
      "   quote: the set of quoting characters. To disable quoting altogether,\n",
      "          use 'quote = \"\"'.  See 'scan' for the behaviour on quotes\n",
      "          embedded in quotes.  Quoting is only considered for columns\n",
      "          read as character, which is all of them unless 'colClasses'\n",
      "          is specified.\n",
      "\n",
      "     dec: the character used in the file for decimal points.\n",
      "\n",
      "numerals: string indicating how to convert numbers whose conversion to\n",
      "          double precision would lose accuracy, see 'type.convert'.\n",
      "          Can be abbreviated.  (Applies also to complex-number inputs.)\n",
      "\n",
      "row.names: a vector of row names.  This can be a vector giving the\n",
      "          actual row names, or a single number giving the column of the\n",
      "          table which contains the row names, or character string\n",
      "          giving the name of the table column containing the row names.\n",
      "\n",
      "          If there is a header and the first row contains one fewer\n",
      "          field than the number of columns, the first column in the\n",
      "          input is used for the row names.  Otherwise if 'row.names' is\n",
      "          missing, the rows are numbered.\n",
      "\n",
      "          Using 'row.names = NULL' forces row numbering. Missing or\n",
      "          'NULL' 'row.names' generate row names that are considered to\n",
      "          be 'automatic' (and not preserved by 'as.matrix').\n",
      "\n",
      "col.names: a vector of optional names for the variables.  The default\n",
      "          is to use '\"V\"' followed by the column number.\n",
      "\n",
      "   as.is: controls conversion of character variables (insofar as they\n",
      "          are not converted to logical, numeric or complex) to factors,\n",
      "          if not otherwise specified by 'colClasses'.  Its value is\n",
      "          either a vector of logicals (values are recycled if\n",
      "          necessary), or a vector of numeric or character indices which\n",
      "          specify which columns should not be converted to factors.\n",
      "\n",
      "          Note: to suppress all conversions including those of numeric\n",
      "          columns, set 'colClasses = \"character\"'.\n",
      "\n",
      "          Note that 'as.is' is specified per column (not per variable)\n",
      "          and so includes the column of row names (if any) and any\n",
      "          columns to be skipped.\n",
      "\n",
      "tryLogical: a 'logical' determining if columns consisting entirely of\n",
      "          '\"F\"', '\"T\"', '\"FALSE\"', and '\"TRUE\"' should be converted to\n",
      "          'logical'; passed to 'type.convert', true by default.\n",
      "\n",
      "na.strings: a character vector of strings which are to be interpreted\n",
      "          as 'NA' values.  Blank fields are also considered to be\n",
      "          missing values in logical, integer, numeric and complex\n",
      "          fields.  Note that the test happens _after_ white space is\n",
      "          stripped from the input (if enabled), so 'na.strings' values\n",
      "          may need their own white space stripped in advance.\n",
      "\n",
      "colClasses: character.  A vector of classes to be assumed for the\n",
      "          columns.  If unnamed, recycled as necessary.  If named, names\n",
      "          are matched with unspecified values being taken to be 'NA'.\n",
      "\n",
      "          Possible values are 'NA' (the default, when 'type.convert' is\n",
      "          used), '\"NULL\"' (when the column is skipped), one of the\n",
      "          atomic vector classes (logical, integer, numeric, complex,\n",
      "          character, raw), or '\"factor\"', '\"Date\"' or '\"POSIXct\"'.\n",
      "          Otherwise there needs to be an 'as' method (from package\n",
      "          'methods') for conversion from '\"character\"' to the specified\n",
      "          formal class.\n",
      "\n",
      "          Note that 'colClasses' is specified per column (not per\n",
      "          variable) and so includes the column of row names (if any).\n",
      "\n",
      "   nrows: integer: the maximum number of rows to read in.  Negative and\n",
      "          other invalid values are ignored.\n",
      "\n",
      "    skip: integer: the number of lines of the data file to skip before\n",
      "          beginning to read data.\n",
      "\n",
      "check.names: logical.  If 'TRUE' then the names of the variables in the\n",
      "          data frame are checked to ensure that they are syntactically\n",
      "          valid variable names.  If necessary they are adjusted (by\n",
      "          'make.names') so that they are, and also to ensure that there\n",
      "          are no duplicates.\n",
      "\n",
      "    fill: logical. If 'TRUE' then in case the rows have unequal length,\n",
      "          blank fields are implicitly added.  See 'Details'.\n",
      "\n",
      "strip.white: logical. Used only when 'sep' has been specified, and\n",
      "          allows the stripping of leading and trailing white space from\n",
      "          unquoted 'character' fields ('numeric' fields are always\n",
      "          stripped).  See 'scan' for further details (including the\n",
      "          exact meaning of 'white space'), remembering that the columns\n",
      "          may include the row names.\n",
      "\n",
      "blank.lines.skip: logical: if 'TRUE' blank lines in the input are\n",
      "          ignored.\n",
      "\n",
      "comment.char: character: a character vector of length one containing a\n",
      "          single character or an empty string.  Use '\"\"' to turn off\n",
      "          the interpretation of comments altogether.\n",
      "\n",
      "allowEscapes: logical.  Should C-style escapes such as '\\n' be\n",
      "          processed or read verbatim (the default)?  Note that if not\n",
      "          within quotes these could be interpreted as a delimiter (but\n",
      "          not as a comment character).  For more details see 'scan'.\n",
      "\n",
      "   flush: logical: if 'TRUE', 'scan' will flush to the end of the line\n",
      "          after reading the last of the fields requested.  This allows\n",
      "          putting comments after the last field.\n",
      "\n",
      "stringsAsFactors: logical: should character vectors be converted to\n",
      "          factors?  Note that this is overridden by 'as.is' and\n",
      "          'colClasses', both of which allow finer control.\n",
      "\n",
      "fileEncoding: character string: if non-empty declares the encoding used\n",
      "          on a file when given as a character string (not on an\n",
      "          existing connection) so the character data can be re-encoded.\n",
      "          See the 'Encoding' section of the help for 'file', the 'R\n",
      "          Data Import/Export' manual and 'Note'.\n",
      "\n",
      "encoding: encoding to be assumed for input strings.  It is used to mark\n",
      "          character strings as known to be in Latin-1 or UTF-8 (see\n",
      "          'Encoding'): it is not used to re-encode the input, but\n",
      "          allows R to handle encoded strings in their native encoding\n",
      "          (if one of those two).  See 'Value' and 'Note'.\n",
      "\n",
      "    text: character string: if 'file' is not supplied and this is, then\n",
      "          data are read from the value of 'text' via a text connection.\n",
      "          Notice that a literal string can be used to include (small)\n",
      "          data sets within R code.\n",
      "\n",
      " skipNul: logical: should NULs be skipped?\n",
      "\n",
      "     ...: Further arguments to be passed to 'read.table'.\n",
      "\n",
      "_\bD_\be_\bt_\ba_\bi_\bl_\bs:\n",
      "\n",
      "     This function is the principal means of reading tabular data into\n",
      "     R.\n",
      "\n",
      "     Unless 'colClasses' is specified, all columns are read as\n",
      "     character columns and then converted using 'type.convert' to\n",
      "     logical, integer, numeric, complex or (depending on 'as.is')\n",
      "     factor as appropriate.  Quotes are (by default) interpreted in all\n",
      "     fields, so a column of values like '\"42\"' will result in an\n",
      "     integer column.\n",
      "\n",
      "     A field or line is 'blank' if it contains nothing (except\n",
      "     whitespace if no separator is specified) before a comment\n",
      "     character or the end of the field or line.\n",
      "\n",
      "     If 'row.names' is not specified and the header line has one less\n",
      "     entry than the number of columns, the first column is taken to be\n",
      "     the row names.  This allows data frames to be read in from the\n",
      "     format in which they are printed.  If 'row.names' is specified and\n",
      "     does not refer to the first column, that column is discarded from\n",
      "     such files.\n",
      "\n",
      "     The number of data columns is determined by looking at the first\n",
      "     five lines of input (or the whole input if it has less than five\n",
      "     lines), or from the length of 'col.names' if it is specified and\n",
      "     is longer.  This could conceivably be wrong if 'fill' or\n",
      "     'blank.lines.skip' are true, so specify 'col.names' if necessary\n",
      "     (as in the 'Examples').\n",
      "\n",
      "     'read.csv' and 'read.csv2' are identical to 'read.table' except\n",
      "     for the defaults.  They are intended for reading 'comma separated\n",
      "     value' files ('.csv') or ('read.csv2') the variant used in\n",
      "     countries that use a comma as decimal point and a semicolon as\n",
      "     field separator.  Similarly, 'read.delim' and 'read.delim2' are\n",
      "     for reading delimited files, defaulting to the TAB character for\n",
      "     the delimiter.  Notice that 'header = TRUE' and 'fill = TRUE' in\n",
      "     these variants, and that the comment character is disabled.\n",
      "\n",
      "     The rest of the line after a comment character is skipped; quotes\n",
      "     are not processed in comments.  Complete comment lines are allowed\n",
      "     provided 'blank.lines.skip = TRUE'; however, comment lines prior\n",
      "     to the header must have the comment character in the first\n",
      "     non-blank column.\n",
      "\n",
      "     Quoted fields with embedded newlines are supported except after a\n",
      "     comment character.  Embedded NULs are unsupported: skipping them\n",
      "     (with 'skipNul = TRUE') may work.\n",
      "\n",
      "_\bV_\ba_\bl_\bu_\be:\n",
      "\n",
      "     A data frame ('data.frame') containing a representation of the\n",
      "     data in the file.\n",
      "\n",
      "     Empty input is an error unless 'col.names' is specified, when a\n",
      "     0-row data frame is returned: similarly giving just a header line\n",
      "     if 'header = TRUE' results in a 0-row data frame.  Note that in\n",
      "     either case the columns will be logical unless 'colClasses' was\n",
      "     supplied.\n",
      "\n",
      "     Character strings in the result (including factor levels) will\n",
      "     have a declared encoding if 'encoding' is '\"latin1\"' or '\"UTF-8\"'.\n",
      "\n",
      "_\bC_\bS_\bV _\bf_\bi_\bl_\be_\bs:\n",
      "\n",
      "     See the help on 'write.csv' for the various conventions for '.csv'\n",
      "     files.  The commonest form of CSV file with row names needs to be\n",
      "     read with 'read.csv(..., row.names = 1)' to use the names in the\n",
      "     first column of the file as row names.\n",
      "\n",
      "_\bM_\be_\bm_\bo_\br_\by _\bu_\bs_\ba_\bg_\be:\n",
      "\n",
      "     These functions can use a surprising amount of memory when reading\n",
      "     large files.  There is extensive discussion in the 'R Data\n",
      "     Import/Export' manual, supplementing the notes here.\n",
      "\n",
      "     Less memory will be used if 'colClasses' is specified as one of\n",
      "     the six atomic vector classes.  This can be particularly so when\n",
      "     reading a column that takes many distinct numeric values, as\n",
      "     storing each distinct value as a character string can take up to\n",
      "     14 times as much memory as storing it as an integer.\n",
      "\n",
      "     Using 'nrows', even as a mild over-estimate, will help memory\n",
      "     usage.\n",
      "\n",
      "     Using 'comment.char = \"\"' will be appreciably faster than the\n",
      "     'read.table' default.\n",
      "\n",
      "     'read.table' is not the right tool for reading large matrices,\n",
      "     especially those with many columns: it is designed to read _data\n",
      "     frames_ which may have columns of very different classes.  Use\n",
      "     'scan' instead for matrices.\n",
      "\n",
      "_\bN_\bo_\bt_\be:\n",
      "\n",
      "     The columns referred to in 'as.is' and 'colClasses' include the\n",
      "     column of row names (if any).\n",
      "\n",
      "     There are two approaches for reading input that is not in the\n",
      "     local encoding.  If the input is known to be UTF-8 or Latin1, use\n",
      "     the 'encoding' argument to declare that.  If the input is in some\n",
      "     other encoding, then it may be translated on input.  The\n",
      "     'fileEncoding' argument achieves this by setting up a connection\n",
      "     to do the re-encoding into the current locale.  Note that on\n",
      "     Windows or other systems not running in a UTF-8 locale, this may\n",
      "     not be possible.\n",
      "\n",
      "_\bR_\be_\bf_\be_\br_\be_\bn_\bc_\be_\bs:\n",
      "\n",
      "     Chambers, J. M. (1992) _Data for models._ Chapter 3 of\n",
      "     _Statistical Models in S_ eds J. M. Chambers and T. J. Hastie,\n",
      "     Wadsworth & Brooks/Cole.\n",
      "\n",
      "_\bS_\be_\be _\bA_\bl_\bs_\bo:\n",
      "\n",
      "     The 'R Data Import/Export' manual.\n",
      "\n",
      "     'scan', 'type.convert', 'read.fwf' for reading _f_ixed _w_idth\n",
      "     _f_ormatted input; 'write.table'; 'data.frame'.\n",
      "\n",
      "     'count.fields' can be useful to determine problems with reading\n",
      "     files which result in reports of incorrect record lengths (see the\n",
      "     'Examples' below).\n",
      "\n",
      "     <https://www.rfc-editor.org/rfc/rfc4180> for the IANA definition\n",
      "     of CSV files (which requires comma as separator and CRLF line\n",
      "     endings).\n",
      "\n",
      "_\bE_\bx_\ba_\bm_\bp_\bl_\be_\bs:\n",
      "\n",
      "     ## using count.fields to handle unknown maximum number of fields\n",
      "     ## when fill = TRUE\n",
      "     test1 <- c(1:5, \"6,7\", \"8,9,10\")\n",
      "     tf <- tempfile()\n",
      "     writeLines(test1, tf)\n",
      "     \n",
      "     read.csv(tf, fill = TRUE) # 1 column\n",
      "     ncol <- max(count.fields(tf, sep = \",\"))\n",
      "     read.csv(tf, fill = TRUE, header = FALSE,\n",
      "              col.names = paste0(\"V\", seq_len(ncol)))\n",
      "     unlink(tf)\n",
      "     \n",
      "     ## \"Inline\" data set, using text=\n",
      "     ## Notice that leading and trailing empty lines are auto-trimmed\n",
      "     \n",
      "     read.table(header = TRUE, text = \"\n",
      "     a b\n",
      "     1 2\n",
      "     3 4\n",
      "     \")\n",
      "     "
     ]
    }
   ],
   "source": [
    "# TSV\n",
    "?read.delim\n",
    "\n",
    "# CSV\n",
    "?read.csv"
   ]
  },
  {
   "cell_type": "markdown",
   "id": "bb029cb8",
   "metadata": {},
   "source": [
    "Here are also some ways to interact with the file system..."
   ]
  },
  {
   "cell_type": "code",
   "execution_count": 205,
   "id": "f0f55ba1",
   "metadata": {
    "vscode": {
     "languageId": "r"
    }
   },
   "outputs": [
    {
     "data": {
      "text/html": [
       "'c:/Users/Ethan/OneDrive/Documents/Code/R Projects/intro-to-r'"
      ],
      "text/latex": [
       "'c:/Users/Ethan/OneDrive/Documents/Code/R Projects/intro-to-r'"
      ],
      "text/markdown": [
       "'c:/Users/Ethan/OneDrive/Documents/Code/R Projects/intro-to-r'"
      ],
      "text/plain": [
       "[1] \"c:/Users/Ethan/OneDrive/Documents/Code/R Projects/intro-to-r\""
      ]
     },
     "metadata": {},
     "output_type": "display_data"
    },
    {
     "data": {
      "text/html": [
       "<style>\n",
       ".list-inline {list-style: none; margin:0; padding: 0}\n",
       ".list-inline>li {display: inline-block}\n",
       ".list-inline>li:not(:last-child)::after {content: \"\\00b7\"; padding: 0 .5ex}\n",
       "</style>\n",
       "<ol class=list-inline><li>'datasets'</li><li>'intro-to-r.ipynb'</li></ol>\n"
      ],
      "text/latex": [
       "\\begin{enumerate*}\n",
       "\\item 'datasets'\n",
       "\\item 'intro-to-r.ipynb'\n",
       "\\end{enumerate*}\n"
      ],
      "text/markdown": [
       "1. 'datasets'\n",
       "2. 'intro-to-r.ipynb'\n",
       "\n",
       "\n"
      ],
      "text/plain": [
       "[1] \"datasets\"         \"intro-to-r.ipynb\""
      ]
     },
     "metadata": {},
     "output_type": "display_data"
    },
    {
     "data": {
      "text/html": [
       "<style>\n",
       ".list-inline {list-style: none; margin:0; padding: 0}\n",
       ".list-inline>li {display: inline-block}\n",
       ".list-inline>li:not(:last-child)::after {content: \"\\00b7\"; padding: 0 .5ex}\n",
       "</style>\n",
       "<ol class=list-inline><li>'lesson3_student.rmd'</li><li>'pseudo_facebook.tsv'</li></ol>\n"
      ],
      "text/latex": [
       "\\begin{enumerate*}\n",
       "\\item 'lesson3\\_student.rmd'\n",
       "\\item 'pseudo\\_facebook.tsv'\n",
       "\\end{enumerate*}\n"
      ],
      "text/markdown": [
       "1. 'lesson3_student.rmd'\n",
       "2. 'pseudo_facebook.tsv'\n",
       "\n",
       "\n"
      ],
      "text/plain": [
       "[1] \"lesson3_student.rmd\" \"pseudo_facebook.tsv\""
      ]
     },
     "metadata": {},
     "output_type": "display_data"
    }
   ],
   "source": [
    "getwd()\n",
    "list.files()\n",
    "list.files('./datasets')\n"
   ]
  },
  {
   "cell_type": "code",
   "execution_count": 213,
   "id": "52056b9e",
   "metadata": {
    "vscode": {
     "languageId": "r"
    }
   },
   "outputs": [],
   "source": [
    "fb <- read.delim('./datasets/pseudo_facebook.tsv', sep='\\t')"
   ]
  },
  {
   "cell_type": "code",
   "execution_count": 214,
   "id": "a72917b9",
   "metadata": {
    "vscode": {
     "languageId": "r"
    }
   },
   "outputs": [
    {
     "data": {
      "text/html": [
       "<table class=\"dataframe\">\n",
       "<caption>A data.frame: 3 × 15</caption>\n",
       "<thead>\n",
       "\t<tr><th></th><th scope=col>userid</th><th scope=col>age</th><th scope=col>dob_day</th><th scope=col>dob_year</th><th scope=col>dob_month</th><th scope=col>gender</th><th scope=col>tenure</th><th scope=col>friend_count</th><th scope=col>friendships_initiated</th><th scope=col>likes</th><th scope=col>likes_received</th><th scope=col>mobile_likes</th><th scope=col>mobile_likes_received</th><th scope=col>www_likes</th><th scope=col>www_likes_received</th></tr>\n",
       "\t<tr><th></th><th scope=col>&lt;int&gt;</th><th scope=col>&lt;int&gt;</th><th scope=col>&lt;int&gt;</th><th scope=col>&lt;int&gt;</th><th scope=col>&lt;int&gt;</th><th scope=col>&lt;chr&gt;</th><th scope=col>&lt;int&gt;</th><th scope=col>&lt;int&gt;</th><th scope=col>&lt;int&gt;</th><th scope=col>&lt;int&gt;</th><th scope=col>&lt;int&gt;</th><th scope=col>&lt;int&gt;</th><th scope=col>&lt;int&gt;</th><th scope=col>&lt;int&gt;</th><th scope=col>&lt;int&gt;</th></tr>\n",
       "</thead>\n",
       "<tbody>\n",
       "\t<tr><th scope=row>1</th><td>2094382</td><td>14</td><td>19</td><td>1999</td><td>11</td><td>male  </td><td>266</td><td>0</td><td>0</td><td>0</td><td>0</td><td>0</td><td>0</td><td>0</td><td>0</td></tr>\n",
       "\t<tr><th scope=row>2</th><td>1192601</td><td>14</td><td> 2</td><td>1999</td><td>11</td><td>female</td><td>  6</td><td>0</td><td>0</td><td>0</td><td>0</td><td>0</td><td>0</td><td>0</td><td>0</td></tr>\n",
       "\t<tr><th scope=row>3</th><td>2083884</td><td>14</td><td>16</td><td>1999</td><td>11</td><td>male  </td><td> 13</td><td>0</td><td>0</td><td>0</td><td>0</td><td>0</td><td>0</td><td>0</td><td>0</td></tr>\n",
       "</tbody>\n",
       "</table>\n"
      ],
      "text/latex": [
       "A data.frame: 3 × 15\n",
       "\\begin{tabular}{r|lllllllllllllll}\n",
       "  & userid & age & dob\\_day & dob\\_year & dob\\_month & gender & tenure & friend\\_count & friendships\\_initiated & likes & likes\\_received & mobile\\_likes & mobile\\_likes\\_received & www\\_likes & www\\_likes\\_received\\\\\n",
       "  & <int> & <int> & <int> & <int> & <int> & <chr> & <int> & <int> & <int> & <int> & <int> & <int> & <int> & <int> & <int>\\\\\n",
       "\\hline\n",
       "\t1 & 2094382 & 14 & 19 & 1999 & 11 & male   & 266 & 0 & 0 & 0 & 0 & 0 & 0 & 0 & 0\\\\\n",
       "\t2 & 1192601 & 14 &  2 & 1999 & 11 & female &   6 & 0 & 0 & 0 & 0 & 0 & 0 & 0 & 0\\\\\n",
       "\t3 & 2083884 & 14 & 16 & 1999 & 11 & male   &  13 & 0 & 0 & 0 & 0 & 0 & 0 & 0 & 0\\\\\n",
       "\\end{tabular}\n"
      ],
      "text/markdown": [
       "\n",
       "A data.frame: 3 × 15\n",
       "\n",
       "| <!--/--> | userid &lt;int&gt; | age &lt;int&gt; | dob_day &lt;int&gt; | dob_year &lt;int&gt; | dob_month &lt;int&gt; | gender &lt;chr&gt; | tenure &lt;int&gt; | friend_count &lt;int&gt; | friendships_initiated &lt;int&gt; | likes &lt;int&gt; | likes_received &lt;int&gt; | mobile_likes &lt;int&gt; | mobile_likes_received &lt;int&gt; | www_likes &lt;int&gt; | www_likes_received &lt;int&gt; |\n",
       "|---|---|---|---|---|---|---|---|---|---|---|---|---|---|---|---|\n",
       "| 1 | 2094382 | 14 | 19 | 1999 | 11 | male   | 266 | 0 | 0 | 0 | 0 | 0 | 0 | 0 | 0 |\n",
       "| 2 | 1192601 | 14 |  2 | 1999 | 11 | female |   6 | 0 | 0 | 0 | 0 | 0 | 0 | 0 | 0 |\n",
       "| 3 | 2083884 | 14 | 16 | 1999 | 11 | male   |  13 | 0 | 0 | 0 | 0 | 0 | 0 | 0 | 0 |\n",
       "\n"
      ],
      "text/plain": [
       "  userid  age dob_day dob_year dob_month gender tenure friend_count\n",
       "1 2094382 14  19      1999     11        male   266    0           \n",
       "2 1192601 14   2      1999     11        female   6    0           \n",
       "3 2083884 14  16      1999     11        male    13    0           \n",
       "  friendships_initiated likes likes_received mobile_likes mobile_likes_received\n",
       "1 0                     0     0              0            0                    \n",
       "2 0                     0     0              0            0                    \n",
       "3 0                     0     0              0            0                    \n",
       "  www_likes www_likes_received\n",
       "1 0         0                 \n",
       "2 0         0                 \n",
       "3 0         0                 "
      ]
     },
     "metadata": {},
     "output_type": "display_data"
    }
   ],
   "source": [
    "head(fb, 3)"
   ]
  },
  {
   "cell_type": "code",
   "execution_count": 216,
   "id": "a982e98a",
   "metadata": {
    "vscode": {
     "languageId": "r"
    }
   },
   "outputs": [
    {
     "data": {
      "text/html": [
       "<style>\n",
       ".list-inline {list-style: none; margin:0; padding: 0}\n",
       ".list-inline>li {display: inline-block}\n",
       ".list-inline>li:not(:last-child)::after {content: \"\\00b7\"; padding: 0 .5ex}\n",
       "</style>\n",
       "<ol class=list-inline><li>'userid'</li><li>'age'</li><li>'dob_day'</li><li>'dob_year'</li><li>'dob_month'</li><li>'gender'</li><li>'tenure'</li><li>'friend_count'</li><li>'friendships_initiated'</li><li>'likes'</li><li>'likes_received'</li><li>'mobile_likes'</li><li>'mobile_likes_received'</li><li>'www_likes'</li><li>'www_likes_received'</li></ol>\n"
      ],
      "text/latex": [
       "\\begin{enumerate*}\n",
       "\\item 'userid'\n",
       "\\item 'age'\n",
       "\\item 'dob\\_day'\n",
       "\\item 'dob\\_year'\n",
       "\\item 'dob\\_month'\n",
       "\\item 'gender'\n",
       "\\item 'tenure'\n",
       "\\item 'friend\\_count'\n",
       "\\item 'friendships\\_initiated'\n",
       "\\item 'likes'\n",
       "\\item 'likes\\_received'\n",
       "\\item 'mobile\\_likes'\n",
       "\\item 'mobile\\_likes\\_received'\n",
       "\\item 'www\\_likes'\n",
       "\\item 'www\\_likes\\_received'\n",
       "\\end{enumerate*}\n"
      ],
      "text/markdown": [
       "1. 'userid'\n",
       "2. 'age'\n",
       "3. 'dob_day'\n",
       "4. 'dob_year'\n",
       "5. 'dob_month'\n",
       "6. 'gender'\n",
       "7. 'tenure'\n",
       "8. 'friend_count'\n",
       "9. 'friendships_initiated'\n",
       "10. 'likes'\n",
       "11. 'likes_received'\n",
       "12. 'mobile_likes'\n",
       "13. 'mobile_likes_received'\n",
       "14. 'www_likes'\n",
       "15. 'www_likes_received'\n",
       "\n",
       "\n"
      ],
      "text/plain": [
       " [1] \"userid\"                \"age\"                   \"dob_day\"              \n",
       " [4] \"dob_year\"              \"dob_month\"             \"gender\"               \n",
       " [7] \"tenure\"                \"friend_count\"          \"friendships_initiated\"\n",
       "[10] \"likes\"                 \"likes_received\"        \"mobile_likes\"         \n",
       "[13] \"mobile_likes_received\" \"www_likes\"             \"www_likes_received\"   "
      ]
     },
     "metadata": {},
     "output_type": "display_data"
    },
    {
     "data": {
      "text/html": [
       "<style>\n",
       ".list-inline {list-style: none; margin:0; padding: 0}\n",
       ".list-inline>li {display: inline-block}\n",
       ".list-inline>li:not(:last-child)::after {content: \"\\00b7\"; padding: 0 .5ex}\n",
       "</style>\n",
       "<ol class=list-inline><li>99003</li><li>15</li></ol>\n"
      ],
      "text/latex": [
       "\\begin{enumerate*}\n",
       "\\item 99003\n",
       "\\item 15\n",
       "\\end{enumerate*}\n"
      ],
      "text/markdown": [
       "1. 99003\n",
       "2. 15\n",
       "\n",
       "\n"
      ],
      "text/plain": [
       "[1] 99003    15"
      ]
     },
     "metadata": {},
     "output_type": "display_data"
    },
    {
     "data": {
      "text/plain": [
       "     userid             age            dob_day         dob_year   \n",
       " Min.   :1000008   Min.   : 13.00   Min.   : 1.00   Min.   :1900  \n",
       " 1st Qu.:1298806   1st Qu.: 20.00   1st Qu.: 7.00   1st Qu.:1963  \n",
       " Median :1596148   Median : 28.00   Median :14.00   Median :1985  \n",
       " Mean   :1597045   Mean   : 37.28   Mean   :14.53   Mean   :1976  \n",
       " 3rd Qu.:1895744   3rd Qu.: 50.00   3rd Qu.:22.00   3rd Qu.:1993  \n",
       " Max.   :2193542   Max.   :113.00   Max.   :31.00   Max.   :2000  \n",
       "                                                                  \n",
       "   dob_month         gender              tenure        friend_count   \n",
       " Min.   : 1.000   Length:99003       Min.   :   0.0   Min.   :   0.0  \n",
       " 1st Qu.: 3.000   Class :character   1st Qu.: 226.0   1st Qu.:  31.0  \n",
       " Median : 6.000   Mode  :character   Median : 412.0   Median :  82.0  \n",
       " Mean   : 6.283                      Mean   : 537.9   Mean   : 196.4  \n",
       " 3rd Qu.: 9.000                      3rd Qu.: 675.0   3rd Qu.: 206.0  \n",
       " Max.   :12.000                      Max.   :3139.0   Max.   :4923.0  \n",
       "                                     NA's   :2                        \n",
       " friendships_initiated     likes         likes_received      mobile_likes    \n",
       " Min.   :   0.0        Min.   :    0.0   Min.   :     0.0   Min.   :    0.0  \n",
       " 1st Qu.:  17.0        1st Qu.:    1.0   1st Qu.:     1.0   1st Qu.:    0.0  \n",
       " Median :  46.0        Median :   11.0   Median :     8.0   Median :    4.0  \n",
       " Mean   : 107.5        Mean   :  156.1   Mean   :   142.7   Mean   :  106.1  \n",
       " 3rd Qu.: 117.0        3rd Qu.:   81.0   3rd Qu.:    59.0   3rd Qu.:   46.0  \n",
       " Max.   :4144.0        Max.   :25111.0   Max.   :261197.0   Max.   :25111.0  \n",
       "                                                                             \n",
       " mobile_likes_received   www_likes        www_likes_received \n",
       " Min.   :     0.00     Min.   :    0.00   Min.   :     0.00  \n",
       " 1st Qu.:     0.00     1st Qu.:    0.00   1st Qu.:     0.00  \n",
       " Median :     4.00     Median :    0.00   Median :     2.00  \n",
       " Mean   :    84.12     Mean   :   49.96   Mean   :    58.57  \n",
       " 3rd Qu.:    33.00     3rd Qu.:    7.00   3rd Qu.:    20.00  \n",
       " Max.   :138561.00     Max.   :14865.00   Max.   :129953.00  \n",
       "                                                             "
      ]
     },
     "metadata": {},
     "output_type": "display_data"
    }
   ],
   "source": [
    "names(fb)\n",
    "dim(fb)\n",
    "summary(fb)"
   ]
  },
  {
   "cell_type": "markdown",
   "id": "f558b1c8",
   "metadata": {},
   "source": [
    "### Making Histograms"
   ]
  },
  {
   "cell_type": "markdown",
   "id": "aab391d1",
   "metadata": {},
   "source": [
    "To make a histogram of user birthdays, we'll need the `ggplot2` lib"
   ]
  },
  {
   "cell_type": "code",
   "execution_count": null,
   "id": "daf07fe1",
   "metadata": {
    "vscode": {
     "languageId": "r"
    }
   },
   "outputs": [
    {
     "name": "stderr",
     "output_type": "stream",
     "text": [
      "Installing package into 'C:/Users/Ethan/AppData/Local/R/win-library/4.5'\n",
      "(as 'lib' is unspecified)\n",
      "\n",
      "also installing the dependencies 'farver', 'labeling', 'RColorBrewer', 'viridisLite', 'pkgconfig', 'gtable', 'isoband', 'scales', 'tibble'\n",
      "\n",
      "\n"
     ]
    },
    {
     "name": "stdout",
     "output_type": "stream",
     "text": [
      "package 'farver' successfully unpacked and MD5 sums checked\n",
      "package 'labeling' successfully unpacked and MD5 sums checked\n",
      "package 'RColorBrewer' successfully unpacked and MD5 sums checked\n",
      "package 'viridisLite' successfully unpacked and MD5 sums checked\n",
      "package 'pkgconfig' successfully unpacked and MD5 sums checked\n",
      "package 'gtable' successfully unpacked and MD5 sums checked\n",
      "package 'isoband' successfully unpacked and MD5 sums checked\n",
      "package 'scales' successfully unpacked and MD5 sums checked\n",
      "package 'tibble' successfully unpacked and MD5 sums checked\n",
      "package 'ggplot2' successfully unpacked and MD5 sums checked\n",
      "\n",
      "The downloaded binary packages are in\n",
      "\tC:\\Users\\Ethan\\AppData\\Local\\Temp\\RtmpOGIYwd\\downloaded_packages\n"
     ]
    }
   ],
   "source": [
    "install.packages('ggplot2')"
   ]
  },
  {
   "cell_type": "markdown",
   "id": "5898f92f",
   "metadata": {},
   "source": [
    "Load the lib"
   ]
  },
  {
   "cell_type": "code",
   "execution_count": 218,
   "id": "cd698903",
   "metadata": {
    "vscode": {
     "languageId": "r"
    }
   },
   "outputs": [],
   "source": [
    "library(ggplot2)"
   ]
  },
  {
   "cell_type": "code",
   "execution_count": 220,
   "id": "91d35e1a",
   "metadata": {
    "vscode": {
     "languageId": "r"
    }
   },
   "outputs": [
    {
     "data": {
      "text/html": [
       "<style>\n",
       ".list-inline {list-style: none; margin:0; padding: 0}\n",
       ".list-inline>li {display: inline-block}\n",
       ".list-inline>li:not(:last-child)::after {content: \"\\00b7\"; padding: 0 .5ex}\n",
       "</style>\n",
       "<ol class=list-inline><li>'userid'</li><li>'age'</li><li>'dob_day'</li><li>'dob_year'</li><li>'dob_month'</li><li>'gender'</li><li>'tenure'</li><li>'friend_count'</li><li>'friendships_initiated'</li><li>'likes'</li><li>'likes_received'</li><li>'mobile_likes'</li><li>'mobile_likes_received'</li><li>'www_likes'</li><li>'www_likes_received'</li></ol>\n"
      ],
      "text/latex": [
       "\\begin{enumerate*}\n",
       "\\item 'userid'\n",
       "\\item 'age'\n",
       "\\item 'dob\\_day'\n",
       "\\item 'dob\\_year'\n",
       "\\item 'dob\\_month'\n",
       "\\item 'gender'\n",
       "\\item 'tenure'\n",
       "\\item 'friend\\_count'\n",
       "\\item 'friendships\\_initiated'\n",
       "\\item 'likes'\n",
       "\\item 'likes\\_received'\n",
       "\\item 'mobile\\_likes'\n",
       "\\item 'mobile\\_likes\\_received'\n",
       "\\item 'www\\_likes'\n",
       "\\item 'www\\_likes\\_received'\n",
       "\\end{enumerate*}\n"
      ],
      "text/markdown": [
       "1. 'userid'\n",
       "2. 'age'\n",
       "3. 'dob_day'\n",
       "4. 'dob_year'\n",
       "5. 'dob_month'\n",
       "6. 'gender'\n",
       "7. 'tenure'\n",
       "8. 'friend_count'\n",
       "9. 'friendships_initiated'\n",
       "10. 'likes'\n",
       "11. 'likes_received'\n",
       "12. 'mobile_likes'\n",
       "13. 'mobile_likes_received'\n",
       "14. 'www_likes'\n",
       "15. 'www_likes_received'\n",
       "\n",
       "\n"
      ],
      "text/plain": [
       " [1] \"userid\"                \"age\"                   \"dob_day\"              \n",
       " [4] \"dob_year\"              \"dob_month\"             \"gender\"               \n",
       " [7] \"tenure\"                \"friend_count\"          \"friendships_initiated\"\n",
       "[10] \"likes\"                 \"likes_received\"        \"mobile_likes\"         \n",
       "[13] \"mobile_likes_received\" \"www_likes\"             \"www_likes_received\"   "
      ]
     },
     "metadata": {},
     "output_type": "display_data"
    }
   ],
   "source": [
    "names(fb)"
   ]
  },
  {
   "cell_type": "code",
   "execution_count": 239,
   "id": "00fd1892",
   "metadata": {
    "vscode": {
     "languageId": "r"
    }
   },
   "outputs": [],
   "source": [
    "theme_set(theme_minimal(25))  # set font size"
   ]
  },
  {
   "cell_type": "code",
   "execution_count": 251,
   "id": "58f753a2",
   "metadata": {
    "vscode": {
     "languageId": "r"
    }
   },
   "outputs": [
    {
     "data": {
      "image/png": "[encoded data removed]",
      "text/plain": [
       "plot without title"
      ]
     },
     "metadata": {
      "image/png": {
       "height": 420,
       "width": 420
      }
     },
     "output_type": "display_data"
    }
   ],
   "source": [
    "qplot(x=dob_day, data=fb, bins=31)"
   ]
  },
  {
   "cell_type": "code",
   "execution_count": 252,
   "id": "0de2cdb5",
   "metadata": {
    "vscode": {
     "languageId": "r"
    }
   },
   "outputs": [
    {
     "name": "stderr",
     "output_type": "stream",
     "text": [
      "\u001b[1m\u001b[22m`stat_bin()` using `bins = 30`. Pick better value with `binwidth`.\n"
     ]
    },
    {
     "data": {
      "text/plain": [
       "<ggproto object: Class ScaleDiscretePosition, ScaleDiscrete, Scale, gg>\n",
       "    aesthetics: x xmin xmax xend\n",
       "    axis_order: function\n",
       "    break_info: function\n",
       "    break_positions: function\n",
       "    breaks: 1 2 3 4 5 6 7 8 9 10 11 12 13 14 15 16 17 18 19 20 21 22 ...\n",
       "    call: call\n",
       "    clone: function\n",
       "    dimension: function\n",
       "    drop: TRUE\n",
       "    expand: waiver\n",
       "    get_breaks: function\n",
       "    get_breaks_minor: function\n",
       "    get_labels: function\n",
       "    get_limits: function\n",
       "    get_transformation: function\n",
       "    guide: waiver\n",
       "    is_discrete: function\n",
       "    is_empty: function\n",
       "    labels: waiver\n",
       "    limits: NULL\n",
       "    make_sec_title: function\n",
       "    make_title: function\n",
       "    map: function\n",
       "    map_df: function\n",
       "    n.breaks.cache: NULL\n",
       "    na.translate: TRUE\n",
       "    na.value: NA\n",
       "    name: waiver\n",
       "    palette: function\n",
       "    palette.cache: NULL\n",
       "    position: bottom\n",
       "    range: environment\n",
       "    range_c: environment\n",
       "    rescale: function\n",
       "    reset: function\n",
       "    train: function\n",
       "    train_df: function\n",
       "    transform: function\n",
       "    transform_df: function\n",
       "    super:  <ggproto object: Class ScaleDiscretePosition, ScaleDiscrete, Scale, gg>"
      ]
     },
     "metadata": {},
     "output_type": "display_data"
    },
    {
     "data": {
      "image/png": "[encoded data removed]",
      "text/plain": [
       "plot without title"
      ]
     },
     "metadata": {
      "image/png": {
       "height": 420,
       "width": 420
      }
     },
     "output_type": "display_data"
    }
   ],
   "source": [
    "qplot(x=dob_day, data=fb)\n",
    "scale_x_discrete(breaks=1:31)"
   ]
  },
  {
   "cell_type": "markdown",
   "id": "561e8f6f",
   "metadata": {},
   "source": [
    "We can also use the `ggplot` function to make the histo"
   ]
  },
  {
   "cell_type": "code",
   "execution_count": 250,
   "id": "76477527",
   "metadata": {
    "vscode": {
     "languageId": "r"
    }
   },
   "outputs": [
    {
     "data": {
      "image/png": "[encoded data removed]",
      "text/plain": [
       "plot without title"
      ]
     },
     "metadata": {
      "image/png": {
       "height": 420,
       "width": 420
      }
     },
     "output_type": "display_data"
    }
   ],
   "source": [
    "ggplot(aes(x=dob_month), data=fb) +\n",
    "geom_histogram(binwidth=1) +\n",
    "scale_x_continuous(breaks=1:12)"
   ]
  },
  {
   "attachments": {
    "image.png": {
     "image/png": "[encoded data removed]"
    }
   },
   "cell_type": "markdown",
   "id": "7eb7cbe9",
   "metadata": {},
   "source": [
    "Faceting a histogram... or the process that splits the chart into several smaller parts and displays. Each section usually allows the same graph for a specific dataset group.\n",
    "\n",
    "![image.png](attachment:image.png)\n",
    "\n",
    "These are best created in RStudio and viewing in fullscreen"
   ]
  },
  {
   "cell_type": "code",
   "execution_count": 266,
   "id": "36e9274e",
   "metadata": {
    "vscode": {
     "languageId": "r"
    }
   },
   "outputs": [
    {
     "data": {
      "image/png": "[encoded data removed]",
      "text/plain": [
       "plot without title"
      ]
     },
     "metadata": {
      "image/png": {
       "height": 420,
       "width": 420
      }
     },
     "output_type": "display_data"
    }
   ],
   "source": [
    "ggplot(data=fb, aes(x=dob_day)) +\n",
    "geom_histogram(binwidth=1) +\n",
    "scale_x_continuous(breaks=1:31) +\n",
    "facet_wrap(~dob_month, ncol=4)"
   ]
  },
  {
   "cell_type": "code",
   "execution_count": null,
   "id": "4e4958f3",
   "metadata": {
    "vscode": {
     "languageId": "r"
    }
   },
   "outputs": [
    {
     "name": "stderr",
     "output_type": "stream",
     "text": [
      "\u001b[1m\u001b[22m`stat_bin()` using `bins = 30`. Pick better value with `binwidth`.\n"
     ]
    },
    {
     "data": {
      "image/png": "[encoded data removed]",
      "text/plain": [
       "plot without title"
      ]
     },
     "metadata": {
      "image/png": {
       "height": 420,
       "width": 420
      }
     },
     "output_type": "display_data"
    }
   ],
   "source": [
    "qplot(x=dob_day, data=fb) +\n",
    "scale_x_continuous(breaks=1:31) +\n",
    "facet_grid(vertical~horizontal)  # use this for passing 2 or more variables"
   ]
  },
  {
   "cell_type": "code",
   "execution_count": 270,
   "id": "7d190f2a",
   "metadata": {
    "vscode": {
     "languageId": "r"
    }
   },
   "outputs": [
    {
     "data": {
      "image/png": "[encoded data removed]",
      "text/plain": [
       "plot without title"
      ]
     },
     "metadata": {
      "image/png": {
       "height": 420,
       "width": 420
      }
     },
     "output_type": "display_data"
    }
   ],
   "source": [
    "ggplot(aes(x = dob_day, y = ..density..), data = fb) +\n",
    "    geom_histogram(binwidth = 1) +\n",
    "    scale_x_continuous(breaks = 1:31) +\n",
    "    facet_wrap(~gender) "
   ]
  },
  {
   "cell_type": "code",
   "execution_count": null,
   "id": "13ed75d2",
   "metadata": {
    "vscode": {
     "languageId": "r"
    }
   },
   "outputs": [],
   "source": []
  }
 ],
 "metadata": {
  "kernelspec": {
   "display_name": "R",
   "language": "R",
   "name": "ir"
  },
  "language_info": {
   "codemirror_mode": "r",
   "file_extension": ".r",
   "mimetype": "text/x-r-source",
   "name": "R",
   "pygments_lexer": "r",
   "version": "4.5.1"
  }
 },
 "nbformat": 4,
 "nbformat_minor": 5
}
